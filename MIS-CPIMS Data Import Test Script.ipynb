{
 "cells": [
  {
   "cell_type": "markdown",
   "id": "37a84c98",
   "metadata": {},
   "source": [
    "# MIS-CPIMS Data Import Scripts"
   ]
  },
  {
   "cell_type": "markdown",
   "id": "a8f5728e",
   "metadata": {},
   "source": [
    "Import pandas library and read exported CPARA data from MIS (XLSX). Display all columns for exploration."
   ]
  },
  {
   "cell_type": "code",
   "execution_count": null,
   "id": "01444a63",
   "metadata": {},
   "outputs": [],
   "source": [
    "import pandas as pd\n",
    "\n",
    "ovc_care_benchmark = pd.read_csv(\"ovc_care_benchmark.csv\")\n",
    "\n",
    "ovc_care_benchmark['is_void'] = 'f'\n",
    "\n",
    "ovc_care_benchmark.to_csv(\"ovc_care_benchmark.csv\",index=False)\n",
    "\n",
    "ovc_care_benchmark.columns"
   ]
  },
  {
   "cell_type": "code",
   "execution_count": null,
   "id": "1686ae39",
   "metadata": {},
   "outputs": [],
   "source": [
    "import pandas as pd\n",
    "\n",
    "ovc_care_benchmark = pd.read_csv(\"ovc_care_benchmark.csv\")\n",
    "\n",
    "ovc_care_benchmark.drop_duplicates()\n",
    "\n",
    "ovc_care_benchmark.head(5)"
   ]
  },
  {
   "cell_type": "code",
   "execution_count": null,
   "id": "b42090f8",
   "metadata": {},
   "outputs": [],
   "source": [
    "# make bench_mark_score_id the PK and first column\n",
    "\n",
    "import uuid\n",
    "import pandas as pd\n",
    "\n",
    "ovc_care_benchmark = pd.read_csv(\"ovc_care_benchmark_5Mar.csv\")\n",
    "\n",
    "record_counts = ovc_care_benchmark['household_id'].count()\n",
    "\n",
    "def generate_uid(count):\n",
    "    uid_list = []\n",
    "    for i in range (0, count):\n",
    "        uuid_gen = uuid.uuid4()\n",
    "        # print(f'generated uid: {uuid_gen} inte: {i}')\n",
    "        uid_list.append(uuid_gen)\n",
    "    return uid_list    \n",
    "\n",
    "df_ = pd.DataFrame(generate_uid(record_counts))\n",
    "\n",
    "\n",
    "\n",
    "ovc_care_benchmark[[\"bench_mark_score_id\"]]= df_\n",
    "\n",
    "\n",
    "ovc_care_benchmark.to_csv(\"ovc_care_benchmark.csv\",index=False)\n",
    "\n",
    "ovc_care_benchmark.head(2)"
   ]
  },
  {
   "cell_type": "code",
   "execution_count": null,
   "id": "824d740d",
   "metadata": {},
   "outputs": [],
   "source": [
    "import uuid\n",
    "import pandas as pd\n",
    "\n",
    "# read in the original data frame\n",
    "ovc_care_benchmark = pd.read_csv('ovc_care_benchmark.csv')\n",
    "\n",
    "# generate a unique UUID for each row using the apply method\n",
    "ovc_care_benchmark['bench_mark_score_id'] = ovc_care_benchmark.apply(lambda x: uuid.uuid4(), axis=1)\n",
    "\n",
    "# set the new column as the first column and set it as the primary key\n",
    "ovc_care_benchmark.set_index('bench_mark_score_id', inplace=True)\n",
    "ovc_care_benchmark.reset_index(inplace=True)\n",
    "\n",
    "# write the modified data frame back to CSV\n",
    "ovc_care_benchmark.to_csv('ovc_care_benchmark.csv', index=False)\n",
    "\n",
    "ovc_care_benchmark.head(2)\n"
   ]
  },
  {
   "cell_type": "code",
   "execution_count": null,
   "id": "7c143078",
   "metadata": {},
   "outputs": [],
   "source": [
    "import pandas as pd\n",
    "import datetime\n",
    "\n",
    "# Define function to convert date formats\n",
    "def convert_date(date_string):\n",
    "    try:\n",
    "        date = pd.to_datetime(date_string, format='%d/%m/%Y ').strftime('%Y-%m-%d')\n",
    "    except ValueError:\n",
    "        date = date_string\n",
    "    return date\n",
    "\n",
    "# Load original dataframe from CSV file\n",
    "ovc_care_benchmark = pd.read_csv('ovc_care_benchmark.csv')\n",
    "\n",
    "# Apply date conversion function to date_of_event column\n",
    "ovc_care_benchmark['date_of_event'] = ovc_care_benchmark['date_of_event'].apply(lambda x: convert_date(x))\n",
    "\n",
    "# Save updated dataframe to CSV file\n",
    "ovc_care_benchmark.to_csv('ovc_care_benchmark.csv', index=False) \n",
    "\n",
    "ovc_care_benchmark.head(2)\n",
    "\n",
    "\n",
    "\n",
    "\n"
   ]
  },
  {
   "cell_type": "code",
   "execution_count": null,
   "metadata": {},
   "outputs": [],
   "source": [
    "\n",
    "import pandas as pd\n",
    "\n",
    "ovc_care_benchmark = pd.read_csv(\"ovc_care_benchmark.csv\")\n",
    "\n",
    "\n",
    "# ovc_care_benchmark = ovc_care_benchmark.drop('Unnamed: 0', axis=1)\n",
    "# if your timestamp column is in string format, first convert it to datetime %H:%M:%S+03\n",
    "ovc_care_benchmark['timestamp_created'] = pd.to_datetime(ovc_care_benchmark['timestamp_created'])\n",
    "ovc_care_benchmark['timestamp_created'] = ovc_care_benchmark['timestamp_created'].dt.strftime('%Y-%m-%d %H:%M:%S+03')\n",
    "\n",
    "\n",
    "ovc_care_benchmark.to_csv(\"ovc_care_benchmark.csv\",index=False)\n",
    "ovc_care_benchmark.head(2)"
   ]
  },
  {
   "cell_type": "code",
   "execution_count": null,
   "id": "ebc979d2",
   "metadata": {},
   "outputs": [],
   "source": [
    "ovc_care_benchmark = pd.read_csv(\"ovc_care_benchmark.csv\")\n",
    "\n",
    "ovc_care_benchmark.head(2)\n",
    "\n"
   ]
  },
  {
   "cell_type": "code",
   "execution_count": null,
   "id": "4944ba43",
   "metadata": {},
   "outputs": [],
   "source": [
    "import pandas as pd\n",
    "\n",
    "ovc_care_benchmark = pd.read_csv(\"ovc_care_benchmark.csv\")\n",
    "\n",
    "ovc_care_benchmark = ovc_care_benchmark.drop('person_id', axis=1)\n",
    "\n",
    "ovc_care_benchmark.to_csv(\"ovc_care_benchmark.csv\",index=False)\n",
    "\n",
    "\n",
    "\n",
    "ovc_care_benchmark.columns\n"
   ]
  },
  {
   "cell_type": "code",
   "execution_count": null,
   "id": "bbb3c03f",
   "metadata": {},
   "outputs": [],
   "source": [
    "import pandas as pd\n",
    "\n",
    "ovc_care_benchmark = pd.read_csv(\"ovc_care_benchmark.csv\")\n",
    "\n",
    "ovc_care_benchmark.drop('0', axis=1)\n",
    "ovc_care_benchmark.to_csv(\"ovc_care_benchmark.csv\",index=True)\n",
    "\n",
    "ovc_care_benchmark.head(2)\n"
   ]
  },
  {
   "cell_type": "code",
   "execution_count": null,
   "id": "1358e49b",
   "metadata": {},
   "outputs": [],
   "source": [
    "# remove row with a date like '0022-' from the the dataset\n",
    "\n",
    "import pandas as pd\n",
    "\n",
    "ovc_care_benchmark = pd.read_csv(\"ovc_care_benchmark.csv\")\n",
    "\n",
    "# create a Boolean mask to filter out rows with '0022-' in date_of_event column\n",
    "mask = ~ovc_care_benchmark[\"date_of_event\"].str.contains('0022-')\n",
    "\n",
    "# apply the mask to the dataframe to exclude the rows\n",
    "ovc_care_benchmark = ovc_care_benchmark[mask]\n",
    "\n",
    "# print the filtered dataframe\n",
    "# print(ovc_care_benchmark_filtered)\n",
    "\n",
    "ovc_care_benchmark.to_csv(\"ovc_care_benchmark.csv\", index=True)\n",
    "\n",
    "ovc_care_benchmark.head(2)\n",
    "\n",
    "\n"
   ]
  },
  {
   "cell_type": "code",
   "execution_count": null,
   "id": "9b39e063",
   "metadata": {},
   "outputs": [],
   "source": [
    "# Generate UID whose length is equivalent to the U4TC cpara data\n",
    "import uuid\n",
    "\n",
    "record_counts = cpara['record_id'].count()\n",
    "\n",
    "def generate_uid(count):\n",
    "    uid_list = []\n",
    "    for i in range (0, count):\n",
    "        uuid_gen = uuid.uuid4()\n",
    "        # print(f'generated uid: {uuid_gen} inte: {i}')\n",
    "        uid_list.append(uuid_gen)\n",
    "    return uid_list    \n",
    "\n",
    "df_uid = pd.DataFrame(generate_uid(record_counts))\n",
    "print(record_counts)"
   ]
  },
  {
   "cell_type": "code",
   "execution_count": null,
   "id": "0435cd84",
   "metadata": {},
   "outputs": [],
   "source": [
    "import pandas as pd\n",
    "\n",
    "#read CPARA into pd df\n",
    "cpara_usaid = pd.read_excel(\"CPARA.xlsx\")\n",
    "\n",
    "\n",
    "\n",
    "\n"
   ]
  },
  {
   "cell_type": "code",
   "execution_count": null,
   "id": "16bff81a",
   "metadata": {},
   "outputs": [],
   "source": [
    "import pandas as pd\n",
    "# Reads USAID 4The Child cpara data\n",
    "cpara=pd.read_excel(\"CPARA.xlsx\", sheet_name=\"Sheet1\")\n",
    "# cpara.columns"
   ]
  },
  {
   "cell_type": "code",
   "execution_count": null,
   "id": "89713b24",
   "metadata": {},
   "outputs": [],
   "source": [
    "# reads the mapping for U4TC mapping for HH_id, cpims_ovc_id, caregiver id\n",
    "cpims_hhs=pd.read_csv(\"Data/Household ID OVC Mapping.csv\")"
   ]
  },
  {
   "cell_type": "code",
   "execution_count": null,
   "id": "7738b2f6",
   "metadata": {},
   "outputs": [],
   "source": [
    "# Reads individual cpara data for U4TC\n",
    "cpara_ovc_questions = pd.read_excel(\"Data/OVC_Questions.xlsx\", sheet_name=\"Sheet1\")"
   ]
  },
  {
   "cell_type": "code",
   "execution_count": null,
   "id": "d009c385",
   "metadata": {},
   "outputs": [],
   "source": [
    "# Reads the cpims questions mapping\n",
    "cpims_questions=pd.read_excel(\"Data/ovc_care_questions.xlsx\")"
   ]
  },
  {
   "cell_type": "code",
   "execution_count": null,
   "id": "7fa11bb3",
   "metadata": {},
   "outputs": [],
   "source": [
    "# Mergers cpara data with household id, cpims id on caregiver_id\n",
    "cpara_data1=pd.merge(cpara, cpims_hhs, how='left', left_on='cpims_id', right_on='caregiver_id')\n",
    "\n",
    "df_uid = pd.read_csv(\"event_id_uids.csv\")\n",
    "# Merges cpara data with the event id uids\n",
    "cpara_data2 = pd.merge(cpara_data1, df_uid['event_id'], left_index=True, right_index=True)\n",
    "# cpara_data2.columns\n",
    "\n",
    "cpara_data2.head(2)"
   ]
  },
  {
   "cell_type": "code",
   "execution_count": null,
   "id": "9942157f",
   "metadata": {},
   "outputs": [],
   "source": [
    "# output the uids mapped to hh, cg, cpims\n",
    "\n",
    "cpara_data2.head(2)\n",
    "# df_uid_event = cpara_data2[['household','caregiver_id', 'cpims_ovc_id', 0]]\n",
    "# df_uid_events = df_uid_event.rename(columns={0: 'event_id'})\n",
    "\n",
    "# df_uid_events.to_csv('event_id_uids.csv')\n",
    "\n",
    "\n",
    "# df_uid_event.head(2)\n"
   ]
  },
  {
   "cell_type": "code",
   "execution_count": null,
   "id": "dd2a22da",
   "metadata": {},
   "outputs": [],
   "source": [
    "df_uid_event.columns"
   ]
  },
  {
   "cell_type": "code",
   "execution_count": null,
   "id": "c383bc14",
   "metadata": {},
   "outputs": [],
   "source": [
    "# cpara individual table merges with with household id, cpims id on caregiver_id\n",
    "cpara_individual=pd.merge(cpara_ovc_questions, cpims_hhs, how='left', left_on='caregiver_id', right_on='caregiver_id')\n",
    "# cpara_individual.head(2)"
   ]
  },
  {
   "cell_type": "code",
   "execution_count": null,
   "id": "bbf12fc7",
   "metadata": {},
   "outputs": [],
   "source": [
    "cpara_data = cpara_data2.rename(columns={\"assessment_date\": \"date_of_event\",\"client_time\": \"timestamp_created\",\"cpims_id\": \"caregiver_id_ustc\",0:  \"event_id\",\"household\": \"household_id\",\"cpims_ovc_id\": \"person_id\"})\n",
    "\n",
    "cpara_data['cpara_id'] = ''\n",
    "cpara_data['date_of_previous_event'] = ''\n",
    "cpara_data['is_void'] = 'f'\n",
    "cpara_data['timestamp_updated'] = ''\n",
    "# cpara_data.columns"
   ]
  },
  {
   "cell_type": "markdown",
   "id": "4c9dee4c",
   "metadata": {},
   "source": []
  },
  {
   "cell_type": "markdown",
   "id": "854fefc6",
   "metadata": {},
   "source": [
    "Align the MIS data from rows to columns => vertical and only display the first two records. Move the columns that should not be considered as var."
   ]
  },
  {
   "cell_type": "code",
   "execution_count": null,
   "id": "1061021b",
   "metadata": {
    "scrolled": true
   },
   "outputs": [],
   "source": [
    "# converts the horizontal table of cpara data to vertical table for manipulation\n",
    "cpara_unpivot=pd.melt(cpara_data, id_vars=[\"record_id\",\"date_of_event\",\"case_manager\",\"caregiver_id_ustc\",\"child_headed\",\"has_hei\",\"has_pbf\",\"has_svac\",\"healthy\",\"stable\",\"safe\",\"schooled\",\"entry_time\",\"action_by\",\"designation\",\"lip\",\"entry_by_name\",\"timestamp_created\",\"deleted\",\"modified\",\"gps\",\"device\",\"cpimsId\",\"names\",\"caregiverhivstatus\",\"cbo_id\",\"cbo\",\"county\",\"subcounty\",\"ward\",\"chv_id\",\"chv\",'Unnamed: 0',\"person_id\",\"caregiver_id\",\"household_id\",\"event_id\",\"cpara_id\",\"date_of_previous_event\",\"is_void\",\"timestamp_updated\"])\n",
    "\n",
    "# cpara_data.columns"
   ]
  },
  {
   "cell_type": "code",
   "execution_count": null,
   "id": "46c46b2d",
   "metadata": {},
   "outputs": [],
   "source": [
    "cpara_unpivot.columns"
   ]
  },
  {
   "cell_type": "code",
   "execution_count": null,
   "id": "64cfa7dc",
   "metadata": {
    "scrolled": false
   },
   "outputs": [],
   "source": [
    "# filters bencmark questions and pivots them.\n",
    "ovc_care_benchmark = cpara_unpivot[cpara_unpivot[\"variable\"].str.contains('benchmark')]#.pivot(index=['record_id', 'cpims_id','assessment_date','entry_time', 'modified', 'cpims_ovc_id', 'household', 0], columns='variable', values=['value'])\n",
    "# ovc_care_benchmark.to_excel(\"ovc_care_benchmark.xlsx\")\n",
    "unique_hh = ovc_care_benchmark['household_id'].str.contains('NaN')\n",
    "\n",
    "# print(unique_hh.str.contains('NaN'))\n",
    "\n",
    "ovc_care_benchmark.head(0)"
   ]
  },
  {
   "cell_type": "code",
   "execution_count": null,
   "id": "a55c1768",
   "metadata": {},
   "outputs": [],
   "source": [
    "# ovc_care_benchmark columns you need\n",
    "\n",
    "ovc_care_benchmark.columns\n",
    "ovc_care_benchmark= ovc_care_benchmark[[\"record_id\",\"date_of_event\",\"caregiver_id_ustc\",\"household_id\",\"event_id\",\"cpara_id\",\"is_void\",\"timestamp_updated\",\"variable\",\"value\"]]\n",
    "ovc_care_benchmark.head(2)\n"
   ]
  },
  {
   "cell_type": "code",
   "execution_count": null,
   "id": "ee01d216",
   "metadata": {},
   "outputs": [],
   "source": [
    "ovc_care_benchmark.count(\n",
    "    \n",
    ")"
   ]
  },
  {
   "cell_type": "code",
   "execution_count": null,
   "id": "fe35461f",
   "metadata": {},
   "outputs": [],
   "source": [
    "# convert yes to 1 , no to 0, [[\"benchmark1\",\"benchmark2\",\"benchmark3\",\"benchmark4\",\"benchmark5\",\"benchmark6\",\"benchmark7\",\"benchmark8\",\"benchmark9\",]] \n",
    "import pandas as pd\n",
    "ovc_care_benchmark = pd.read_csv(\"ovc_care_benchmark.csv\")\n",
    "\n",
    "\n",
    "ovc_care_benchmark.replace({\"Yes\": 1, \"No\": 0}, inplace=True)\n",
    "\n",
    "\n",
    "ovc_care_benchmark.head(2)\n",
    "\n",
    "ovc_care_benchmark.to_csv(\"ovc_care_benchmark.csv\",index=False)\n",
    "\n",
    "ovc_care_benchmark.head(2)"
   ]
  },
  {
   "cell_type": "code",
   "execution_count": null,
   "id": "15f402cc",
   "metadata": {},
   "outputs": [],
   "source": [
    "import numpy as np\n",
    "from datetime import datetime\n",
    "\n",
    "\n",
    "# Rename the 'caregiver_id_ustc' column to 'care_giver_id'\n",
    "ovc_care_benchmark = ovc_care_benchmark.rename(columns={'caregiver_id_ustc': 'care_giver_id'})\n",
    "\n",
    "# add additional columns needed in the schema\n",
    "# ovc_care_benchmark[[\"benchmark10\",\"benchmark11\",\"benchmark12\",\"benchmark13\",\"benchmark14\",\"benchmark15\",\"benchmark16\",\"benchmark17\"]]=np.nan\n",
    "\n",
    "\n",
    "\n",
    "ovc_care_benchmark[[\"bench_mark_score_id\"] ]= np.nan\n",
    "\n",
    "ovc_care_benchmark[[\"timestamp_created\"]]= datetime.now()\n",
    "\n",
    "ovc_care_benchmark.head(0)\n"
   ]
  },
  {
   "cell_type": "code",
   "execution_count": null,
   "id": "07a55d20",
   "metadata": {},
   "outputs": [],
   "source": [
    "# pivot the table ovc_care_benchmark\n",
    "\n",
    "# ovc_care_benchmark = ovc_care_benchmark[ovc_care_benchmark[\"variable\"].str.contains('benchmark')].pivot(index=['record_id','date_of_event','care_giver_id','household_id','event_id','cpara_id','is_void','timestamp_updated','bench_mark_score_id','timestamp_created'], columns='variable', values=['value']).reset_index()\n",
    "\n",
    "ovc_care_benchmark.to_csv(\"ovc_care_benchmark.csv\",index=False)\n",
    "\n",
    "\n",
    "ovc_care_benchmark.count\n"
   ]
  },
  {
   "cell_type": "code",
   "execution_count": null,
   "id": "6d2de56e",
   "metadata": {},
   "outputs": [],
   "source": [
    "import pandas as pd\n",
    "import uuid\n",
    "from datetime import datetime\n",
    "\n",
    "ovc_care_benchmark = pd.read_csv(\"ovc_care_benchmark.csv\")\n",
    "\n",
    "# ovc_care_benchmark[\"score\"] = ovc_care_benchmark[[\"benchmark1\",\"benchmark2\",\"benchmark3\",\"benchmark4\",\"benchmark5\",\"benchmark6\",\"benchmark7\",\"benchmark8\",\"benchmark9\"]].sum(axis=1, skipna=True)\n",
    "\n",
    "\n",
    "# ovc_care_benchmark.to_csv(\"ovc_care_benchmark.csv\", index=False)\n",
    "ovc_care_benchmark.head(2)\n",
    "\n",
    "\n",
    "# Generate UID whose length is equivalent to the U4TC cpara data\n",
    "\n",
    "\n",
    "# record_counts = ovc_care_benchmark['household_id'].count()\n",
    "\n",
    "\n"
   ]
  },
  {
   "cell_type": "code",
   "execution_count": null,
   "id": "4e3087fe",
   "metadata": {},
   "outputs": [],
   "source": [
    "# fill benchmark id column with unique values\n",
    "\n",
    "ovc_care_benchmark.head(2)\n",
    "# record_counts = ovc_care_benchmark['bench_mark_score_id'].count()\n",
    "# print(record_counts)\n",
    "\n",
    "# df_uid = pd.DataFrame(generate_uid(record_counts))\n",
    "\n",
    "\n",
    "# ovc_care_benchmark['bench_mark_score_id'] = ovc_care_benchmark['bench_mark_score_id'].fillna(df_uid).astype(int)"
   ]
  },
  {
   "cell_type": "code",
   "execution_count": null,
   "id": "ae9ed122",
   "metadata": {},
   "outputs": [],
   "source": [
    "ovc_care_benchmark = ovc_care_benchmark[ovc_care_benchmark[\"variable\"].str.contains('benchmark')].reset_index().pivot(index=['record_id', 'date_of_event', 'care_giver_id', 'household_id', 'event_id', 'cpara_id', 'is_void', 'timestamp_updated', 'benchmark10', 'benchmark11', 'benchmark12', 'benchmark13', 'benchmark14', 'benchmark15', 'benchmark16', 'benchmark17', 'bench_mark_score_id', 'timestamp_created'], columns='variable', values='value')\n",
    "\n",
    "\n",
    "\n",
    "ovc_care_benchmark.head(2)\n"
   ]
  },
  {
   "cell_type": "code",
   "execution_count": null,
   "id": "1edfbefa",
   "metadata": {},
   "outputs": [],
   "source": [
    "# ovc_care_benchmark = ovc_care_benchmark.reset_index().drop(['variable'], axis=0)\n",
    "# ovc_care_benchmark = ovc_care_benchmark.melt(id_vars=['record_id', 'care_giver_id', 'date_of_event', 'entry_time', 'modified', 'cpims_ovc_id', 'household_id', 'benchmark11', 'benchmark12', 'benchmark13', 'benchmark14', 'benchmark15', 'benchmark16', 'benchmark17', 'bench_mark_score_id', 'timestamp_updated', 'timestamp_created'])\n",
    "ovc_care_benchmark.to_csv('ovc_care_benchmark.csv', index=False) \n",
    "print(type(ovc_care_benchmark))\n",
    "ovc_care_benchmark.head(2)\n",
    "\n"
   ]
  },
  {
   "cell_type": "code",
   "execution_count": null,
   "id": "e049a295",
   "metadata": {},
   "outputs": [],
   "source": [
    "\n",
    "record_counts = ovc_care_benchmark['household_id'].count()\n",
    "\n",
    "   \n",
    "df_uid = pd.DataFrame(generate_uid(record_counts))\n",
    "print(record_counts)"
   ]
  },
  {
   "cell_type": "code",
   "execution_count": null,
   "id": "7516e5c8",
   "metadata": {},
   "outputs": [],
   "source": [
    "\n"
   ]
  },
  {
   "cell_type": "code",
   "execution_count": null,
   "id": "812dcce3",
   "metadata": {},
   "outputs": [],
   "source": [
    "# add column score (sum of all benchmarks 1-9)\n",
    "\n",
    "import pandas as pd\n",
    "\n",
    "ovc_care_benchmark = pd.read_csv(\"ovc_care_benchmark.csv\")\n",
    "\n",
    "# ovc_care_benchmark[[\"score\"]] = ovc_care_benchmark[[\"benchmark1\",\"benchmark2\",\"benchmark3\",\"benchmark4\",\"benchmark5\",\"benchmark6\",\"benchmark7\",\"benchmark8\",\"benchmark9\"]].sum(axis=1)\n",
    "\n",
    "\n",
    "ovc_care_benchmark[\"score\"] = ovc_care_benchmark.loc[:, \"benchmark1\":\"benchmark9\"].sum(axis=1)\n",
    "\n",
    "ovc_care_benchmark.to_csv(\"ovc_care_benchmark.csv\", index=False)\n",
    "# print(ovc_care_benchmark[[\"benchmark1\",\"benchmark2\",\"benchmark3\",\"benchmark4\",\"benchmark5\",\"benchmark6\",\"benchmark7\",\"benchmark8\",\"benchmark9\"]].shape)\n",
    "\n",
    "ovc_care_benchmark.head(2)"
   ]
  },
  {
   "cell_type": "code",
   "execution_count": null,
   "id": "41a2048d",
   "metadata": {},
   "outputs": [],
   "source": [
    "#unique_hh.describe()\n",
    "\n",
    "ovc_care_benchmark.columns"
   ]
  },
  {
   "cell_type": "code",
   "execution_count": null,
   "id": "91d0cfed",
   "metadata": {
    "scrolled": false
   },
   "outputs": [],
   "source": [
    "# Filter cpara question and pivots them or not.  // send to excel\n",
    "#ovc_care_cpara = cpara_unpivot[cpara_unpivot[\"variable\"].str.startswith('q')]\n",
    "ovc_care_cpara = cpara_unpivot[cpara_unpivot[\"variable\"].str.startswith('q')]#.pivot(index=['record_id', 'cpims_id','assessment_date','cpims_ovc_id', 'household'], columns='variable', values=['value'])\n",
    "# ovc_care_cpara.to_csv(\"ovc_care_cpara_pivot.csv\")"
   ]
  },
  {
   "cell_type": "code",
   "execution_count": null,
   "id": "2589b3b7",
   "metadata": {},
   "outputs": [],
   "source": [
    "cpims_questions.columns"
   ]
  },
  {
   "cell_type": "code",
   "execution_count": null,
   "id": "a5c6af60",
   "metadata": {},
   "outputs": [],
   "source": [
    "ovc_cpara_with_q = pd.merge(ovc_care_cpara, cpims_questions, how='left', left_on='variable', right_on='cpara')\n",
    "\n",
    "# ovc_cpara_with_q.columns"
   ]
  },
  {
   "cell_type": "code",
   "execution_count": null,
   "id": "c8ea82ff",
   "metadata": {},
   "outputs": [],
   "source": [
    "# cpara_individual.to_excel(\"cpara_ovc_questions.xlsx\")\n",
    "cpara_individual.head(2)"
   ]
  },
  {
   "cell_type": "code",
   "execution_count": null,
   "id": "f17803f2",
   "metadata": {},
   "outputs": [],
   "source": [
    "cpims_hhs.columns"
   ]
  },
  {
   "cell_type": "code",
   "execution_count": null,
   "id": "3fc06e52",
   "metadata": {},
   "outputs": [],
   "source": [
    "cpara_data.to_excel(\"CPARA_MAPPING.xlsx\")"
   ]
  },
  {
   "cell_type": "code",
   "execution_count": null,
   "id": "0a8704d0",
   "metadata": {},
   "outputs": [],
   "source": [
    "cpara_data_output = ovc_cpara_with_q.rename(columns={\"code\": \"question_code\",\"value\": \"answer\",\"question_type\": \"question_type\",\"domain\": \"domain\",\"question_id\": \"question_id\"})\n",
    "\n",
    "\n",
    "cpara_data_output.columns\n",
    "\n"
   ]
  },
  {
   "cell_type": "code",
   "execution_count": null,
   "id": "dda742b5",
   "metadata": {},
   "outputs": [],
   "source": [
    "columns_to_out = [\"cpara_id\",\"question_code\",\"answer\",\"question_type\",\"domain\",\"date_of_event\",\"date_of_previous_event\",\"timestamp_created_x\",\"is_void_x\",\"timestamp_updated_x\",\"caregiver_id\",\"event_id\",\"household_id\",\"person_id\",\"question_id\"]\n",
    "\n",
    "cpara_output_sql = cpara_data_output[columns_to_out]\n",
    "\n",
    "# cpara_output_sql.to_csv('cpara_data.csv')\n",
    "\n",
    "cpara_output_sql.iloc[0:20000].to_csv('sample_cpara_data.csv')"
   ]
  },
  {
   "cell_type": "code",
   "execution_count": null,
   "id": "c90842d5",
   "metadata": {},
   "outputs": [],
   "source": [
    "# unique_hh_ids = pd.DataFrame(cpara_output_sql['household_id'].unique())\n",
    "# unique_hh_ids.groupby([])\n",
    "cpara_output_sql.groupby(['caregiver_id'])['person_id'].count().to_csv('unique_hhs.csv')"
   ]
  },
  {
   "cell_type": "code",
   "execution_count": null,
   "id": "480e2333",
   "metadata": {},
   "outputs": [],
   "source": [
    "cpara_data.head()"
   ]
  },
  {
   "cell_type": "code",
   "execution_count": null,
   "id": "ccca6203",
   "metadata": {},
   "outputs": [],
   "source": [
    "event_columns = ['event_id', 'date_of_event', 'household_id', 'person_id']\n",
    "\n",
    "ovc_care_events = cpara_data[event_columns]\n",
    "\n",
    "ovc_care_events\n",
    "\n",
    "additional_columns = [\"event_type_id\",\"event_counter\",\"event_score\",\"date_of_previous_event\",\"created_by\",\"timestamp_created\",\"is_void\"]\n",
    "\n",
    "for i in additional_columns:\n",
    "    ovc_care_events[i]= ' '\n",
    "\n",
    "ovc_care_events.columns\n"
   ]
  },
  {
   "cell_type": "code",
   "execution_count": null,
   "id": "edb3703c",
   "metadata": {},
   "outputs": [],
   "source": [
    "# get sync id\n",
    "# events_count = ovc_care_events['event_id'].count()\n",
    "sync_uid = pd.DataFrame(generate_uid(record_counts))\n",
    "sync_uid\n",
    "\n",
    "ovc_care_events_wi = ovc_care_events.reset_index()\n",
    "\n",
    "ovc_care_events_wi\n",
    "\n",
    "ovc_care_events_sync = pd.merge(ovc_care_events_wi, sync_uid,left_index=True,  right_index=True)\n",
    "\n",
    "ovc_care_events_sync_out=ovc_care_events_sync.rename(columns={0: 'sync_id'})\n",
    "\n"
   ]
  },
  {
   "cell_type": "code",
   "execution_count": null,
   "id": "7a2b13d4",
   "metadata": {},
   "outputs": [],
   "source": [
    "ovc_care_events_sync_out['sync_id'].count()\n",
    "cpara['record_id'].count()"
   ]
  },
  {
   "cell_type": "code",
   "execution_count": null,
   "id": "8ddfe63a",
   "metadata": {},
   "outputs": [],
   "source": [
    "ovc_care_events_sync_out.iloc[0:1000].to_csv('ovc_care_events.csv')"
   ]
  }
 ],
 "metadata": {
  "kernelspec": {
   "display_name": "Python 3",
   "language": "python",
   "name": "python3"
  },
  "language_info": {
   "codemirror_mode": {
    "name": "ipython",
    "version": 3
   },
   "file_extension": ".py",
   "mimetype": "text/x-python",
   "name": "python",
   "nbconvert_exporter": "python",
   "pygments_lexer": "ipython3",
   "version": "3.10.0"
  },
  "vscode": {
   "interpreter": {
    "hash": "916dbcbb3f70747c44a77c7bcd40155683ae19c65e1c03b4aa3499c5328201f1"
   }
  }
 },
 "nbformat": 4,
 "nbformat_minor": 5
}

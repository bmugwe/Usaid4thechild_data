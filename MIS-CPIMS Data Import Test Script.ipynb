{
 "cells": [
  {
   "cell_type": "markdown",
   "id": "37a84c98",
   "metadata": {},
   "source": [
    "# MIS-CPIMS Data Import Scripts"
   ]
  },
  {
   "cell_type": "markdown",
   "id": "a8f5728e",
   "metadata": {},
   "source": [
    "Import pandas library and read exported CPARA data from MIS (XLSX). Display all columns for exploration."
   ]
  },
  {
   "cell_type": "code",
   "execution_count": 3,
   "id": "16bff81a",
   "metadata": {},
   "outputs": [
    {
     "data": {
      "text/plain": [
       "Index(['UnIque ID', 'record_id', 'assessment_date', 'cpims_id', 'case_manager',\n",
       "       'child_headed', 'has_hei', 'has_pbf', 'has_svac', 'q1_1', 'q1_2',\n",
       "       'q1_3', 'q1_4', 'benchmark1', 'q2_1', 'q2_2', 'q2_3', 'q2_4', 'q2_5',\n",
       "       'q2_6', 'q2_8', 'q2_7', 'q2_9', 'benchmark2', 'q3_1', 'q3_2', 'q3_3',\n",
       "       'benchmark3', 'q4_1', 'q4_2', 'q4_3', 'q4_4', 'benchmark4', 'q5_1',\n",
       "       'q5_2', 'q5_3', 'benchmark5', 'q6_1', 'q6_2', 'q6_3', 'q6_4', 'q6_5',\n",
       "       'benchmark6', 'q7_1', 'q7_2', 'benchmark7', 'q8_1', 'benchmark8',\n",
       "       'q9_1', 'q9_2', 'q9_3', 'q9_4', 'benchmark9', 'healthy', 'stable',\n",
       "       'safe', 'schooled', 'entry_time', 'action_by', 'designation', 'lip',\n",
       "       'entry_by_name', 'client_time', 'deleted', 'modified', 'gps', 'device',\n",
       "       'cpimsId', 'names', 'caregiverhivstatus', 'cbo_id', 'cbo', 'county',\n",
       "       'subcounty', 'ward', 'chv_id', 'chv'],\n",
       "      dtype='object')"
      ]
     },
     "execution_count": 3,
     "metadata": {},
     "output_type": "execute_result"
    }
   ],
   "source": [
    "import pandas as pd\n",
    "# Reads USAID 4The Child cpara data\n",
    "cpara=pd.read_excel(\"Data/CPARA.xlsx\", sheet_name=\"Sheet1\")\n",
    "# cpara.columns"
   ]
  },
  {
   "cell_type": "code",
   "execution_count": 30,
   "id": "89713b24",
   "metadata": {},
   "outputs": [],
   "source": [
    "# reads the mapping for U4TC mapping for HH_id, cpims_ovc_id, caregiver id\n",
    "cpims_hhs=pd.read_csv(\"Data/Household ID OVC Mapping.csv\")"
   ]
  },
  {
   "cell_type": "code",
   "execution_count": null,
   "id": "7738b2f6",
   "metadata": {},
   "outputs": [],
   "source": [
    "# Reads individual cpara data for U4TC\n",
    "cpara_ovc_questions = pd.read_excel(\"Data/OVC_Questions.xlsx\", sheet_name=\"Sheet1\")"
   ]
  },
  {
   "cell_type": "code",
   "execution_count": 6,
   "id": "36f4a35e",
   "metadata": {},
   "outputs": [],
   "source": [
    "# Generate UID whose length is equivalent to the U4TC cpara data\n",
    "import uuid\n",
    "\n",
    "record_counts = cpara['record_id'].count()\n",
    "\n",
    "def generate_uid(count):\n",
    "    uid_list = []\n",
    "    for i in range (0, count):\n",
    "        uuid_gen = uuid.uuid4()\n",
    "        # print(f'generated uid: {uuid_gen} inte: {i}')\n",
    "        uid_list.append(uuid_gen)\n",
    "    return uid_list    \n",
    "\n",
    "df_uid = pd.DataFrame(generate_uid(record_counts))"
   ]
  },
  {
   "cell_type": "code",
   "execution_count": 58,
   "id": "d009c385",
   "metadata": {},
   "outputs": [
    {
     "data": {
      "text/plain": [
       "Index(['question_id', 'code', 'question', 'domain', 'question_text',\n",
       "       'question_type', 'is_void', 'timestamp_created', 'timestamp_updated',\n",
       "       'form_id', 'CURRENT cPARA', 'ind_cpara', 'cpara'],\n",
       "      dtype='object')"
      ]
     },
     "execution_count": 58,
     "metadata": {},
     "output_type": "execute_result"
    }
   ],
   "source": [
    "# Reads the cpims questions mapping\n",
    "cpims_questions=pd.read_excel(\"Data/ovc_care_questions.xlsx\")\n",
    "cpims_questions.columns"
   ]
  },
  {
   "cell_type": "code",
   "execution_count": 31,
   "id": "7fa11bb3",
   "metadata": {},
   "outputs": [
    {
     "data": {
      "text/html": [
       "<div>\n",
       "<style scoped>\n",
       "    .dataframe tbody tr th:only-of-type {\n",
       "        vertical-align: middle;\n",
       "    }\n",
       "\n",
       "    .dataframe tbody tr th {\n",
       "        vertical-align: top;\n",
       "    }\n",
       "\n",
       "    .dataframe thead th {\n",
       "        text-align: right;\n",
       "    }\n",
       "</style>\n",
       "<table border=\"1\" class=\"dataframe\">\n",
       "  <thead>\n",
       "    <tr style=\"text-align: right;\">\n",
       "      <th></th>\n",
       "      <th>UnIque ID</th>\n",
       "      <th>record_id</th>\n",
       "      <th>assessment_date</th>\n",
       "      <th>cpims_id</th>\n",
       "      <th>case_manager</th>\n",
       "      <th>child_headed</th>\n",
       "      <th>has_hei</th>\n",
       "      <th>has_pbf</th>\n",
       "      <th>has_svac</th>\n",
       "      <th>q1_1</th>\n",
       "      <th>...</th>\n",
       "      <th>county</th>\n",
       "      <th>subcounty</th>\n",
       "      <th>ward</th>\n",
       "      <th>chv_id</th>\n",
       "      <th>chv</th>\n",
       "      <th>Unnamed: 0</th>\n",
       "      <th>cpims_ovc_id</th>\n",
       "      <th>caregiver_id</th>\n",
       "      <th>household</th>\n",
       "      <th>0</th>\n",
       "    </tr>\n",
       "  </thead>\n",
       "  <tbody>\n",
       "    <tr>\n",
       "      <th>0</th>\n",
       "      <td>2022-09-12-105151</td>\n",
       "      <td>9325</td>\n",
       "      <td>2022-09-12</td>\n",
       "      <td>105151</td>\n",
       "      <td>NaN</td>\n",
       "      <td>No</td>\n",
       "      <td>No</td>\n",
       "      <td>No</td>\n",
       "      <td>No</td>\n",
       "      <td>Yes</td>\n",
       "      <td>...</td>\n",
       "      <td>Kisumu</td>\n",
       "      <td>Kisumu East</td>\n",
       "      <td>Manyatta 'B'</td>\n",
       "      <td>3173240.0</td>\n",
       "      <td>GILLIANN GILLIAN ACHIENGGG</td>\n",
       "      <td>99003.0</td>\n",
       "      <td>4282788.0</td>\n",
       "      <td>105151.0</td>\n",
       "      <td>29d199db-2f32-4025-bb9b-94357558550b</td>\n",
       "      <td>16142843-84ab-4cbe-9edd-de02ac81eef9</td>\n",
       "    </tr>\n",
       "    <tr>\n",
       "      <th>1</th>\n",
       "      <td>2022-09-12-105151</td>\n",
       "      <td>9325</td>\n",
       "      <td>2022-09-12</td>\n",
       "      <td>105151</td>\n",
       "      <td>NaN</td>\n",
       "      <td>No</td>\n",
       "      <td>No</td>\n",
       "      <td>No</td>\n",
       "      <td>No</td>\n",
       "      <td>Yes</td>\n",
       "      <td>...</td>\n",
       "      <td>Kisumu</td>\n",
       "      <td>Kisumu East</td>\n",
       "      <td>Manyatta 'B'</td>\n",
       "      <td>3173240.0</td>\n",
       "      <td>GILLIANN GILLIAN ACHIENGGG</td>\n",
       "      <td>99026.0</td>\n",
       "      <td>4282807.0</td>\n",
       "      <td>105151.0</td>\n",
       "      <td>29d199db-2f32-4025-bb9b-94357558550b</td>\n",
       "      <td>785a1f6b-6301-40dd-ac67-72b5f059d121</td>\n",
       "    </tr>\n",
       "  </tbody>\n",
       "</table>\n",
       "<p>2 rows × 82 columns</p>\n",
       "</div>"
      ],
      "text/plain": [
       "           UnIque ID  record_id assessment_date  cpims_id  case_manager  \\\n",
       "0  2022-09-12-105151       9325      2022-09-12    105151           NaN   \n",
       "1  2022-09-12-105151       9325      2022-09-12    105151           NaN   \n",
       "\n",
       "  child_headed has_hei has_pbf has_svac q1_1  ...  county    subcounty  \\\n",
       "0           No      No      No       No  Yes  ...  Kisumu  Kisumu East   \n",
       "1           No      No      No       No  Yes  ...  Kisumu  Kisumu East   \n",
       "\n",
       "           ward     chv_id                         chv Unnamed: 0  \\\n",
       "0  Manyatta 'B'  3173240.0  GILLIANN GILLIAN ACHIENGGG    99003.0   \n",
       "1  Manyatta 'B'  3173240.0  GILLIANN GILLIAN ACHIENGGG    99026.0   \n",
       "\n",
       "  cpims_ovc_id caregiver_id                             household  \\\n",
       "0    4282788.0     105151.0  29d199db-2f32-4025-bb9b-94357558550b   \n",
       "1    4282807.0     105151.0  29d199db-2f32-4025-bb9b-94357558550b   \n",
       "\n",
       "                                      0  \n",
       "0  16142843-84ab-4cbe-9edd-de02ac81eef9  \n",
       "1  785a1f6b-6301-40dd-ac67-72b5f059d121  \n",
       "\n",
       "[2 rows x 82 columns]"
      ]
     },
     "execution_count": 31,
     "metadata": {},
     "output_type": "execute_result"
    }
   ],
   "source": [
    "# Mergers cpara data with household id, cpims id on caregiver_id\n",
    "cpara_data1=pd.merge(cpara, cpims_hhs, how='left', left_on='cpims_id', right_on='caregiver_id')\n",
    "# Merges cpara data with the uids\n",
    "cpara_data = pd.merge(cpara_data1, df_uid, left_index=True, right_index=True)\n",
    "cpara_data.head(2)"
   ]
  },
  {
   "cell_type": "code",
   "execution_count": 32,
   "id": "c383bc14",
   "metadata": {},
   "outputs": [
    {
     "data": {
      "text/html": [
       "<div>\n",
       "<style scoped>\n",
       "    .dataframe tbody tr th:only-of-type {\n",
       "        vertical-align: middle;\n",
       "    }\n",
       "\n",
       "    .dataframe tbody tr th {\n",
       "        vertical-align: top;\n",
       "    }\n",
       "\n",
       "    .dataframe thead th {\n",
       "        text-align: right;\n",
       "    }\n",
       "</style>\n",
       "<table border=\"1\" class=\"dataframe\">\n",
       "  <thead>\n",
       "    <tr style=\"text-align: right;\">\n",
       "      <th></th>\n",
       "      <th>record_id</th>\n",
       "      <th>cpara_record_id</th>\n",
       "      <th>cpara_date</th>\n",
       "      <th>question</th>\n",
       "      <th>response</th>\n",
       "      <th>cpims_id</th>\n",
       "      <th>caregiver_id</th>\n",
       "      <th>chv_id</th>\n",
       "      <th>Unnamed: 0</th>\n",
       "      <th>cpims_ovc_id</th>\n",
       "      <th>household</th>\n",
       "    </tr>\n",
       "  </thead>\n",
       "  <tbody>\n",
       "    <tr>\n",
       "      <th>0</th>\n",
       "      <td>5</td>\n",
       "      <td>8859</td>\n",
       "      <td>2022-08-02</td>\n",
       "      <td>q3.1</td>\n",
       "      <td>Yes</td>\n",
       "      <td>1705501</td>\n",
       "      <td>1676623</td>\n",
       "      <td>2042693</td>\n",
       "      <td>43178.0</td>\n",
       "      <td>1687650.0</td>\n",
       "      <td>b540b485-7399-4407-bd14-066f5b79c133</td>\n",
       "    </tr>\n",
       "    <tr>\n",
       "      <th>1</th>\n",
       "      <td>5</td>\n",
       "      <td>8859</td>\n",
       "      <td>2022-08-02</td>\n",
       "      <td>q3.1</td>\n",
       "      <td>Yes</td>\n",
       "      <td>1705501</td>\n",
       "      <td>1676623</td>\n",
       "      <td>2042693</td>\n",
       "      <td>43184.0</td>\n",
       "      <td>1705501.0</td>\n",
       "      <td>b540b485-7399-4407-bd14-066f5b79c133</td>\n",
       "    </tr>\n",
       "  </tbody>\n",
       "</table>\n",
       "</div>"
      ],
      "text/plain": [
       "   record_id  cpara_record_id  cpara_date question response  cpims_id  \\\n",
       "0          5             8859  2022-08-02     q3.1      Yes   1705501   \n",
       "1          5             8859  2022-08-02     q3.1      Yes   1705501   \n",
       "\n",
       "   caregiver_id   chv_id  Unnamed: 0  cpims_ovc_id  \\\n",
       "0       1676623  2042693     43178.0     1687650.0   \n",
       "1       1676623  2042693     43184.0     1705501.0   \n",
       "\n",
       "                              household  \n",
       "0  b540b485-7399-4407-bd14-066f5b79c133  \n",
       "1  b540b485-7399-4407-bd14-066f5b79c133  "
      ]
     },
     "execution_count": 32,
     "metadata": {},
     "output_type": "execute_result"
    }
   ],
   "source": [
    "# cpara individual table merges with with household id, cpims id on caregiver_id\n",
    "cpara_individual=pd.merge(cpara_ovc_questions, cpims_hhs, how='left', left_on='caregiver_id', right_on='caregiver_id')\n",
    "cpara_individual.head(2)"
   ]
  },
  {
   "cell_type": "code",
   "execution_count": 5,
   "id": "bbf12fc7",
   "metadata": {},
   "outputs": [
    {
     "data": {
      "text/plain": [
       "record_id           int64\n",
       "cpara_record_id     int64\n",
       "cpara_date         object\n",
       "question           object\n",
       "response           object\n",
       "cpims_id            int64\n",
       "caregiver_id        int64\n",
       "chv_id              int64\n",
       "dtype: object"
      ]
     },
     "execution_count": 5,
     "metadata": {},
     "output_type": "execute_result"
    }
   ],
   "source": [
    "cpara_ovc_questions.dtypes #cpims_hhs.dtypes"
   ]
  },
  {
   "cell_type": "markdown",
   "id": "854fefc6",
   "metadata": {},
   "source": [
    "Align the MIS data from rows to columns => vertical and only display the first two records. Move the columns that should not be considered as var."
   ]
  },
  {
   "cell_type": "code",
   "execution_count": 33,
   "id": "1061021b",
   "metadata": {
    "scrolled": true
   },
   "outputs": [
    {
     "data": {
      "text/html": [
       "<div>\n",
       "<style scoped>\n",
       "    .dataframe tbody tr th:only-of-type {\n",
       "        vertical-align: middle;\n",
       "    }\n",
       "\n",
       "    .dataframe tbody tr th {\n",
       "        vertical-align: top;\n",
       "    }\n",
       "\n",
       "    .dataframe thead th {\n",
       "        text-align: right;\n",
       "    }\n",
       "</style>\n",
       "<table border=\"1\" class=\"dataframe\">\n",
       "  <thead>\n",
       "    <tr style=\"text-align: right;\">\n",
       "      <th></th>\n",
       "      <th>record_id</th>\n",
       "      <th>assessment_date</th>\n",
       "      <th>cpims_id</th>\n",
       "      <th>entry_time</th>\n",
       "      <th>action_by</th>\n",
       "      <th>designation</th>\n",
       "      <th>lip</th>\n",
       "      <th>entry_by_name</th>\n",
       "      <th>client_time</th>\n",
       "      <th>modified</th>\n",
       "      <th>deleted</th>\n",
       "      <th>gps</th>\n",
       "      <th>device</th>\n",
       "      <th>case_manager</th>\n",
       "      <th>cpims_ovc_id</th>\n",
       "      <th>household</th>\n",
       "      <th>0</th>\n",
       "      <th>variable</th>\n",
       "      <th>value</th>\n",
       "    </tr>\n",
       "  </thead>\n",
       "  <tbody>\n",
       "    <tr>\n",
       "      <th>0</th>\n",
       "      <td>9325</td>\n",
       "      <td>2022-09-12</td>\n",
       "      <td>105151</td>\n",
       "      <td>2022-09-27 12:49:56</td>\n",
       "      <td>3180741</td>\n",
       "      <td>Data Assistant</td>\n",
       "      <td>MAKE ME SMILE</td>\n",
       "      <td>ZILPA AKINYI</td>\n",
       "      <td>2022-09-27 13:49:49</td>\n",
       "      <td>2022-09-27 12:49:56</td>\n",
       "      <td>NaN</td>\n",
       "      <td>NaN</td>\n",
       "      <td>screen=1440 x 900;browser=Chrome;browserVersio...</td>\n",
       "      <td>NaN</td>\n",
       "      <td>4282788.0</td>\n",
       "      <td>29d199db-2f32-4025-bb9b-94357558550b</td>\n",
       "      <td>16142843-84ab-4cbe-9edd-de02ac81eef9</td>\n",
       "      <td>UnIque ID</td>\n",
       "      <td>2022-09-12-105151</td>\n",
       "    </tr>\n",
       "    <tr>\n",
       "      <th>1</th>\n",
       "      <td>9325</td>\n",
       "      <td>2022-09-12</td>\n",
       "      <td>105151</td>\n",
       "      <td>2022-09-27 12:49:56</td>\n",
       "      <td>3180741</td>\n",
       "      <td>Data Assistant</td>\n",
       "      <td>MAKE ME SMILE</td>\n",
       "      <td>ZILPA AKINYI</td>\n",
       "      <td>2022-09-27 13:49:49</td>\n",
       "      <td>2022-09-27 12:49:56</td>\n",
       "      <td>NaN</td>\n",
       "      <td>NaN</td>\n",
       "      <td>screen=1440 x 900;browser=Chrome;browserVersio...</td>\n",
       "      <td>NaN</td>\n",
       "      <td>4282807.0</td>\n",
       "      <td>29d199db-2f32-4025-bb9b-94357558550b</td>\n",
       "      <td>785a1f6b-6301-40dd-ac67-72b5f059d121</td>\n",
       "      <td>UnIque ID</td>\n",
       "      <td>2022-09-12-105151</td>\n",
       "    </tr>\n",
       "  </tbody>\n",
       "</table>\n",
       "</div>"
      ],
      "text/plain": [
       "   record_id assessment_date  cpims_id          entry_time action_by  \\\n",
       "0       9325      2022-09-12    105151 2022-09-27 12:49:56   3180741   \n",
       "1       9325      2022-09-12    105151 2022-09-27 12:49:56   3180741   \n",
       "\n",
       "      designation            lip entry_by_name         client_time  \\\n",
       "0  Data Assistant  MAKE ME SMILE  ZILPA AKINYI 2022-09-27 13:49:49   \n",
       "1  Data Assistant  MAKE ME SMILE  ZILPA AKINYI 2022-09-27 13:49:49   \n",
       "\n",
       "             modified  deleted  gps  \\\n",
       "0 2022-09-27 12:49:56      NaN  NaN   \n",
       "1 2022-09-27 12:49:56      NaN  NaN   \n",
       "\n",
       "                                              device  case_manager  \\\n",
       "0  screen=1440 x 900;browser=Chrome;browserVersio...           NaN   \n",
       "1  screen=1440 x 900;browser=Chrome;browserVersio...           NaN   \n",
       "\n",
       "   cpims_ovc_id                             household  \\\n",
       "0     4282788.0  29d199db-2f32-4025-bb9b-94357558550b   \n",
       "1     4282807.0  29d199db-2f32-4025-bb9b-94357558550b   \n",
       "\n",
       "                                      0   variable              value  \n",
       "0  16142843-84ab-4cbe-9edd-de02ac81eef9  UnIque ID  2022-09-12-105151  \n",
       "1  785a1f6b-6301-40dd-ac67-72b5f059d121  UnIque ID  2022-09-12-105151  "
      ]
     },
     "execution_count": 33,
     "metadata": {},
     "output_type": "execute_result"
    }
   ],
   "source": [
    "# converts the horizontal table of cpara data to vertical table for manipulation\n",
    "cpara_unpivot=pd.melt(cpara_data, id_vars=['record_id', 'assessment_date', 'cpims_id', 'entry_time', 'action_by',\n",
    "       'designation', 'lip', 'entry_by_name','client_time', 'modified', 'deleted', 'gps', 'device', 'case_manager', 'cpims_ovc_id', 'household', 0])\n",
    "\n",
    "cpara_unpivot.head(2)"
   ]
  },
  {
   "cell_type": "code",
   "execution_count": 12,
   "id": "46c46b2d",
   "metadata": {},
   "outputs": [
    {
     "data": {
      "text/plain": [
       "Index(['record_id', 'assessment_date', 'cpims_id', 'entry_time', 'action_by',\n",
       "       'designation', 'lip', 'entry_by_name', 'client_time', 'modified',\n",
       "       'deleted', 'gps', 'device', 'case_manager', 'cpims_ovc_id', 'household',\n",
       "       'variable', 'value'],\n",
       "      dtype='object')"
      ]
     },
     "execution_count": 12,
     "metadata": {},
     "output_type": "execute_result"
    }
   ],
   "source": [
    "cpara_unpivot.columns"
   ]
  },
  {
   "cell_type": "code",
   "execution_count": 43,
   "id": "64cfa7dc",
   "metadata": {
    "scrolled": false
   },
   "outputs": [],
   "source": [
    "# filters bencmark questions and pivots them.\n",
    "ovc_care_benchmark = cpara_unpivot[cpara_unpivot[\"variable\"].str.contains('benchmark')]#.pivot(index=['record_id', 'cpims_id','assessment_date','entry_time', 'modified', 'cpims_ovc_id', 'household', 0], columns='variable', values=['value'])\n",
    "# ovc_care_benchmark.to_excel(\"ovc_care_benchmark.xlsx\")\n",
    "unique_hh = ovc_care_benchmark['household'].str.contains('NaN')\n",
    "\n",
    "# print(unique_hh.str.contains('NaN'))"
   ]
  },
  {
   "cell_type": "code",
   "execution_count": 45,
   "id": "41a2048d",
   "metadata": {},
   "outputs": [
    {
     "data": {
      "text/plain": [
       "count     293004\n",
       "unique         1\n",
       "top        False\n",
       "freq      293004\n",
       "Name: household, dtype: object"
      ]
     },
     "execution_count": 45,
     "metadata": {},
     "output_type": "execute_result"
    }
   ],
   "source": [
    "unique_hh.describe()"
   ]
  },
  {
   "cell_type": "code",
   "execution_count": 50,
   "id": "91d0cfed",
   "metadata": {
    "scrolled": false
   },
   "outputs": [
    {
     "name": "stdout",
     "output_type": "stream",
     "text": [
      "record_id\n",
      "assessment_date\n",
      "cpims_id\n",
      "entry_time\n",
      "action_by\n",
      "designation\n",
      "lip\n",
      "entry_by_name\n",
      "client_time\n",
      "modified\n",
      "deleted\n",
      "gps\n",
      "device\n",
      "case_manager\n",
      "cpims_ovc_id\n",
      "household\n",
      "0\n",
      "variable\n",
      "value\n"
     ]
    }
   ],
   "source": [
    "# Filter cpara question and pivots them or not.  // send to excel\n",
    "#ovc_care_cpara = cpara_unpivot[cpara_unpivot[\"variable\"].str.startswith('q')]\n",
    "ovc_care_cpara = cpara_unpivot[cpara_unpivot[\"variable\"].str.startswith('q')]#.pivot(index=['record_id', 'cpims_id','assessment_date','cpims_ovc_id', 'household'], columns='variable', values=['value'])\n",
    "# ovc_care_cpara.to_csv(\"ovc_care_cpara_pivot.csv\")"
   ]
  },
  {
   "cell_type": "code",
   "execution_count": 52,
   "id": "ca6ef0ea",
   "metadata": {},
   "outputs": [
    {
     "data": {
      "text/plain": [
       "Index(['question_id', 'code', 'question', 'domain', 'question_text',\n",
       "       'question_type', 'is_void', 'timestamp_created', 'timestamp_updated',\n",
       "       'form_id', 'CURRENT cPARA', 'USAID 4THECHILD QID'],\n",
       "      dtype='object')"
      ]
     },
     "execution_count": 52,
     "metadata": {},
     "output_type": "execute_result"
    }
   ],
   "source": [
    "cpims_questions.columns"
   ]
  },
  {
   "cell_type": "code",
   "execution_count": 61,
   "id": "a5c6af60",
   "metadata": {},
   "outputs": [
    {
     "name": "stdout",
     "output_type": "stream",
     "text": [
      "record_id\n",
      "assessment_date\n",
      "cpims_id\n",
      "entry_time\n",
      "action_by\n",
      "designation\n",
      "lip\n",
      "entry_by_name\n",
      "client_time\n",
      "modified\n",
      "deleted\n",
      "gps\n",
      "device\n",
      "case_manager\n",
      "cpims_ovc_id\n",
      "household\n",
      "0\n",
      "variable\n",
      "value\n",
      "question_id\n",
      "code\n",
      "question\n",
      "domain\n",
      "question_text\n",
      "question_type\n",
      "is_void\n",
      "timestamp_created\n",
      "timestamp_updated\n",
      "form_id\n",
      "CURRENT cPARA\n",
      "ind_cpara\n",
      "cpara\n"
     ]
    },
    {
     "data": {
      "text/plain": [
       "Index([        'record_id',   'assessment_date',          'cpims_id',\n",
       "              'entry_time',         'action_by',       'designation',\n",
       "                     'lip',     'entry_by_name',       'client_time',\n",
       "                'modified',           'deleted',               'gps',\n",
       "                  'device',      'case_manager',      'cpims_ovc_id',\n",
       "               'household',                   0,          'variable',\n",
       "                   'value',       'question_id',              'code',\n",
       "                'question',            'domain',     'question_text',\n",
       "           'question_type',           'is_void', 'timestamp_created',\n",
       "       'timestamp_updated',           'form_id',     'CURRENT cPARA',\n",
       "               'ind_cpara',             'cpara'],\n",
       "      dtype='object')"
      ]
     },
     "execution_count": 61,
     "metadata": {},
     "output_type": "execute_result"
    }
   ],
   "source": [
    "ovc_cpara_with_q = pd.merge(ovc_care_cpara, cpims_questions, how='left', left_on='variable', right_on='cpara')\n",
    "for i in ovc_cpara_with_q.columns:\n",
    "    print(i)\n",
    "ovc_cpara_with_q.columns"
   ]
  },
  {
   "cell_type": "code",
   "execution_count": 10,
   "id": "c8ea82ff",
   "metadata": {},
   "outputs": [
    {
     "data": {
      "text/html": [
       "<div>\n",
       "<style scoped>\n",
       "    .dataframe tbody tr th:only-of-type {\n",
       "        vertical-align: middle;\n",
       "    }\n",
       "\n",
       "    .dataframe tbody tr th {\n",
       "        vertical-align: top;\n",
       "    }\n",
       "\n",
       "    .dataframe thead th {\n",
       "        text-align: right;\n",
       "    }\n",
       "</style>\n",
       "<table border=\"1\" class=\"dataframe\">\n",
       "  <thead>\n",
       "    <tr style=\"text-align: right;\">\n",
       "      <th></th>\n",
       "      <th>record_id</th>\n",
       "      <th>cpara_record_id</th>\n",
       "      <th>cpara_date</th>\n",
       "      <th>question</th>\n",
       "      <th>response</th>\n",
       "      <th>cpims_id</th>\n",
       "      <th>caregiver_id</th>\n",
       "      <th>chv_id</th>\n",
       "      <th>cpims_ovc_id</th>\n",
       "      <th>household</th>\n",
       "    </tr>\n",
       "  </thead>\n",
       "  <tbody>\n",
       "    <tr>\n",
       "      <th>0</th>\n",
       "      <td>5</td>\n",
       "      <td>8859</td>\n",
       "      <td>2022-08-02</td>\n",
       "      <td>q3.1</td>\n",
       "      <td>Yes</td>\n",
       "      <td>1705501</td>\n",
       "      <td>1676623</td>\n",
       "      <td>2042693</td>\n",
       "      <td>1687650.0</td>\n",
       "      <td>b540b485-7399-4407-bd14-066f5b79c133</td>\n",
       "    </tr>\n",
       "    <tr>\n",
       "      <th>1</th>\n",
       "      <td>5</td>\n",
       "      <td>8859</td>\n",
       "      <td>2022-08-02</td>\n",
       "      <td>q3.1</td>\n",
       "      <td>Yes</td>\n",
       "      <td>1705501</td>\n",
       "      <td>1676623</td>\n",
       "      <td>2042693</td>\n",
       "      <td>1705501.0</td>\n",
       "      <td>b540b485-7399-4407-bd14-066f5b79c133</td>\n",
       "    </tr>\n",
       "  </tbody>\n",
       "</table>\n",
       "</div>"
      ],
      "text/plain": [
       "   record_id  cpara_record_id  cpara_date question response  cpims_id  \\\n",
       "0          5             8859  2022-08-02     q3.1      Yes   1705501   \n",
       "1          5             8859  2022-08-02     q3.1      Yes   1705501   \n",
       "\n",
       "   caregiver_id   chv_id  cpims_ovc_id                             household  \n",
       "0       1676623  2042693     1687650.0  b540b485-7399-4407-bd14-066f5b79c133  \n",
       "1       1676623  2042693     1705501.0  b540b485-7399-4407-bd14-066f5b79c133  "
      ]
     },
     "execution_count": 10,
     "metadata": {},
     "output_type": "execute_result"
    }
   ],
   "source": [
    "cpara_individual.to_excel(\"cpara_ovc_questions.xlsx\")\n",
    "cpara_individual.head(2)"
   ]
  },
  {
   "cell_type": "code",
   "execution_count": 11,
   "id": "f17803f2",
   "metadata": {},
   "outputs": [
    {
     "data": {
      "text/plain": [
       "Index(['cpims_ovc_id', 'caregiver_id', 'household'], dtype='object')"
      ]
     },
     "execution_count": 11,
     "metadata": {},
     "output_type": "execute_result"
    }
   ],
   "source": [
    "cpims_hhs.columns"
   ]
  },
  {
   "cell_type": "code",
   "execution_count": 108,
   "id": "3fc06e52",
   "metadata": {},
   "outputs": [],
   "source": [
    "cpara_data.to_excel(\"CPARA_MAPPING.xlsx\")"
   ]
  },
  {
   "cell_type": "code",
   "execution_count": 73,
   "id": "0a8704d0",
   "metadata": {},
   "outputs": [
    {
     "ename": "KeyError",
     "evalue": "('cpara_id', 'question_code', 'answer', 'question_type', 'domain', 'date_of_event', 'date_of_previous_event', 'timestamp_created', 'is_void', 'timestamp_updated', 'caregiver_id', 'event_id', 'household_id', 'person_id', 'question_id')",
     "output_type": "error",
     "traceback": [
      "\u001b[0;31m---------------------------------------------------------------------------\u001b[0m",
      "\u001b[0;31mKeyError\u001b[0m                                  Traceback (most recent call last)",
      "File \u001b[0;32m~/.local/lib/python3.10/site-packages/pandas/core/indexes/base.py:3621\u001b[0m, in \u001b[0;36mIndex.get_loc\u001b[0;34m(self, key, method, tolerance)\u001b[0m\n\u001b[1;32m   3620\u001b[0m \u001b[39mtry\u001b[39;00m:\n\u001b[0;32m-> 3621\u001b[0m     \u001b[39mreturn\u001b[39;00m \u001b[39mself\u001b[39;49m\u001b[39m.\u001b[39;49m_engine\u001b[39m.\u001b[39;49mget_loc(casted_key)\n\u001b[1;32m   3622\u001b[0m \u001b[39mexcept\u001b[39;00m \u001b[39mKeyError\u001b[39;00m \u001b[39mas\u001b[39;00m err:\n",
      "File \u001b[0;32m~/.local/lib/python3.10/site-packages/pandas/_libs/index.pyx:136\u001b[0m, in \u001b[0;36mpandas._libs.index.IndexEngine.get_loc\u001b[0;34m()\u001b[0m\n",
      "File \u001b[0;32m~/.local/lib/python3.10/site-packages/pandas/_libs/index.pyx:160\u001b[0m, in \u001b[0;36mpandas._libs.index.IndexEngine.get_loc\u001b[0;34m()\u001b[0m\n",
      "File \u001b[0;32m~/.local/lib/python3.10/site-packages/pandas/_libs/index.pyx:201\u001b[0m, in \u001b[0;36mpandas._libs.index.IndexEngine._get_loc_duplicates\u001b[0;34m()\u001b[0m\n",
      "File \u001b[0;32m~/.local/lib/python3.10/site-packages/pandas/_libs/index.pyx:209\u001b[0m, in \u001b[0;36mpandas._libs.index.IndexEngine._maybe_get_bool_indexer\u001b[0;34m()\u001b[0m\n",
      "File \u001b[0;32m~/.local/lib/python3.10/site-packages/pandas/_libs/index.pyx:107\u001b[0m, in \u001b[0;36mpandas._libs.index._unpack_bool_indexer\u001b[0;34m()\u001b[0m\n",
      "\u001b[0;31mKeyError\u001b[0m: ('cpara_id', 'question_code', 'answer', 'question_type', 'domain', 'date_of_event', 'date_of_previous_event', 'timestamp_created', 'is_void', 'timestamp_updated', 'caregiver_id', 'event_id', 'household_id', 'person_id', 'question_id')",
      "\nThe above exception was the direct cause of the following exception:\n",
      "\u001b[0;31mKeyError\u001b[0m                                  Traceback (most recent call last)",
      "\u001b[1;32m/home/bmugwe/Desktop/Dev/cpims_all/Data_import/Usaid4thechild_data/MIS-CPIMS Data Import Test Script.ipynb Cell 22\u001b[0m in \u001b[0;36m<cell line: 10>\u001b[0;34m()\u001b[0m\n\u001b[1;32m      <a href='vscode-notebook-cell:/home/bmugwe/Desktop/Dev/cpims_all/Data_import/Usaid4thechild_data/MIS-CPIMS%20Data%20Import%20Test%20Script.ipynb#X25sZmlsZQ%3D%3D?line=5'>6</a>\u001b[0m cpara_data_output[\u001b[39m'\u001b[39m\u001b[39mtimestamp_updated\u001b[39m\u001b[39m'\u001b[39m] \u001b[39m=\u001b[39m \u001b[39m'\u001b[39m\u001b[39m'\u001b[39m\n\u001b[1;32m      <a href='vscode-notebook-cell:/home/bmugwe/Desktop/Dev/cpims_all/Data_import/Usaid4thechild_data/MIS-CPIMS%20Data%20Import%20Test%20Script.ipynb#X25sZmlsZQ%3D%3D?line=8'>9</a>\u001b[0m cpara_data_output\u001b[39m.\u001b[39mcolumns\n\u001b[0;32m---> <a href='vscode-notebook-cell:/home/bmugwe/Desktop/Dev/cpims_all/Data_import/Usaid4thechild_data/MIS-CPIMS%20Data%20Import%20Test%20Script.ipynb#X25sZmlsZQ%3D%3D?line=9'>10</a>\u001b[0m cpara_output_sql \u001b[39m=\u001b[39m cpara_data_output[\u001b[39m\"\u001b[39;49m\u001b[39mcpara_id\u001b[39;49m\u001b[39m\"\u001b[39;49m,\u001b[39m\"\u001b[39;49m\u001b[39mquestion_code\u001b[39;49m\u001b[39m\"\u001b[39;49m,\u001b[39m\"\u001b[39;49m\u001b[39manswer\u001b[39;49m\u001b[39m\"\u001b[39;49m,\u001b[39m\"\u001b[39;49m\u001b[39mquestion_type\u001b[39;49m\u001b[39m\"\u001b[39;49m,\u001b[39m\"\u001b[39;49m\u001b[39mdomain\u001b[39;49m\u001b[39m\"\u001b[39;49m,\u001b[39m\"\u001b[39;49m\u001b[39mdate_of_event\u001b[39;49m\u001b[39m\"\u001b[39;49m,\u001b[39m\"\u001b[39;49m\u001b[39mdate_of_previous_event\u001b[39;49m\u001b[39m\"\u001b[39;49m,\u001b[39m\"\u001b[39;49m\u001b[39mtimestamp_created\u001b[39;49m\u001b[39m\"\u001b[39;49m,\u001b[39m\"\u001b[39;49m\u001b[39mis_void\u001b[39;49m\u001b[39m\"\u001b[39;49m,\u001b[39m\"\u001b[39;49m\u001b[39mtimestamp_updated\u001b[39;49m\u001b[39m\"\u001b[39;49m,\u001b[39m\"\u001b[39;49m\u001b[39mcaregiver_id\u001b[39;49m\u001b[39m\"\u001b[39;49m,\u001b[39m\"\u001b[39;49m\u001b[39mevent_id\u001b[39;49m\u001b[39m\"\u001b[39;49m,\u001b[39m\"\u001b[39;49m\u001b[39mhousehold_id\u001b[39;49m\u001b[39m\"\u001b[39;49m,\u001b[39m\"\u001b[39;49m\u001b[39mperson_id\u001b[39;49m\u001b[39m\"\u001b[39;49m,\u001b[39m\"\u001b[39;49m\u001b[39mquestion_id\u001b[39;49m\u001b[39m\"\u001b[39;49m]\n\u001b[1;32m     <a href='vscode-notebook-cell:/home/bmugwe/Desktop/Dev/cpims_all/Data_import/Usaid4thechild_data/MIS-CPIMS%20Data%20Import%20Test%20Script.ipynb#X25sZmlsZQ%3D%3D?line=11'>12</a>\u001b[0m cpara_output_sql\n",
      "File \u001b[0;32m~/.local/lib/python3.10/site-packages/pandas/core/frame.py:3505\u001b[0m, in \u001b[0;36mDataFrame.__getitem__\u001b[0;34m(self, key)\u001b[0m\n\u001b[1;32m   3503\u001b[0m \u001b[39mif\u001b[39;00m \u001b[39mself\u001b[39m\u001b[39m.\u001b[39mcolumns\u001b[39m.\u001b[39mnlevels \u001b[39m>\u001b[39m \u001b[39m1\u001b[39m:\n\u001b[1;32m   3504\u001b[0m     \u001b[39mreturn\u001b[39;00m \u001b[39mself\u001b[39m\u001b[39m.\u001b[39m_getitem_multilevel(key)\n\u001b[0;32m-> 3505\u001b[0m indexer \u001b[39m=\u001b[39m \u001b[39mself\u001b[39;49m\u001b[39m.\u001b[39;49mcolumns\u001b[39m.\u001b[39;49mget_loc(key)\n\u001b[1;32m   3506\u001b[0m \u001b[39mif\u001b[39;00m is_integer(indexer):\n\u001b[1;32m   3507\u001b[0m     indexer \u001b[39m=\u001b[39m [indexer]\n",
      "File \u001b[0;32m~/.local/lib/python3.10/site-packages/pandas/core/indexes/base.py:3623\u001b[0m, in \u001b[0;36mIndex.get_loc\u001b[0;34m(self, key, method, tolerance)\u001b[0m\n\u001b[1;32m   3621\u001b[0m     \u001b[39mreturn\u001b[39;00m \u001b[39mself\u001b[39m\u001b[39m.\u001b[39m_engine\u001b[39m.\u001b[39mget_loc(casted_key)\n\u001b[1;32m   3622\u001b[0m \u001b[39mexcept\u001b[39;00m \u001b[39mKeyError\u001b[39;00m \u001b[39mas\u001b[39;00m err:\n\u001b[0;32m-> 3623\u001b[0m     \u001b[39mraise\u001b[39;00m \u001b[39mKeyError\u001b[39;00m(key) \u001b[39mfrom\u001b[39;00m \u001b[39merr\u001b[39;00m\n\u001b[1;32m   3624\u001b[0m \u001b[39mexcept\u001b[39;00m \u001b[39mTypeError\u001b[39;00m:\n\u001b[1;32m   3625\u001b[0m     \u001b[39m# If we have a listlike key, _check_indexing_error will raise\u001b[39;00m\n\u001b[1;32m   3626\u001b[0m     \u001b[39m#  InvalidIndexError. Otherwise we fall through and re-raise\u001b[39;00m\n\u001b[1;32m   3627\u001b[0m     \u001b[39m#  the TypeError.\u001b[39;00m\n\u001b[1;32m   3628\u001b[0m     \u001b[39mself\u001b[39m\u001b[39m.\u001b[39m_check_indexing_error(key)\n",
      "\u001b[0;31mKeyError\u001b[0m: ('cpara_id', 'question_code', 'answer', 'question_type', 'domain', 'date_of_event', 'date_of_previous_event', 'timestamp_created', 'is_void', 'timestamp_updated', 'caregiver_id', 'event_id', 'household_id', 'person_id', 'question_id')"
     ]
    }
   ],
   "source": [
    "cpara_data_output = ovc_cpara_with_q.rename(columns={\"code\": \"question_code\",\"value\": \"answer\",\"question_type\": \"question_type\",\"domain\": \"domain\",\"assessment_date\": \"date_of_event\",\"client_time\": \"timestamp_created\",\"cpims_id\": \"caregiver_id\",0:  \"event_id\",\"household\": \"household_id\",\"cpims_ovc_id\": \" person_id\",\"question_id\": \"question_id\"})\n",
    "\n",
    "cpara_data_output['cpara_id'] = ''\n",
    "cpara_data_output['date_of_previous_event'] = ''\n",
    "cpara_data_output['is_void'] = ''\n",
    "# cpara_data_output['timestamp_updated'] = ''\n",
    "\n",
    "\n",
    "cpara_data_output.columns\n",
    "cpara_output_sql = cpara_data_output[\"cpara_id\",\"question_code\",\"answer\",\"question_type\",\"domain\",\"date_of_event\",\"date_of_previous_event\",\"timestamp_created\",\"is_void\",\"timestamp_updated\",\"caregiver_id\",\"event_id\",\"household_id\",\"person_id\",\"question_id\"]\n",
    "\n",
    "cpara_output_sql\n"
   ]
  },
  {
   "cell_type": "code",
   "execution_count": null,
   "id": "c90842d5",
   "metadata": {},
   "outputs": [],
   "source": []
  }
 ],
 "metadata": {
  "kernelspec": {
   "display_name": "Python 3",
   "language": "python",
   "name": "python3"
  },
  "language_info": {
   "codemirror_mode": {
    "name": "ipython",
    "version": 3
   },
   "file_extension": ".py",
   "mimetype": "text/x-python",
   "name": "python",
   "nbconvert_exporter": "python",
   "pygments_lexer": "ipython3",
   "version": "3.10.6"
  },
  "vscode": {
   "interpreter": {
    "hash": "916dbcbb3f70747c44a77c7bcd40155683ae19c65e1c03b4aa3499c5328201f1"
   }
  }
 },
 "nbformat": 4,
 "nbformat_minor": 5
}

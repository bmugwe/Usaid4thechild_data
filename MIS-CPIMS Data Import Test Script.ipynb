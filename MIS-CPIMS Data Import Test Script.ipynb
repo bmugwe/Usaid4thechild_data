{
 "cells": [
  {
   "cell_type": "markdown",
   "id": "37a84c98",
   "metadata": {},
   "source": [
    "# MIS-CPIMS Data Import Scripts"
   ]
  },
  {
   "cell_type": "markdown",
   "id": "a8f5728e",
   "metadata": {},
   "source": [
    "Import pandas library and read exported CPARA data from MIS (XLSX). Display all columns for exploration."
   ]
  },
  {
   "cell_type": "code",
   "execution_count": 18,
   "id": "16bff81a",
   "metadata": {},
   "outputs": [],
   "source": [
    "import pandas as pd\n",
    "# Reads USAID 4The Child cpara data\n",
    "cpara=pd.read_excel(\"Data/CPARA.xlsx\", sheet_name=\"Sheet1\")\n",
    "# cpara.columns"
   ]
  },
  {
   "cell_type": "code",
   "execution_count": 19,
   "id": "89713b24",
   "metadata": {},
   "outputs": [],
   "source": [
    "# reads the mapping for U4TC mapping for HH_id, cpims_ovc_id, caregiver id\n",
    "cpims_hhs=pd.read_csv(\"Data/Household ID OVC Mapping.csv\")"
   ]
  },
  {
   "cell_type": "code",
   "execution_count": 20,
   "id": "7738b2f6",
   "metadata": {},
   "outputs": [],
   "source": [
    "# Reads individual cpara data for U4TC\n",
    "cpara_ovc_questions = pd.read_excel(\"Data/OVC_Questions.xlsx\", sheet_name=\"Sheet1\")"
   ]
  },
  {
   "cell_type": "code",
   "execution_count": 21,
   "id": "36f4a35e",
   "metadata": {},
   "outputs": [
    {
     "name": "stdout",
     "output_type": "stream",
     "text": [
      "32516\n"
     ]
    }
   ],
   "source": [
    "# Generate UID whose length is equivalent to the U4TC cpara data\n",
    "import uuid\n",
    "\n",
    "record_counts = cpara['record_id'].count()\n",
    "\n",
    "def generate_uid(count):\n",
    "    uid_list = []\n",
    "    for i in range (0, count):\n",
    "        uuid_gen = uuid.uuid4()\n",
    "        # print(f'generated uid: {uuid_gen} inte: {i}')\n",
    "        uid_list.append(uuid_gen)\n",
    "    return uid_list    \n",
    "\n",
    "df_uid = pd.DataFrame(generate_uid(record_counts))\n",
    "print(record_counts)"
   ]
  },
  {
   "cell_type": "code",
   "execution_count": 22,
   "id": "d009c385",
   "metadata": {},
   "outputs": [],
   "source": [
    "# Reads the cpims questions mapping\n",
    "cpims_questions=pd.read_excel(\"Data/ovc_care_questions.xlsx\")"
   ]
  },
  {
   "cell_type": "code",
   "execution_count": 23,
   "id": "7fa11bb3",
   "metadata": {},
   "outputs": [],
   "source": [
    "# Mergers cpara data with household id, cpims id on caregiver_id\n",
    "cpara_data1=pd.merge(cpara, cpims_hhs, how='left', left_on='cpims_id', right_on='caregiver_id')\n",
    "# Merges cpara data with the event id uids\n",
    "cpara_data2 = pd.merge(cpara_data1, df_uid, left_index=True, right_index=True)\n",
    "# cpara_data2.columns"
   ]
  },
  {
   "cell_type": "code",
   "execution_count": 24,
   "id": "9942157f",
   "metadata": {},
   "outputs": [],
   "source": [
    "# output the uids mapped to hh, cg, cpims\n",
    "df_uid_event = cpara_data2[['household','caregiver_id', 'cpims_ovc_id', 0]]\n",
    "df_uid_events = df_uid_event.rename(columns={0: 'event_id'})\n",
    "\n",
    "df_uid_events.to_csv('event_id_uids.csv')"
   ]
  },
  {
   "cell_type": "code",
   "execution_count": 25,
   "id": "c383bc14",
   "metadata": {},
   "outputs": [],
   "source": [
    "# cpara individual table merges with with household id, cpims id on caregiver_id\n",
    "cpara_individual=pd.merge(cpara_ovc_questions, cpims_hhs, how='left', left_on='caregiver_id', right_on='caregiver_id')\n",
    "# cpara_individual.head(2)"
   ]
  },
  {
   "cell_type": "code",
   "execution_count": 26,
   "id": "bbf12fc7",
   "metadata": {},
   "outputs": [],
   "source": [
    "cpara_data = cpara_data2.rename(columns={\"assessment_date\": \"date_of_event\",\"client_time\": \"timestamp_created\",\"cpims_id\": \"caregiver_id_ustc\",0:  \"event_id\",\"household\": \"household_id\",\"cpims_ovc_id\": \"person_id\"})\n",
    "\n",
    "cpara_data['cpara_id'] = ''\n",
    "cpara_data['date_of_previous_event'] = ''\n",
    "cpara_data['is_void'] = 'f'\n",
    "cpara_data['timestamp_updated'] = ''\n",
    "# cpara_data.columns"
   ]
  },
  {
   "cell_type": "markdown",
   "metadata": {},
   "source": []
  },
  {
   "cell_type": "markdown",
   "id": "854fefc6",
   "metadata": {},
   "source": [
    "Align the MIS data from rows to columns => vertical and only display the first two records. Move the columns that should not be considered as var."
   ]
  },
  {
   "cell_type": "code",
   "execution_count": 27,
   "id": "1061021b",
   "metadata": {
    "scrolled": true
   },
   "outputs": [],
   "source": [
    "# converts the horizontal table of cpara data to vertical table for manipulation\n",
    "cpara_unpivot=pd.melt(cpara_data, id_vars=[\"record_id\",\"date_of_event\",\"case_manager\",\"caregiver_id_ustc\",\"child_headed\",\"has_hei\",\"has_pbf\",\"has_svac\",\"healthy\",\"stable\",\"safe\",\"schooled\",\"entry_time\",\"action_by\",\"designation\",\"lip\",\"entry_by_name\",\"timestamp_created\",\"deleted\",\"modified\",\"gps\",\"device\",\"cpimsId\",\"names\",\"caregiverhivstatus\",\"cbo_id\",\"cbo\",\"county\",\"subcounty\",\"ward\",\"chv_id\",\"chv\",'Unnamed: 0',\"person_id\",\"caregiver_id\",\"household_id\",\"event_id\",\"cpara_id\",\"date_of_previous_event\",\"is_void\",\"timestamp_updated\"])\n",
    "\n",
    "# cpara_data.columns"
   ]
  },
  {
   "cell_type": "code",
   "execution_count": 28,
   "id": "46c46b2d",
   "metadata": {},
   "outputs": [
    {
     "data": {
      "text/plain": [
       "Index(['record_id', 'date_of_event', 'case_manager', 'caregiver_id_ustc',\n",
       "       'child_headed', 'has_hei', 'has_pbf', 'has_svac', 'healthy', 'stable',\n",
       "       'safe', 'schooled', 'entry_time', 'action_by', 'designation', 'lip',\n",
       "       'entry_by_name', 'timestamp_created', 'deleted', 'modified', 'gps',\n",
       "       'device', 'cpimsId', 'names', 'caregiverhivstatus', 'cbo_id', 'cbo',\n",
       "       'county', 'subcounty', 'ward', 'chv_id', 'chv', 'Unnamed: 0',\n",
       "       'person_id', 'caregiver_id', 'household_id', 'event_id', 'cpara_id',\n",
       "       'date_of_previous_event', 'is_void', 'timestamp_updated', 'variable',\n",
       "       'value'],\n",
       "      dtype='object')"
      ]
     },
     "execution_count": 28,
     "metadata": {},
     "output_type": "execute_result"
    }
   ],
   "source": [
    "cpara_unpivot.columns"
   ]
  },
  {
   "cell_type": "code",
   "execution_count": 29,
   "id": "64cfa7dc",
   "metadata": {
    "scrolled": false
   },
   "outputs": [],
   "source": [
    "# filters bencmark questions and pivots them.\n",
    "ovc_care_benchmark = cpara_unpivot[cpara_unpivot[\"variable\"].str.contains('benchmark')]#.pivot(index=['record_id', 'cpims_id','assessment_date','entry_time', 'modified', 'cpims_ovc_id', 'household', 0], columns='variable', values=['value'])\n",
    "# ovc_care_benchmark.to_excel(\"ovc_care_benchmark.xlsx\")\n",
    "unique_hh = ovc_care_benchmark['household_id'].str.contains('NaN')\n",
    "\n",
    "# print(unique_hh.str.contains('NaN'))"
   ]
  },
  {
   "cell_type": "code",
   "execution_count": 30,
   "id": "41a2048d",
   "metadata": {},
   "outputs": [
    {
     "data": {
      "text/plain": [
       "count     292644\n",
       "unique         1\n",
       "top        False\n",
       "freq      292644\n",
       "Name: household_id, dtype: object"
      ]
     },
     "execution_count": 30,
     "metadata": {},
     "output_type": "execute_result"
    }
   ],
   "source": [
    "unique_hh.describe()"
   ]
  },
  {
   "cell_type": "code",
   "execution_count": 31,
   "id": "91d0cfed",
   "metadata": {
    "scrolled": false
   },
   "outputs": [],
   "source": [
    "# Filter cpara question and pivots them or not.  // send to excel\n",
    "#ovc_care_cpara = cpara_unpivot[cpara_unpivot[\"variable\"].str.startswith('q')]\n",
    "ovc_care_cpara = cpara_unpivot[cpara_unpivot[\"variable\"].str.startswith('q')]#.pivot(index=['record_id', 'cpims_id','assessment_date','cpims_ovc_id', 'household'], columns='variable', values=['value'])\n",
    "# ovc_care_cpara.to_csv(\"ovc_care_cpara_pivot.csv\")"
   ]
  },
  {
   "cell_type": "code",
   "execution_count": 32,
   "metadata": {},
   "outputs": [
    {
     "data": {
      "text/plain": [
       "Index(['question_id', 'code', 'question', 'domain', 'question_text',\n",
       "       'question_type', 'is_void', 'timestamp_created', 'timestamp_updated',\n",
       "       'form_id', 'CURRENT cPARA', 'ind_cpara', 'cpara'],\n",
       "      dtype='object')"
      ]
     },
     "execution_count": 32,
     "metadata": {},
     "output_type": "execute_result"
    }
   ],
   "source": [
    "cpims_questions.columns"
   ]
  },
  {
   "cell_type": "code",
   "execution_count": 33,
   "id": "a5c6af60",
   "metadata": {},
   "outputs": [],
   "source": [
    "ovc_cpara_with_q = pd.merge(ovc_care_cpara, cpims_questions, how='left', left_on='variable', right_on='cpara')\n",
    "\n",
    "# ovc_cpara_with_q.columns"
   ]
  },
  {
   "cell_type": "code",
   "execution_count": 34,
   "id": "c8ea82ff",
   "metadata": {},
   "outputs": [
    {
     "data": {
      "text/html": [
       "<div>\n",
       "<style scoped>\n",
       "    .dataframe tbody tr th:only-of-type {\n",
       "        vertical-align: middle;\n",
       "    }\n",
       "\n",
       "    .dataframe tbody tr th {\n",
       "        vertical-align: top;\n",
       "    }\n",
       "\n",
       "    .dataframe thead th {\n",
       "        text-align: right;\n",
       "    }\n",
       "</style>\n",
       "<table border=\"1\" class=\"dataframe\">\n",
       "  <thead>\n",
       "    <tr style=\"text-align: right;\">\n",
       "      <th></th>\n",
       "      <th>record_id</th>\n",
       "      <th>cpara_record_id</th>\n",
       "      <th>cpara_date</th>\n",
       "      <th>question</th>\n",
       "      <th>response</th>\n",
       "      <th>cpims_id</th>\n",
       "      <th>caregiver_id</th>\n",
       "      <th>chv_id</th>\n",
       "      <th>Unnamed: 0</th>\n",
       "      <th>cpims_ovc_id</th>\n",
       "      <th>household</th>\n",
       "    </tr>\n",
       "  </thead>\n",
       "  <tbody>\n",
       "    <tr>\n",
       "      <th>0</th>\n",
       "      <td>5</td>\n",
       "      <td>8859</td>\n",
       "      <td>2022-08-02</td>\n",
       "      <td>q3.1</td>\n",
       "      <td>Yes</td>\n",
       "      <td>1705501</td>\n",
       "      <td>1676623</td>\n",
       "      <td>2042693</td>\n",
       "      <td>43178.0</td>\n",
       "      <td>1687650.0</td>\n",
       "      <td>b540b485-7399-4407-bd14-066f5b79c133</td>\n",
       "    </tr>\n",
       "    <tr>\n",
       "      <th>1</th>\n",
       "      <td>5</td>\n",
       "      <td>8859</td>\n",
       "      <td>2022-08-02</td>\n",
       "      <td>q3.1</td>\n",
       "      <td>Yes</td>\n",
       "      <td>1705501</td>\n",
       "      <td>1676623</td>\n",
       "      <td>2042693</td>\n",
       "      <td>43184.0</td>\n",
       "      <td>1705501.0</td>\n",
       "      <td>b540b485-7399-4407-bd14-066f5b79c133</td>\n",
       "    </tr>\n",
       "  </tbody>\n",
       "</table>\n",
       "</div>"
      ],
      "text/plain": [
       "   record_id  cpara_record_id  cpara_date question response  cpims_id  \\\n",
       "0          5             8859  2022-08-02     q3.1      Yes   1705501   \n",
       "1          5             8859  2022-08-02     q3.1      Yes   1705501   \n",
       "\n",
       "   caregiver_id   chv_id  Unnamed: 0  cpims_ovc_id  \\\n",
       "0       1676623  2042693     43178.0     1687650.0   \n",
       "1       1676623  2042693     43184.0     1705501.0   \n",
       "\n",
       "                              household  \n",
       "0  b540b485-7399-4407-bd14-066f5b79c133  \n",
       "1  b540b485-7399-4407-bd14-066f5b79c133  "
      ]
     },
     "execution_count": 34,
     "metadata": {},
     "output_type": "execute_result"
    }
   ],
   "source": [
    "# cpara_individual.to_excel(\"cpara_ovc_questions.xlsx\")\n",
    "cpara_individual.head(2)"
   ]
  },
  {
   "cell_type": "code",
   "execution_count": 35,
   "id": "f17803f2",
   "metadata": {},
   "outputs": [
    {
     "data": {
      "text/plain": [
       "Index(['Unnamed: 0', 'cpims_ovc_id', 'caregiver_id', 'household'], dtype='object')"
      ]
     },
     "execution_count": 35,
     "metadata": {},
     "output_type": "execute_result"
    }
   ],
   "source": [
    "cpims_hhs.columns"
   ]
  },
  {
   "cell_type": "code",
   "execution_count": 36,
   "id": "3fc06e52",
   "metadata": {},
   "outputs": [],
   "source": [
    "cpara_data.to_excel(\"CPARA_MAPPING.xlsx\")"
   ]
  },
  {
   "cell_type": "code",
   "execution_count": 37,
   "id": "0a8704d0",
   "metadata": {},
   "outputs": [
    {
     "data": {
      "text/plain": [
       "Index(['record_id', 'date_of_event', 'case_manager', 'caregiver_id_ustc',\n",
       "       'child_headed', 'has_hei', 'has_pbf', 'has_svac', 'healthy', 'stable',\n",
       "       'safe', 'schooled', 'entry_time', 'action_by', 'designation', 'lip',\n",
       "       'entry_by_name', 'timestamp_created_x', 'deleted', 'modified', 'gps',\n",
       "       'device', 'cpimsId', 'names', 'caregiverhivstatus', 'cbo_id', 'cbo',\n",
       "       'county', 'subcounty', 'ward', 'chv_id', 'chv', 'Unnamed: 0',\n",
       "       'person_id', 'caregiver_id', 'household_id', 'event_id', 'cpara_id',\n",
       "       'date_of_previous_event', 'is_void_x', 'timestamp_updated_x',\n",
       "       'variable', 'answer', 'question_id', 'question_code', 'question',\n",
       "       'domain', 'question_text', 'question_type', 'is_void_y',\n",
       "       'timestamp_created_y', 'timestamp_updated_y', 'form_id',\n",
       "       'CURRENT cPARA', 'ind_cpara', 'cpara'],\n",
       "      dtype='object')"
      ]
     },
     "execution_count": 37,
     "metadata": {},
     "output_type": "execute_result"
    }
   ],
   "source": [
    "cpara_data_output = ovc_cpara_with_q.rename(columns={\"code\": \"question_code\",\"value\": \"answer\",\"question_type\": \"question_type\",\"domain\": \"domain\",\"question_id\": \"question_id\"})\n",
    "\n",
    "\n",
    "cpara_data_output.columns\n",
    "\n"
   ]
  },
  {
   "cell_type": "code",
   "execution_count": 38,
   "id": "dda742b5",
   "metadata": {},
   "outputs": [],
   "source": [
    "columns_to_out = [\"cpara_id\",\"question_code\",\"answer\",\"question_type\",\"domain\",\"date_of_event\",\"date_of_previous_event\",\"timestamp_created_x\",\"is_void_x\",\"timestamp_updated_x\",\"caregiver_id\",\"event_id\",\"household_id\",\"person_id\",\"question_id\"]\n",
    "\n",
    "cpara_output_sql = cpara_data_output[columns_to_out]\n",
    "\n",
    "# cpara_output_sql.to_csv('cpara_data.csv')\n",
    "\n",
    "cpara_output_sql.iloc[0:20000].to_csv('sample_cpara_data.csv')"
   ]
  },
  {
   "cell_type": "code",
   "execution_count": 39,
   "id": "c90842d5",
   "metadata": {},
   "outputs": [],
   "source": [
    "# unique_hh_ids = pd.DataFrame(cpara_output_sql['household_id'].unique())\n",
    "# unique_hh_ids.groupby([])\n",
    "cpara_output_sql.groupby(['caregiver_id'])['person_id'].count().to_csv('unique_hhs.csv')"
   ]
  },
  {
   "cell_type": "code",
   "execution_count": 40,
   "id": "480e2333",
   "metadata": {},
   "outputs": [
    {
     "data": {
      "text/html": [
       "<div>\n",
       "<style scoped>\n",
       "    .dataframe tbody tr th:only-of-type {\n",
       "        vertical-align: middle;\n",
       "    }\n",
       "\n",
       "    .dataframe tbody tr th {\n",
       "        vertical-align: top;\n",
       "    }\n",
       "\n",
       "    .dataframe thead th {\n",
       "        text-align: right;\n",
       "    }\n",
       "</style>\n",
       "<table border=\"1\" class=\"dataframe\">\n",
       "  <thead>\n",
       "    <tr style=\"text-align: right;\">\n",
       "      <th></th>\n",
       "      <th>record_id</th>\n",
       "      <th>date_of_event</th>\n",
       "      <th>caregiver_id_ustc</th>\n",
       "      <th>case_manager</th>\n",
       "      <th>child_headed</th>\n",
       "      <th>has_hei</th>\n",
       "      <th>has_pbf</th>\n",
       "      <th>has_svac</th>\n",
       "      <th>q1_1</th>\n",
       "      <th>q1_2</th>\n",
       "      <th>...</th>\n",
       "      <th>chv</th>\n",
       "      <th>Unnamed: 0</th>\n",
       "      <th>person_id</th>\n",
       "      <th>caregiver_id</th>\n",
       "      <th>household_id</th>\n",
       "      <th>event_id</th>\n",
       "      <th>cpara_id</th>\n",
       "      <th>date_of_previous_event</th>\n",
       "      <th>is_void</th>\n",
       "      <th>timestamp_updated</th>\n",
       "    </tr>\n",
       "  </thead>\n",
       "  <tbody>\n",
       "    <tr>\n",
       "      <th>0</th>\n",
       "      <td>9325</td>\n",
       "      <td>2022-09-12</td>\n",
       "      <td>105151</td>\n",
       "      <td>NaN</td>\n",
       "      <td>No</td>\n",
       "      <td>No</td>\n",
       "      <td>No</td>\n",
       "      <td>No</td>\n",
       "      <td>Yes</td>\n",
       "      <td>na</td>\n",
       "      <td>...</td>\n",
       "      <td>GILLIANN GILLIAN ACHIENGGG</td>\n",
       "      <td>99003</td>\n",
       "      <td>4282788</td>\n",
       "      <td>105151.0</td>\n",
       "      <td>29d199db-2f32-4025-bb9b-94357558550b</td>\n",
       "      <td>89e06cf9-8aff-4d00-8483-16d949ce21c5</td>\n",
       "      <td></td>\n",
       "      <td></td>\n",
       "      <td></td>\n",
       "      <td></td>\n",
       "    </tr>\n",
       "    <tr>\n",
       "      <th>1</th>\n",
       "      <td>9325</td>\n",
       "      <td>2022-09-12</td>\n",
       "      <td>105151</td>\n",
       "      <td>NaN</td>\n",
       "      <td>No</td>\n",
       "      <td>No</td>\n",
       "      <td>No</td>\n",
       "      <td>No</td>\n",
       "      <td>Yes</td>\n",
       "      <td>na</td>\n",
       "      <td>...</td>\n",
       "      <td>GILLIANN GILLIAN ACHIENGGG</td>\n",
       "      <td>99026</td>\n",
       "      <td>4282807</td>\n",
       "      <td>105151.0</td>\n",
       "      <td>29d199db-2f32-4025-bb9b-94357558550b</td>\n",
       "      <td>22cefcf8-0452-4c21-b837-c12953bf2c60</td>\n",
       "      <td></td>\n",
       "      <td></td>\n",
       "      <td></td>\n",
       "      <td></td>\n",
       "    </tr>\n",
       "    <tr>\n",
       "      <th>2</th>\n",
       "      <td>9325</td>\n",
       "      <td>2022-09-12</td>\n",
       "      <td>105151</td>\n",
       "      <td>NaN</td>\n",
       "      <td>No</td>\n",
       "      <td>No</td>\n",
       "      <td>No</td>\n",
       "      <td>No</td>\n",
       "      <td>Yes</td>\n",
       "      <td>na</td>\n",
       "      <td>...</td>\n",
       "      <td>GILLIANN GILLIAN ACHIENGGG</td>\n",
       "      <td>99031</td>\n",
       "      <td>4282821</td>\n",
       "      <td>105151.0</td>\n",
       "      <td>ae1ff881-bf28-471a-9a03-3efceed4d96a</td>\n",
       "      <td>8557c297-c195-4998-b2d6-d744e308bb59</td>\n",
       "      <td></td>\n",
       "      <td></td>\n",
       "      <td></td>\n",
       "      <td></td>\n",
       "    </tr>\n",
       "    <tr>\n",
       "      <th>3</th>\n",
       "      <td>9325</td>\n",
       "      <td>2022-09-12</td>\n",
       "      <td>105151</td>\n",
       "      <td>NaN</td>\n",
       "      <td>No</td>\n",
       "      <td>No</td>\n",
       "      <td>No</td>\n",
       "      <td>No</td>\n",
       "      <td>Yes</td>\n",
       "      <td>na</td>\n",
       "      <td>...</td>\n",
       "      <td>GILLIANN GILLIAN ACHIENGGG</td>\n",
       "      <td>200681</td>\n",
       "      <td>4282788</td>\n",
       "      <td>105151.0</td>\n",
       "      <td>ae1ff881-bf28-471a-9a03-3efceed4d96a</td>\n",
       "      <td>c284dee3-3b5c-4267-8eff-40b1e04303da</td>\n",
       "      <td></td>\n",
       "      <td></td>\n",
       "      <td></td>\n",
       "      <td></td>\n",
       "    </tr>\n",
       "    <tr>\n",
       "      <th>4</th>\n",
       "      <td>9325</td>\n",
       "      <td>2022-09-12</td>\n",
       "      <td>105151</td>\n",
       "      <td>NaN</td>\n",
       "      <td>No</td>\n",
       "      <td>No</td>\n",
       "      <td>No</td>\n",
       "      <td>No</td>\n",
       "      <td>Yes</td>\n",
       "      <td>na</td>\n",
       "      <td>...</td>\n",
       "      <td>GILLIANN GILLIAN ACHIENGGG</td>\n",
       "      <td>200705</td>\n",
       "      <td>4282807</td>\n",
       "      <td>105151.0</td>\n",
       "      <td>ae1ff881-bf28-471a-9a03-3efceed4d96a</td>\n",
       "      <td>46eef32e-baaf-4ea8-b0a6-d2a49b13eb32</td>\n",
       "      <td></td>\n",
       "      <td></td>\n",
       "      <td></td>\n",
       "      <td></td>\n",
       "    </tr>\n",
       "  </tbody>\n",
       "</table>\n",
       "<p>5 rows × 85 columns</p>\n",
       "</div>"
      ],
      "text/plain": [
       "   record_id date_of_event  caregiver_id_ustc  case_manager child_headed  \\\n",
       "0       9325    2022-09-12             105151           NaN           No   \n",
       "1       9325    2022-09-12             105151           NaN           No   \n",
       "2       9325    2022-09-12             105151           NaN           No   \n",
       "3       9325    2022-09-12             105151           NaN           No   \n",
       "4       9325    2022-09-12             105151           NaN           No   \n",
       "\n",
       "  has_hei has_pbf has_svac q1_1 q1_2  ...                         chv  \\\n",
       "0      No      No       No  Yes   na  ...  GILLIANN GILLIAN ACHIENGGG   \n",
       "1      No      No       No  Yes   na  ...  GILLIANN GILLIAN ACHIENGGG   \n",
       "2      No      No       No  Yes   na  ...  GILLIANN GILLIAN ACHIENGGG   \n",
       "3      No      No       No  Yes   na  ...  GILLIANN GILLIAN ACHIENGGG   \n",
       "4      No      No       No  Yes   na  ...  GILLIANN GILLIAN ACHIENGGG   \n",
       "\n",
       "  Unnamed: 0 person_id caregiver_id                          household_id  \\\n",
       "0      99003   4282788     105151.0  29d199db-2f32-4025-bb9b-94357558550b   \n",
       "1      99026   4282807     105151.0  29d199db-2f32-4025-bb9b-94357558550b   \n",
       "2      99031   4282821     105151.0  ae1ff881-bf28-471a-9a03-3efceed4d96a   \n",
       "3     200681   4282788     105151.0  ae1ff881-bf28-471a-9a03-3efceed4d96a   \n",
       "4     200705   4282807     105151.0  ae1ff881-bf28-471a-9a03-3efceed4d96a   \n",
       "\n",
       "                               event_id cpara_id date_of_previous_event  \\\n",
       "0  89e06cf9-8aff-4d00-8483-16d949ce21c5                                   \n",
       "1  22cefcf8-0452-4c21-b837-c12953bf2c60                                   \n",
       "2  8557c297-c195-4998-b2d6-d744e308bb59                                   \n",
       "3  c284dee3-3b5c-4267-8eff-40b1e04303da                                   \n",
       "4  46eef32e-baaf-4ea8-b0a6-d2a49b13eb32                                   \n",
       "\n",
       "  is_void timestamp_updated  \n",
       "0                            \n",
       "1                            \n",
       "2                            \n",
       "3                            \n",
       "4                            \n",
       "\n",
       "[5 rows x 85 columns]"
      ]
     },
     "execution_count": 40,
     "metadata": {},
     "output_type": "execute_result"
    }
   ],
   "source": [
    "cpara_data.head()"
   ]
  },
  {
   "cell_type": "code",
   "execution_count": 41,
   "id": "ccca6203",
   "metadata": {},
   "outputs": [
    {
     "name": "stderr",
     "output_type": "stream",
     "text": [
      "/tmp/ipykernel_53139/1925290488.py:10: SettingWithCopyWarning: \n",
      "A value is trying to be set on a copy of a slice from a DataFrame.\n",
      "Try using .loc[row_indexer,col_indexer] = value instead\n",
      "\n",
      "See the caveats in the documentation: https://pandas.pydata.org/pandas-docs/stable/user_guide/indexing.html#returning-a-view-versus-a-copy\n",
      "  ovc_care_events[i]= ' '\n",
      "/tmp/ipykernel_53139/1925290488.py:10: SettingWithCopyWarning: \n",
      "A value is trying to be set on a copy of a slice from a DataFrame.\n",
      "Try using .loc[row_indexer,col_indexer] = value instead\n",
      "\n",
      "See the caveats in the documentation: https://pandas.pydata.org/pandas-docs/stable/user_guide/indexing.html#returning-a-view-versus-a-copy\n",
      "  ovc_care_events[i]= ' '\n",
      "/tmp/ipykernel_53139/1925290488.py:10: SettingWithCopyWarning: \n",
      "A value is trying to be set on a copy of a slice from a DataFrame.\n",
      "Try using .loc[row_indexer,col_indexer] = value instead\n",
      "\n",
      "See the caveats in the documentation: https://pandas.pydata.org/pandas-docs/stable/user_guide/indexing.html#returning-a-view-versus-a-copy\n",
      "  ovc_care_events[i]= ' '\n",
      "/tmp/ipykernel_53139/1925290488.py:10: SettingWithCopyWarning: \n",
      "A value is trying to be set on a copy of a slice from a DataFrame.\n",
      "Try using .loc[row_indexer,col_indexer] = value instead\n",
      "\n",
      "See the caveats in the documentation: https://pandas.pydata.org/pandas-docs/stable/user_guide/indexing.html#returning-a-view-versus-a-copy\n",
      "  ovc_care_events[i]= ' '\n",
      "/tmp/ipykernel_53139/1925290488.py:10: SettingWithCopyWarning: \n",
      "A value is trying to be set on a copy of a slice from a DataFrame.\n",
      "Try using .loc[row_indexer,col_indexer] = value instead\n",
      "\n",
      "See the caveats in the documentation: https://pandas.pydata.org/pandas-docs/stable/user_guide/indexing.html#returning-a-view-versus-a-copy\n",
      "  ovc_care_events[i]= ' '\n",
      "/tmp/ipykernel_53139/1925290488.py:10: SettingWithCopyWarning: \n",
      "A value is trying to be set on a copy of a slice from a DataFrame.\n",
      "Try using .loc[row_indexer,col_indexer] = value instead\n",
      "\n",
      "See the caveats in the documentation: https://pandas.pydata.org/pandas-docs/stable/user_guide/indexing.html#returning-a-view-versus-a-copy\n",
      "  ovc_care_events[i]= ' '\n",
      "/tmp/ipykernel_53139/1925290488.py:10: SettingWithCopyWarning: \n",
      "A value is trying to be set on a copy of a slice from a DataFrame.\n",
      "Try using .loc[row_indexer,col_indexer] = value instead\n",
      "\n",
      "See the caveats in the documentation: https://pandas.pydata.org/pandas-docs/stable/user_guide/indexing.html#returning-a-view-versus-a-copy\n",
      "  ovc_care_events[i]= ' '\n"
     ]
    },
    {
     "data": {
      "text/plain": [
       "Index(['event_id', 'date_of_event', 'household_id', 'person_id',\n",
       "       'event_type_id', 'event_counter', 'event_score',\n",
       "       'date_of_previous_event', 'created_by', 'timestamp_created', 'is_void'],\n",
       "      dtype='object')"
      ]
     },
     "execution_count": 41,
     "metadata": {},
     "output_type": "execute_result"
    }
   ],
   "source": [
    "event_columns = ['event_id', 'date_of_event', 'household_id', 'person_id']\n",
    "\n",
    "ovc_care_events = cpara_data[event_columns]\n",
    "\n",
    "ovc_care_events\n",
    "\n",
    "additional_columns = [\"event_type_id\",\"event_counter\",\"event_score\",\"date_of_previous_event\",\"created_by\",\"timestamp_created\",\"is_void\"]\n",
    "\n",
    "for i in additional_columns:\n",
    "    ovc_care_events[i]= ' '\n",
    "\n",
    "ovc_care_events.columns\n"
   ]
  },
  {
   "cell_type": "code",
   "execution_count": 42,
   "id": "edb3703c",
   "metadata": {},
   "outputs": [],
   "source": [
    "# get sync id\n",
    "# events_count = ovc_care_events['event_id'].count()\n",
    "sync_uid = pd.DataFrame(generate_uid(record_counts))\n",
    "sync_uid\n",
    "\n",
    "ovc_care_events_wi = ovc_care_events.reset_index()\n",
    "\n",
    "ovc_care_events_wi\n",
    "\n",
    "ovc_care_events_sync = pd.merge(ovc_care_events_wi, sync_uid,left_index=True,  right_index=True)\n",
    "\n",
    "ovc_care_events_sync_out=ovc_care_events_sync.rename(columns={0: 'sync_id'})\n",
    "\n"
   ]
  },
  {
   "cell_type": "code",
   "execution_count": 43,
   "id": "7a2b13d4",
   "metadata": {},
   "outputs": [
    {
     "data": {
      "text/plain": [
       "32516"
      ]
     },
     "execution_count": 43,
     "metadata": {},
     "output_type": "execute_result"
    }
   ],
   "source": [
    "ovc_care_events_sync_out['sync_id'].count()\n",
    "cpara['record_id'].count()"
   ]
  },
  {
   "cell_type": "code",
   "execution_count": 44,
   "id": "8ddfe63a",
   "metadata": {},
   "outputs": [],
   "source": [
    "ovc_care_events_sync_out.iloc[0:1000].to_csv('ovc_care_events.csv')"
   ]
  }
 ],
 "metadata": {
  "kernelspec": {
   "display_name": "Python 3",
   "language": "python",
   "name": "python3"
  },
  "language_info": {
   "codemirror_mode": {
    "name": "ipython",
    "version": 3
   },
   "file_extension": ".py",
   "mimetype": "text/x-python",
   "name": "python",
   "nbconvert_exporter": "python",
   "pygments_lexer": "ipython3",
   "version": "3.10.6"
  },
  "vscode": {
   "interpreter": {
    "hash": "916dbcbb3f70747c44a77c7bcd40155683ae19c65e1c03b4aa3499c5328201f1"
   }
  }
 },
 "nbformat": 4,
 "nbformat_minor": 5
}

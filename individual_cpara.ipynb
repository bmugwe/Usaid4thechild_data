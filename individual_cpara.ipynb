{
 "cells": [
  {
   "cell_type": "code",
   "execution_count": 1,
   "metadata": {},
   "outputs": [],
   "source": [
    "import pandas as pd\n"
   ]
  },
  {
   "cell_type": "code",
   "execution_count": null,
   "metadata": {
    "pycharm": {
     "is_executing": true
    }
   },
   "outputs": [],
   "source": [
    "individual_cpara = pd.read_excel('Data/OVC_Questions.xlsx', sheet_name=\"Sheet1\")\n",
    "ovc_questions = pd.read_excel('Data/ovc_care_questions.xlsx', sheet_name=\"healthit - ovc_care_questions\")\n",
    "cpims_hhs=pd.read_csv(\"Data/Household ID OVC Mapping.csv\")\n",
    "cpara_event_id=pd.read_csv(\"Data/event_id_uids.csv\")\n",
    "individual_cpara.columns"
   ]
  },
  {
   "cell_type": "code",
   "execution_count": null,
   "metadata": {
    "pycharm": {
     "is_executing": true
    }
   },
   "outputs": [],
   "source": [
    "cpims_cpara = pd.merge(ovc_questions, individual_cpara,how='left', left_on='ind_cpara', right_on='question')\n",
    "cpims_cpara.columns"
   ]
  },
  {
   "cell_type": "code",
   "execution_count": null,
   "metadata": {
    "pycharm": {
     "is_executing": true
    }
   },
   "outputs": [],
   "source": [
    "individual_cpara=pd.merge(cpims_cpara,cpims_hhs, how='left', on='caregiver_id')\n",
    "individual_cpara.columns"
   ]
  },
  {
   "cell_type": "code",
   "execution_count": null,
   "metadata": {
    "pycharm": {
     "is_executing": true
    }
   },
   "outputs": [],
   "source": [
    "individual_cpara_event=pd.merge(individual_cpara,cpara_event_id, how='left', on='caregiver_id')\n",
    "individual_cpara.columns"
   ]
  },
  {
   "cell_type": "code",
   "execution_count": null,
   "metadata": {
    "pycharm": {
     "is_executing": true
    }
   },
   "outputs": [],
   "source": [
    "cpims_individual_cpara = individual_cpara[['cpara_record_id','code', 'response','question_type','domain', 'cpara_date','timestamp_created','is_void', 'timestamp_updated','caregiver_id','event_id','household','cpims_ovc_id','question_id']]\n",
    "cpims_individual_cpara.head(5)\n"
   ]
  },
  {
   "cell_type": "code",
   "execution_count": null,
   "metadata": {
    "pycharm": {
     "is_executing": true
    }
   },
   "outputs": [],
   "source": [
    "cpims_individual_cpara['caregiver_id'].unique()\n",
    "count_cpara=cpims_individual_cpara.groupby(['caregiver_id']).count()\n"
   ]
  },
  {
   "cell_type": "code",
   "execution_count": null,
   "metadata": {
    "pycharm": {
     "is_executing": true
    }
   },
   "outputs": [],
   "source": [
    "new_cpims_individual_cpara = count_cpara.rename(columns={\n",
    "    'cpara_record_id': 'cpara_id',\n",
    "    'code': 'question_code',\n",
    "    'response': 'answer',\n",
    "    'question_type': 'question_type',\n",
    "    'domain': 'domain',\n",
    "    'cpara_date': 'date_of_event',\n",
    "    'timestamp_created': 'timestamp_created',\n",
    "    'is_void': 'is_void',\n",
    "    'timestamp_updated': 'timestamp_updated',\n",
    "    'caregiver_id': 'caregiver_id',\n",
    "    'event_id':'event_id',\n",
    "    'household': 'household_id',\n",
    "    'cpims_ovc_id': 'person_id',\n",
    "    'question_id': 'question_id',\n",
    "\n",
    "\n",
    "\n",
    "})\n",
    "\n",
    "# Add additional columns to match the specified names\n",
    "new_cpims_individual_cpara['date_of_previous_event'] = None\n",
    "\n",
    "new_cpims_individual_cpara.head(3)\n"
   ]
  },
  {
   "cell_type": "code",
   "execution_count": null,
   "metadata": {
    "pycharm": {
     "is_executing": true
    }
   },
   "outputs": [],
   "source": [
    "\n",
    "new_cpims_individual_cpara.to_csv(\"cpims_individual_cpara.csv\")\n"
   ]
  },
  {
   "cell_type": "code",
   "execution_count": null,
   "metadata": {
    "pycharm": {
     "is_executing": true
    }
   },
   "outputs": [],
   "source": []
  }
 ],
 "metadata": {
  "kernelspec": {
   "display_name": "Python 3 (ipykernel)",
   "language": "python",
   "name": "python3"
  },
  "language_info": {
   "codemirror_mode": {
    "name": "ipython",
    "version": 3
   },
   "file_extension": ".py",
   "mimetype": "text/x-python",
   "name": "python",
   "nbconvert_exporter": "python",
   "pygments_lexer": "ipython3",
   "version": "3.10.6"
  }
 },
 "nbformat": 4,
 "nbformat_minor": 1
}

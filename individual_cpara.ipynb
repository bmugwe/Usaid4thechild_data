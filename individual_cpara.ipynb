{
 "cells": [
  {
   "cell_type": "code",
   "execution_count": 14,
   "metadata": {},
   "outputs": [],
   "source": [
    "import pandas as pd\n"
   ]
  },
  {
   "cell_type": "code",
   "execution_count": 15,
   "metadata": {},
   "outputs": [
    {
     "data": {
      "text/plain": "<bound method NDFrame.head of        Unnamed: 0                             household  caregiver_id  \\\n0               0  29d199db-2f32-4025-bb9b-94357558550b      105151.0   \n1               1  29d199db-2f32-4025-bb9b-94357558550b      105151.0   \n2               2  ae1ff881-bf28-471a-9a03-3efceed4d96a      105151.0   \n3               3  ae1ff881-bf28-471a-9a03-3efceed4d96a      105151.0   \n4               4  ae1ff881-bf28-471a-9a03-3efceed4d96a      105151.0   \n...           ...                                   ...           ...   \n32511       32511  8b78ccd0-ffdd-43d8-8d04-5e3b1b8b5334     1690002.0   \n32512       32512  8b78ccd0-ffdd-43d8-8d04-5e3b1b8b5334     1690002.0   \n32513       32513  8b78ccd0-ffdd-43d8-8d04-5e3b1b8b5334     1690002.0   \n32514       32514  8b78ccd0-ffdd-43d8-8d04-5e3b1b8b5334     1690002.0   \n32515       32515  8b78ccd0-ffdd-43d8-8d04-5e3b1b8b5334     1690002.0   \n\n       cpims_ovc_id                              event_id  \n0           4282788  89e06cf9-8aff-4d00-8483-16d949ce21c5  \n1           4282807  22cefcf8-0452-4c21-b837-c12953bf2c60  \n2           4282821  8557c297-c195-4998-b2d6-d744e308bb59  \n3           4282788  c284dee3-3b5c-4267-8eff-40b1e04303da  \n4           4282807  46eef32e-baaf-4ea8-b0a6-d2a49b13eb32  \n...             ...                                   ...  \n32511       3588412  4c130acf-a836-4fa9-8e09-6bf1bf0c35ab  \n32512       3463408  6594e688-82b3-4a59-88e4-686d04a6985b  \n32513       3588412  ea045697-a63f-4dd7-917e-23daff4496b3  \n32514       3463408  1da28c86-1516-42f0-8fac-730dba24e8eb  \n32515       3588412  a37c302d-a05d-4ade-9704-c2a22a0f5383  \n\n[32516 rows x 5 columns]>"
     },
     "execution_count": 15,
     "metadata": {},
     "output_type": "execute_result"
    }
   ],
   "source": [
    "read_ovc_questions = pd.read_excel('Data/OVC_Questions.xlsx', sheet_name=\"Sheet1\")\n",
    "ovc_care_questions = pd.read_excel('Data/ovc_care_questions.xlsx', sheet_name=\"healthit - ovc_care_questions\")\n",
    "cpims_hhs=pd.read_csv(\"Data/Household ID OVC Mapping.csv\")\n",
    "cpara_event_id=pd.read_csv(\"event_id_uids.csv\")\n",
    "cpara_event_id.head"
   ]
  },
  {
   "cell_type": "code",
   "execution_count": 16,
   "outputs": [
    {
     "data": {
      "text/plain": "   record_id  cpara_record_id  cpara_date question_x response  cpims_id  \\\n0          5             8859  2022-08-02       q3.1      Yes   1705501   \n1          6             8859  2022-08-02       q3.1      Yes   3608797   \n2          7             8859  2022-08-02       q3.1      Yes   1727960   \n3          8             8859  2022-08-02       q3.2      Yes   1705501   \n4          9             8859  2022-08-02       q3.2      Yes   3608797   \n\n   caregiver_id   chv_id                           question_id   code  ...  \\\n0       1676623  2042693  c01f049e-6ee1-4897-96b2-e72e6e566204  CP15q  ...   \n1       1676623  2042693  c01f049e-6ee1-4897-96b2-e72e6e566204  CP15q  ...   \n2       1676623  2042693  c01f049e-6ee1-4897-96b2-e72e6e566204  CP15q  ...   \n3       1676623  2042693  c1e44e32-e0e6-422a-87be-1901d8aa2717  CP16q  ...   \n4       1676623  2042693  c1e44e32-e0e6-422a-87be-1901d8aa2717  CP16q  ...   \n\n  domain                                      question_text question_type  \\\n0   DHNU  Can you tell me two behaviors that increase ri...           OVC   \n1   DHNU  Can you tell me two behaviors that increase ri...           OVC   \n2   DHNU  Can you tell me two behaviors that increase ri...           OVC   \n3   DHNU  Can you tell me two ways you can protect yours...           OVC   \n4   DHNU  Can you tell me two ways you can protect yours...           OVC   \n\n  is_void       timestamp_created       timestamp_updated  \\\n0       f  2022-05-02 00:00:00+03  2022-05-02 00:00:00+03   \n1       f  2022-05-02 00:00:00+03  2022-05-02 00:00:00+03   \n2       f  2022-05-02 00:00:00+03  2022-05-02 00:00:00+03   \n3       f  2022-05-02 00:00:00+03  2022-05-02 00:00:00+03   \n4       f  2022-05-02 00:00:00+03  2022-05-02 00:00:00+03   \n\n                                form_id CURRENT cPARA ind_cpara cpara  \n0  3249ad02-3e83-11e9-b210-d663bd873d93           Yes      q3.1  q3_1  \n1  3249ad02-3e83-11e9-b210-d663bd873d93           Yes      q3.1  q3_1  \n2  3249ad02-3e83-11e9-b210-d663bd873d93           Yes      q3.1  q3_1  \n3  3249ad02-3e83-11e9-b210-d663bd873d93           Yes      q3.2  q3_2  \n4  3249ad02-3e83-11e9-b210-d663bd873d93           Yes      q3.2  q3_2  \n\n[5 rows x 21 columns]",
      "text/html": "<div>\n<style scoped>\n    .dataframe tbody tr th:only-of-type {\n        vertical-align: middle;\n    }\n\n    .dataframe tbody tr th {\n        vertical-align: top;\n    }\n\n    .dataframe thead th {\n        text-align: right;\n    }\n</style>\n<table border=\"1\" class=\"dataframe\">\n  <thead>\n    <tr style=\"text-align: right;\">\n      <th></th>\n      <th>record_id</th>\n      <th>cpara_record_id</th>\n      <th>cpara_date</th>\n      <th>question_x</th>\n      <th>response</th>\n      <th>cpims_id</th>\n      <th>caregiver_id</th>\n      <th>chv_id</th>\n      <th>question_id</th>\n      <th>code</th>\n      <th>...</th>\n      <th>domain</th>\n      <th>question_text</th>\n      <th>question_type</th>\n      <th>is_void</th>\n      <th>timestamp_created</th>\n      <th>timestamp_updated</th>\n      <th>form_id</th>\n      <th>CURRENT cPARA</th>\n      <th>ind_cpara</th>\n      <th>cpara</th>\n    </tr>\n  </thead>\n  <tbody>\n    <tr>\n      <th>0</th>\n      <td>5</td>\n      <td>8859</td>\n      <td>2022-08-02</td>\n      <td>q3.1</td>\n      <td>Yes</td>\n      <td>1705501</td>\n      <td>1676623</td>\n      <td>2042693</td>\n      <td>c01f049e-6ee1-4897-96b2-e72e6e566204</td>\n      <td>CP15q</td>\n      <td>...</td>\n      <td>DHNU</td>\n      <td>Can you tell me two behaviors that increase ri...</td>\n      <td>OVC</td>\n      <td>f</td>\n      <td>2022-05-02 00:00:00+03</td>\n      <td>2022-05-02 00:00:00+03</td>\n      <td>3249ad02-3e83-11e9-b210-d663bd873d93</td>\n      <td>Yes</td>\n      <td>q3.1</td>\n      <td>q3_1</td>\n    </tr>\n    <tr>\n      <th>1</th>\n      <td>6</td>\n      <td>8859</td>\n      <td>2022-08-02</td>\n      <td>q3.1</td>\n      <td>Yes</td>\n      <td>3608797</td>\n      <td>1676623</td>\n      <td>2042693</td>\n      <td>c01f049e-6ee1-4897-96b2-e72e6e566204</td>\n      <td>CP15q</td>\n      <td>...</td>\n      <td>DHNU</td>\n      <td>Can you tell me two behaviors that increase ri...</td>\n      <td>OVC</td>\n      <td>f</td>\n      <td>2022-05-02 00:00:00+03</td>\n      <td>2022-05-02 00:00:00+03</td>\n      <td>3249ad02-3e83-11e9-b210-d663bd873d93</td>\n      <td>Yes</td>\n      <td>q3.1</td>\n      <td>q3_1</td>\n    </tr>\n    <tr>\n      <th>2</th>\n      <td>7</td>\n      <td>8859</td>\n      <td>2022-08-02</td>\n      <td>q3.1</td>\n      <td>Yes</td>\n      <td>1727960</td>\n      <td>1676623</td>\n      <td>2042693</td>\n      <td>c01f049e-6ee1-4897-96b2-e72e6e566204</td>\n      <td>CP15q</td>\n      <td>...</td>\n      <td>DHNU</td>\n      <td>Can you tell me two behaviors that increase ri...</td>\n      <td>OVC</td>\n      <td>f</td>\n      <td>2022-05-02 00:00:00+03</td>\n      <td>2022-05-02 00:00:00+03</td>\n      <td>3249ad02-3e83-11e9-b210-d663bd873d93</td>\n      <td>Yes</td>\n      <td>q3.1</td>\n      <td>q3_1</td>\n    </tr>\n    <tr>\n      <th>3</th>\n      <td>8</td>\n      <td>8859</td>\n      <td>2022-08-02</td>\n      <td>q3.2</td>\n      <td>Yes</td>\n      <td>1705501</td>\n      <td>1676623</td>\n      <td>2042693</td>\n      <td>c1e44e32-e0e6-422a-87be-1901d8aa2717</td>\n      <td>CP16q</td>\n      <td>...</td>\n      <td>DHNU</td>\n      <td>Can you tell me two ways you can protect yours...</td>\n      <td>OVC</td>\n      <td>f</td>\n      <td>2022-05-02 00:00:00+03</td>\n      <td>2022-05-02 00:00:00+03</td>\n      <td>3249ad02-3e83-11e9-b210-d663bd873d93</td>\n      <td>Yes</td>\n      <td>q3.2</td>\n      <td>q3_2</td>\n    </tr>\n    <tr>\n      <th>4</th>\n      <td>9</td>\n      <td>8859</td>\n      <td>2022-08-02</td>\n      <td>q3.2</td>\n      <td>Yes</td>\n      <td>3608797</td>\n      <td>1676623</td>\n      <td>2042693</td>\n      <td>c1e44e32-e0e6-422a-87be-1901d8aa2717</td>\n      <td>CP16q</td>\n      <td>...</td>\n      <td>DHNU</td>\n      <td>Can you tell me two ways you can protect yours...</td>\n      <td>OVC</td>\n      <td>f</td>\n      <td>2022-05-02 00:00:00+03</td>\n      <td>2022-05-02 00:00:00+03</td>\n      <td>3249ad02-3e83-11e9-b210-d663bd873d93</td>\n      <td>Yes</td>\n      <td>q3.2</td>\n      <td>q3_2</td>\n    </tr>\n  </tbody>\n</table>\n<p>5 rows × 21 columns</p>\n</div>"
     },
     "execution_count": 16,
     "metadata": {},
     "output_type": "execute_result"
    }
   ],
   "source": [
    "cpims_cpara = pd.merge(read_ovc_questions,ovc_care_questions,  how='left', left_on='question', right_on='ind_cpara')\n",
    "cpims_cpara.head(5)"
   ],
   "metadata": {
    "collapsed": false
   }
  },
  {
   "cell_type": "code",
   "execution_count": 17,
   "outputs": [
    {
     "data": {
      "text/plain": "<bound method NDFrame.describe of         Unnamed: 0  cpims_ovc_id  caregiver_id_x household  record_id  \\\n0              NaN           NaN             NaN       NaN          5   \n1              NaN           NaN             NaN       NaN          6   \n2              NaN           NaN             NaN       NaN          7   \n3              NaN           NaN             NaN       NaN          8   \n4              NaN           NaN             NaN       NaN          9   \n...            ...           ...             ...       ...        ...   \n211851         NaN           NaN             NaN       NaN     287605   \n211852         NaN           NaN             NaN       NaN     287606   \n211853         NaN           NaN             NaN       NaN     287607   \n211854         NaN           NaN             NaN       NaN     287608   \n211855         NaN           NaN             NaN       NaN     287609   \n\n        cpara_record_id  cpara_date question_x response  cpims_id  ...  \\\n0                  8859  2022-08-02       q3.1      Yes   1705501  ...   \n1                  8859  2022-08-02       q3.1      Yes   3608797  ...   \n2                  8859  2022-08-02       q3.1      Yes   1727960  ...   \n3                  8859  2022-08-02       q3.2      Yes   1705501  ...   \n4                  8859  2022-08-02       q3.2      Yes   3608797  ...   \n...                 ...         ...        ...      ...       ...  ...   \n211851            51979  2022-11-22       q6.3       No   3582119  ...   \n211852            51980  2022-12-24       q3.1      Yes   3422049  ...   \n211853            51980  2022-12-24       q3.2      Yes   3422049  ...   \n211854            51980  2022-12-24       q3.3      Yes   3422049  ...   \n211855            51980  2022-12-24       q6.3       No   3422049  ...   \n\n        domain                                      question_text  \\\n0         DHNU  Can you tell me two behaviors that increase ri...   \n1         DHNU  Can you tell me two behaviors that increase ri...   \n2         DHNU  Can you tell me two behaviors that increase ri...   \n3         DHNU  Can you tell me two ways you can protect yours...   \n4         DHNU  Can you tell me two ways you can protect yours...   \n...        ...                                                ...   \n211851    DPRO  Have you been exposed to violence, abuse \\nsex...   \n211852    DHNU  Can you tell me two behaviors that increase ri...   \n211853    DHNU  Can you tell me two ways you can protect yours...   \n211854    DHNU  Can you name two places in the community where...   \n211855    DPRO  Have you been exposed to violence, abuse \\nsex...   \n\n       question_type is_void       timestamp_created       timestamp_updated  \\\n0                OVC       f  2022-05-02 00:00:00+03  2022-05-02 00:00:00+03   \n1                OVC       f  2022-05-02 00:00:00+03  2022-05-02 00:00:00+03   \n2                OVC       f  2022-05-02 00:00:00+03  2022-05-02 00:00:00+03   \n3                OVC       f  2022-05-02 00:00:00+03  2022-05-02 00:00:00+03   \n4                OVC       f  2022-05-02 00:00:00+03  2022-05-02 00:00:00+03   \n...              ...     ...                     ...                     ...   \n211851            CG       f  2022-05-02 00:00:00+03  2022-05-02 00:00:00+03   \n211852           OVC       f  2022-05-02 00:00:00+03  2022-05-02 00:00:00+03   \n211853           OVC       f  2022-05-02 00:00:00+03  2022-05-02 00:00:00+03   \n211854           OVC       f  2022-05-02 00:00:00+03  2022-05-02 00:00:00+03   \n211855            CG       f  2022-05-02 00:00:00+03  2022-05-02 00:00:00+03   \n\n                                     form_id CURRENT cPARA ind_cpara cpara  \n0       3249ad02-3e83-11e9-b210-d663bd873d93           Yes      q3.1  q3_1  \n1       3249ad02-3e83-11e9-b210-d663bd873d93           Yes      q3.1  q3_1  \n2       3249ad02-3e83-11e9-b210-d663bd873d93           Yes      q3.1  q3_1  \n3       3249ad02-3e83-11e9-b210-d663bd873d93           Yes      q3.2  q3_2  \n4       3249ad02-3e83-11e9-b210-d663bd873d93           Yes      q3.2  q3_2  \n...                                      ...           ...       ...   ...  \n211851  3249ad02-3e83-11e9-b210-d663bd873d93           Yes      q6.3  q6_3  \n211852  3249ad02-3e83-11e9-b210-d663bd873d93           Yes      q3.1  q3_1  \n211853  3249ad02-3e83-11e9-b210-d663bd873d93           Yes      q3.2  q3_2  \n211854  3249ad02-3e83-11e9-b210-d663bd873d93           Yes      q3.3  q3_3  \n211855  3249ad02-3e83-11e9-b210-d663bd873d93           Yes      q6.3  q6_3  \n\n[211856 rows x 25 columns]>"
     },
     "execution_count": 17,
     "metadata": {},
     "output_type": "execute_result"
    }
   ],
   "source": [
    "individual_cpara=pd.merge(cpims_hhs,cpims_cpara , how='right', left_on='caregiver_id', right_on='cpims_id')\n",
    "# cpims_hhs.describe\n",
    "individual_cpara.describe\n",
    "\n"
   ],
   "metadata": {
    "collapsed": false
   }
  },
  {
   "cell_type": "code",
   "execution_count": 18,
   "outputs": [
    {
     "name": "stdout",
     "output_type": "stream",
     "text": [
      "<bound method NDFrame.describe of         Unnamed: 0  cpims_ovc_id  caregiver_id_x household  record_id  \\\n",
      "0              NaN           NaN             NaN       NaN          5   \n",
      "1              NaN           NaN             NaN       NaN          6   \n",
      "2              NaN           NaN             NaN       NaN          7   \n",
      "3              NaN           NaN             NaN       NaN          8   \n",
      "4              NaN           NaN             NaN       NaN          9   \n",
      "...            ...           ...             ...       ...        ...   \n",
      "211851         NaN           NaN             NaN       NaN     287605   \n",
      "211852         NaN           NaN             NaN       NaN     287606   \n",
      "211853         NaN           NaN             NaN       NaN     287607   \n",
      "211854         NaN           NaN             NaN       NaN     287608   \n",
      "211855         NaN           NaN             NaN       NaN     287609   \n",
      "\n",
      "        cpara_record_id  cpara_date question_x response  cpims_id  ...  \\\n",
      "0                  8859  2022-08-02       q3.1      Yes   1705501  ...   \n",
      "1                  8859  2022-08-02       q3.1      Yes   3608797  ...   \n",
      "2                  8859  2022-08-02       q3.1      Yes   1727960  ...   \n",
      "3                  8859  2022-08-02       q3.2      Yes   1705501  ...   \n",
      "4                  8859  2022-08-02       q3.2      Yes   3608797  ...   \n",
      "...                 ...         ...        ...      ...       ...  ...   \n",
      "211851            51979  2022-11-22       q6.3       No   3582119  ...   \n",
      "211852            51980  2022-12-24       q3.1      Yes   3422049  ...   \n",
      "211853            51980  2022-12-24       q3.2      Yes   3422049  ...   \n",
      "211854            51980  2022-12-24       q3.3      Yes   3422049  ...   \n",
      "211855            51980  2022-12-24       q6.3       No   3422049  ...   \n",
      "\n",
      "        domain                                      question_text  \\\n",
      "0         DHNU  Can you tell me two behaviors that increase ri...   \n",
      "1         DHNU  Can you tell me two behaviors that increase ri...   \n",
      "2         DHNU  Can you tell me two behaviors that increase ri...   \n",
      "3         DHNU  Can you tell me two ways you can protect yours...   \n",
      "4         DHNU  Can you tell me two ways you can protect yours...   \n",
      "...        ...                                                ...   \n",
      "211851    DPRO  Have you been exposed to violence, abuse \\nsex...   \n",
      "211852    DHNU  Can you tell me two behaviors that increase ri...   \n",
      "211853    DHNU  Can you tell me two ways you can protect yours...   \n",
      "211854    DHNU  Can you name two places in the community where...   \n",
      "211855    DPRO  Have you been exposed to violence, abuse \\nsex...   \n",
      "\n",
      "       question_type is_void       timestamp_created       timestamp_updated  \\\n",
      "0                OVC       f  2022-05-02 00:00:00+03  2022-05-02 00:00:00+03   \n",
      "1                OVC       f  2022-05-02 00:00:00+03  2022-05-02 00:00:00+03   \n",
      "2                OVC       f  2022-05-02 00:00:00+03  2022-05-02 00:00:00+03   \n",
      "3                OVC       f  2022-05-02 00:00:00+03  2022-05-02 00:00:00+03   \n",
      "4                OVC       f  2022-05-02 00:00:00+03  2022-05-02 00:00:00+03   \n",
      "...              ...     ...                     ...                     ...   \n",
      "211851            CG       f  2022-05-02 00:00:00+03  2022-05-02 00:00:00+03   \n",
      "211852           OVC       f  2022-05-02 00:00:00+03  2022-05-02 00:00:00+03   \n",
      "211853           OVC       f  2022-05-02 00:00:00+03  2022-05-02 00:00:00+03   \n",
      "211854           OVC       f  2022-05-02 00:00:00+03  2022-05-02 00:00:00+03   \n",
      "211855            CG       f  2022-05-02 00:00:00+03  2022-05-02 00:00:00+03   \n",
      "\n",
      "                                     form_id CURRENT cPARA ind_cpara cpara  \n",
      "0       3249ad02-3e83-11e9-b210-d663bd873d93           Yes      q3.1  q3_1  \n",
      "1       3249ad02-3e83-11e9-b210-d663bd873d93           Yes      q3.1  q3_1  \n",
      "2       3249ad02-3e83-11e9-b210-d663bd873d93           Yes      q3.1  q3_1  \n",
      "3       3249ad02-3e83-11e9-b210-d663bd873d93           Yes      q3.2  q3_2  \n",
      "4       3249ad02-3e83-11e9-b210-d663bd873d93           Yes      q3.2  q3_2  \n",
      "...                                      ...           ...       ...   ...  \n",
      "211851  3249ad02-3e83-11e9-b210-d663bd873d93           Yes      q6.3  q6_3  \n",
      "211852  3249ad02-3e83-11e9-b210-d663bd873d93           Yes      q3.1  q3_1  \n",
      "211853  3249ad02-3e83-11e9-b210-d663bd873d93           Yes      q3.2  q3_2  \n",
      "211854  3249ad02-3e83-11e9-b210-d663bd873d93           Yes      q3.3  q3_3  \n",
      "211855  3249ad02-3e83-11e9-b210-d663bd873d93           Yes      q6.3  q6_3  \n",
      "\n",
      "[211856 rows x 25 columns]>\n"
     ]
    }
   ],
   "source": [
    "print(individual_cpara.describe)\n",
    "# print(cpara_event_id.shape)\n",
    "# print(individual_cpara.isnull().sum())\n",
    "# print(cpara_event_id.isnull().sum())\n",
    "#\n",
    "# print(individual_cpara.duplicated().sum())\n",
    "# print(cpara_event_id.duplicated().sum())\n",
    "\n"
   ],
   "metadata": {
    "collapsed": false
   }
  },
  {
   "cell_type": "code",
   "execution_count": 19,
   "outputs": [
    {
     "name": "stdout",
     "output_type": "stream",
     "text": [
      "<bound method NDFrame.describe of        Unnamed: 0                             household  caregiver_id  \\\n",
      "0               0  29d199db-2f32-4025-bb9b-94357558550b      105151.0   \n",
      "1               1  29d199db-2f32-4025-bb9b-94357558550b      105151.0   \n",
      "2               2  ae1ff881-bf28-471a-9a03-3efceed4d96a      105151.0   \n",
      "3               3  ae1ff881-bf28-471a-9a03-3efceed4d96a      105151.0   \n",
      "4               4  ae1ff881-bf28-471a-9a03-3efceed4d96a      105151.0   \n",
      "...           ...                                   ...           ...   \n",
      "32511       32511  8b78ccd0-ffdd-43d8-8d04-5e3b1b8b5334     1690002.0   \n",
      "32512       32512  8b78ccd0-ffdd-43d8-8d04-5e3b1b8b5334     1690002.0   \n",
      "32513       32513  8b78ccd0-ffdd-43d8-8d04-5e3b1b8b5334     1690002.0   \n",
      "32514       32514  8b78ccd0-ffdd-43d8-8d04-5e3b1b8b5334     1690002.0   \n",
      "32515       32515  8b78ccd0-ffdd-43d8-8d04-5e3b1b8b5334     1690002.0   \n",
      "\n",
      "       cpims_ovc_id                              event_id  \n",
      "0           4282788  89e06cf9-8aff-4d00-8483-16d949ce21c5  \n",
      "1           4282807  22cefcf8-0452-4c21-b837-c12953bf2c60  \n",
      "2           4282821  8557c297-c195-4998-b2d6-d744e308bb59  \n",
      "3           4282788  c284dee3-3b5c-4267-8eff-40b1e04303da  \n",
      "4           4282807  46eef32e-baaf-4ea8-b0a6-d2a49b13eb32  \n",
      "...             ...                                   ...  \n",
      "32511       3588412  4c130acf-a836-4fa9-8e09-6bf1bf0c35ab  \n",
      "32512       3463408  6594e688-82b3-4a59-88e4-686d04a6985b  \n",
      "32513       3588412  ea045697-a63f-4dd7-917e-23daff4496b3  \n",
      "32514       3463408  1da28c86-1516-42f0-8fac-730dba24e8eb  \n",
      "32515       3588412  a37c302d-a05d-4ade-9704-c2a22a0f5383  \n",
      "\n",
      "[32516 rows x 5 columns]>\n"
     ]
    }
   ],
   "source": [
    "print(cpara_event_id.describe)"
   ],
   "metadata": {
    "collapsed": false
   }
  },
  {
   "cell_type": "code",
   "execution_count": 20,
   "metadata": {},
   "outputs": [
    {
     "data": {
      "text/plain": "Index(['Unnamed: 0_x', 'cpims_ovc_id_x', 'caregiver_id_x', 'household_x',\n       'record_id', 'cpara_record_id', 'cpara_date', 'question_x', 'response',\n       'cpims_id', 'caregiver_id_y', 'chv_id', 'question_id', 'code',\n       'question_y', 'domain', 'question_text', 'question_type', 'is_void',\n       'timestamp_created', 'timestamp_updated', 'form_id', 'CURRENT cPARA',\n       'ind_cpara', 'cpara', 'Unnamed: 0_y', 'household_y', 'caregiver_id',\n       'cpims_ovc_id_y', 'event_id'],\n      dtype='object')"
     },
     "execution_count": 20,
     "metadata": {},
     "output_type": "execute_result"
    }
   ],
   "source": [
    "individual_cpara_event=pd.merge(individual_cpara,cpara_event_id, how='left', left_on='cpims_id', right_on='cpims_ovc_id')\n",
    "individual_cpara_event.columns\n",
    "# 'event_id' in individual_cpara.columns\n"
   ]
  },
  {
   "cell_type": "code",
   "execution_count": 21,
   "metadata": {},
   "outputs": [
    {
     "data": {
      "text/plain": "   cpara_record_id   code response question_type domain  cpara_date  \\\n0             8859  CP15q      Yes           OVC   DHNU  2022-08-02   \n1             8859  CP15q      Yes           OVC   DHNU  2022-08-02   \n2             8859  CP15q      Yes           OVC   DHNU  2022-08-02   \n3             8859  CP15q      Yes           OVC   DHNU  2022-08-02   \n4             8859  CP15q      Yes           OVC   DHNU  2022-08-02   \n\n        timestamp_created is_void       timestamp_updated  caregiver_id_x  \\\n0  2022-05-02 00:00:00+03       f  2022-05-02 00:00:00+03             NaN   \n1  2022-05-02 00:00:00+03       f  2022-05-02 00:00:00+03             NaN   \n2  2022-05-02 00:00:00+03       f  2022-05-02 00:00:00+03             NaN   \n3  2022-05-02 00:00:00+03       f  2022-05-02 00:00:00+03             NaN   \n4  2022-05-02 00:00:00+03       f  2022-05-02 00:00:00+03             NaN   \n\n                               event_id household_x  cpims_ovc_id_x  \\\n0  e9d0a0fe-8b17-4939-b7a9-9e0f473a16b0         NaN             NaN   \n1  e2c73acc-844e-41a4-b646-a5860bba2ddd         NaN             NaN   \n2  6bbdf88e-5010-4f24-9167-0f683870afa4         NaN             NaN   \n3  4e80f75d-3ff1-4866-ae50-21c221d93810         NaN             NaN   \n4  1f424d57-0f86-41d1-ac19-6cc05395a911         NaN             NaN   \n\n                            question_id  \n0  c01f049e-6ee1-4897-96b2-e72e6e566204  \n1  c01f049e-6ee1-4897-96b2-e72e6e566204  \n2  c01f049e-6ee1-4897-96b2-e72e6e566204  \n3  c01f049e-6ee1-4897-96b2-e72e6e566204  \n4  c01f049e-6ee1-4897-96b2-e72e6e566204  ",
      "text/html": "<div>\n<style scoped>\n    .dataframe tbody tr th:only-of-type {\n        vertical-align: middle;\n    }\n\n    .dataframe tbody tr th {\n        vertical-align: top;\n    }\n\n    .dataframe thead th {\n        text-align: right;\n    }\n</style>\n<table border=\"1\" class=\"dataframe\">\n  <thead>\n    <tr style=\"text-align: right;\">\n      <th></th>\n      <th>cpara_record_id</th>\n      <th>code</th>\n      <th>response</th>\n      <th>question_type</th>\n      <th>domain</th>\n      <th>cpara_date</th>\n      <th>timestamp_created</th>\n      <th>is_void</th>\n      <th>timestamp_updated</th>\n      <th>caregiver_id_x</th>\n      <th>event_id</th>\n      <th>household_x</th>\n      <th>cpims_ovc_id_x</th>\n      <th>question_id</th>\n    </tr>\n  </thead>\n  <tbody>\n    <tr>\n      <th>0</th>\n      <td>8859</td>\n      <td>CP15q</td>\n      <td>Yes</td>\n      <td>OVC</td>\n      <td>DHNU</td>\n      <td>2022-08-02</td>\n      <td>2022-05-02 00:00:00+03</td>\n      <td>f</td>\n      <td>2022-05-02 00:00:00+03</td>\n      <td>NaN</td>\n      <td>e9d0a0fe-8b17-4939-b7a9-9e0f473a16b0</td>\n      <td>NaN</td>\n      <td>NaN</td>\n      <td>c01f049e-6ee1-4897-96b2-e72e6e566204</td>\n    </tr>\n    <tr>\n      <th>1</th>\n      <td>8859</td>\n      <td>CP15q</td>\n      <td>Yes</td>\n      <td>OVC</td>\n      <td>DHNU</td>\n      <td>2022-08-02</td>\n      <td>2022-05-02 00:00:00+03</td>\n      <td>f</td>\n      <td>2022-05-02 00:00:00+03</td>\n      <td>NaN</td>\n      <td>e2c73acc-844e-41a4-b646-a5860bba2ddd</td>\n      <td>NaN</td>\n      <td>NaN</td>\n      <td>c01f049e-6ee1-4897-96b2-e72e6e566204</td>\n    </tr>\n    <tr>\n      <th>2</th>\n      <td>8859</td>\n      <td>CP15q</td>\n      <td>Yes</td>\n      <td>OVC</td>\n      <td>DHNU</td>\n      <td>2022-08-02</td>\n      <td>2022-05-02 00:00:00+03</td>\n      <td>f</td>\n      <td>2022-05-02 00:00:00+03</td>\n      <td>NaN</td>\n      <td>6bbdf88e-5010-4f24-9167-0f683870afa4</td>\n      <td>NaN</td>\n      <td>NaN</td>\n      <td>c01f049e-6ee1-4897-96b2-e72e6e566204</td>\n    </tr>\n    <tr>\n      <th>3</th>\n      <td>8859</td>\n      <td>CP15q</td>\n      <td>Yes</td>\n      <td>OVC</td>\n      <td>DHNU</td>\n      <td>2022-08-02</td>\n      <td>2022-05-02 00:00:00+03</td>\n      <td>f</td>\n      <td>2022-05-02 00:00:00+03</td>\n      <td>NaN</td>\n      <td>4e80f75d-3ff1-4866-ae50-21c221d93810</td>\n      <td>NaN</td>\n      <td>NaN</td>\n      <td>c01f049e-6ee1-4897-96b2-e72e6e566204</td>\n    </tr>\n    <tr>\n      <th>4</th>\n      <td>8859</td>\n      <td>CP15q</td>\n      <td>Yes</td>\n      <td>OVC</td>\n      <td>DHNU</td>\n      <td>2022-08-02</td>\n      <td>2022-05-02 00:00:00+03</td>\n      <td>f</td>\n      <td>2022-05-02 00:00:00+03</td>\n      <td>NaN</td>\n      <td>1f424d57-0f86-41d1-ac19-6cc05395a911</td>\n      <td>NaN</td>\n      <td>NaN</td>\n      <td>c01f049e-6ee1-4897-96b2-e72e6e566204</td>\n    </tr>\n  </tbody>\n</table>\n</div>"
     },
     "execution_count": 21,
     "metadata": {},
     "output_type": "execute_result"
    }
   ],
   "source": [
    "cpims_individual_cpara = individual_cpara_event[['cpara_record_id','code', 'response','question_type','domain', 'cpara_date','timestamp_created','is_void', 'timestamp_updated','caregiver_id_x','event_id', 'household_x','cpims_ovc_id_x','question_id',]]\n",
    "cpims_individual_cpara.head(5)\n"
   ]
  },
  {
   "cell_type": "code",
   "execution_count": 21,
   "metadata": {},
   "outputs": [],
   "source": [
    "\n"
   ]
  },
  {
   "cell_type": "code",
   "execution_count": 22,
   "metadata": {},
   "outputs": [
    {
     "data": {
      "text/plain": "   cpara_id question_code answer question_type domain date_of_event  \\\n0      8859         CP15q    Yes           OVC   DHNU    2022-08-02   \n1      8859         CP15q    Yes           OVC   DHNU    2022-08-02   \n2      8859         CP15q    Yes           OVC   DHNU    2022-08-02   \n\n        timestamp_created is_void       timestamp_updated  caregiver_id  \\\n0  2022-05-02 00:00:00+03       f  2022-05-02 00:00:00+03           NaN   \n1  2022-05-02 00:00:00+03       f  2022-05-02 00:00:00+03           NaN   \n2  2022-05-02 00:00:00+03       f  2022-05-02 00:00:00+03           NaN   \n\n                               event_id household_id  person_id  \\\n0  e9d0a0fe-8b17-4939-b7a9-9e0f473a16b0          NaN        NaN   \n1  e2c73acc-844e-41a4-b646-a5860bba2ddd          NaN        NaN   \n2  6bbdf88e-5010-4f24-9167-0f683870afa4          NaN        NaN   \n\n                            question_id date_of_previous_event  \n0  c01f049e-6ee1-4897-96b2-e72e6e566204                   None  \n1  c01f049e-6ee1-4897-96b2-e72e6e566204                   None  \n2  c01f049e-6ee1-4897-96b2-e72e6e566204                   None  ",
      "text/html": "<div>\n<style scoped>\n    .dataframe tbody tr th:only-of-type {\n        vertical-align: middle;\n    }\n\n    .dataframe tbody tr th {\n        vertical-align: top;\n    }\n\n    .dataframe thead th {\n        text-align: right;\n    }\n</style>\n<table border=\"1\" class=\"dataframe\">\n  <thead>\n    <tr style=\"text-align: right;\">\n      <th></th>\n      <th>cpara_id</th>\n      <th>question_code</th>\n      <th>answer</th>\n      <th>question_type</th>\n      <th>domain</th>\n      <th>date_of_event</th>\n      <th>timestamp_created</th>\n      <th>is_void</th>\n      <th>timestamp_updated</th>\n      <th>caregiver_id</th>\n      <th>event_id</th>\n      <th>household_id</th>\n      <th>person_id</th>\n      <th>question_id</th>\n      <th>date_of_previous_event</th>\n    </tr>\n  </thead>\n  <tbody>\n    <tr>\n      <th>0</th>\n      <td>8859</td>\n      <td>CP15q</td>\n      <td>Yes</td>\n      <td>OVC</td>\n      <td>DHNU</td>\n      <td>2022-08-02</td>\n      <td>2022-05-02 00:00:00+03</td>\n      <td>f</td>\n      <td>2022-05-02 00:00:00+03</td>\n      <td>NaN</td>\n      <td>e9d0a0fe-8b17-4939-b7a9-9e0f473a16b0</td>\n      <td>NaN</td>\n      <td>NaN</td>\n      <td>c01f049e-6ee1-4897-96b2-e72e6e566204</td>\n      <td>None</td>\n    </tr>\n    <tr>\n      <th>1</th>\n      <td>8859</td>\n      <td>CP15q</td>\n      <td>Yes</td>\n      <td>OVC</td>\n      <td>DHNU</td>\n      <td>2022-08-02</td>\n      <td>2022-05-02 00:00:00+03</td>\n      <td>f</td>\n      <td>2022-05-02 00:00:00+03</td>\n      <td>NaN</td>\n      <td>e2c73acc-844e-41a4-b646-a5860bba2ddd</td>\n      <td>NaN</td>\n      <td>NaN</td>\n      <td>c01f049e-6ee1-4897-96b2-e72e6e566204</td>\n      <td>None</td>\n    </tr>\n    <tr>\n      <th>2</th>\n      <td>8859</td>\n      <td>CP15q</td>\n      <td>Yes</td>\n      <td>OVC</td>\n      <td>DHNU</td>\n      <td>2022-08-02</td>\n      <td>2022-05-02 00:00:00+03</td>\n      <td>f</td>\n      <td>2022-05-02 00:00:00+03</td>\n      <td>NaN</td>\n      <td>6bbdf88e-5010-4f24-9167-0f683870afa4</td>\n      <td>NaN</td>\n      <td>NaN</td>\n      <td>c01f049e-6ee1-4897-96b2-e72e6e566204</td>\n      <td>None</td>\n    </tr>\n  </tbody>\n</table>\n</div>"
     },
     "execution_count": 22,
     "metadata": {},
     "output_type": "execute_result"
    }
   ],
   "source": [
    "new_cpims_individual_cpara =cpims_individual_cpara.rename(columns={\n",
    "    'cpara_record_id': 'cpara_id',\n",
    "    'code': 'question_code',\n",
    "    'response': 'answer',\n",
    "    'question_type': 'question_type',\n",
    "    'domain': 'domain',\n",
    "    'cpara_date': 'date_of_event',\n",
    "    'timestamp_created': 'timestamp_created',\n",
    "    'is_void': 'is_void',\n",
    "    'timestamp_updated': 'timestamp_updated',\n",
    "    'caregiver_id_x': 'caregiver_id',\n",
    "    'event_id':'event_id',\n",
    "    'household_x': 'household_id',\n",
    "    'cpims_ovc_id_x': 'person_id',\n",
    "    'question_id': 'question_id',\n",
    "\n",
    "\n",
    "\n",
    "})\n",
    "\n",
    "# Add additional columns to match the specified names\n",
    "new_cpims_individual_cpara['date_of_previous_event'] = None\n",
    "\n",
    "new_cpims_individual_cpara.head(3)\n"
   ]
  },
  {
   "cell_type": "code",
   "execution_count": 34,
   "outputs": [
    {
     "data": {
      "text/plain": "    cpara_id question_code answer question_type domain date_of_event  \\\n0       8859         CP15q    Yes           OVC   DHNU    2022-08-02   \n1       8859         CP15q    Yes           OVC   DHNU    2022-08-02   \n2       8859         CP15q    Yes           OVC   DHNU    2022-08-02   \n3       8859         CP15q    Yes           OVC   DHNU    2022-08-02   \n4       8859         CP15q    Yes           OVC   DHNU    2022-08-02   \n5       8859         CP15q    Yes           OVC   DHNU    2022-08-02   \n6       8859         CP15q    Yes           OVC   DHNU    2022-08-02   \n7       8859         CP15q    Yes           OVC   DHNU    2022-08-02   \n8       8859         CP15q    Yes           OVC   DHNU    2022-08-02   \n9       8859         CP15q    Yes           OVC   DHNU    2022-08-02   \n10      8859         CP15q    Yes           OVC   DHNU    2022-08-02   \n11      8859         CP15q    Yes           OVC   DHNU    2022-08-02   \n12      8859         CP15q    Yes           OVC   DHNU    2022-08-02   \n13      8859         CP15q    Yes           OVC   DHNU    2022-08-02   \n14      8859         CP15q    Yes           OVC   DHNU    2022-08-02   \n15      8859         CP15q    Yes           OVC   DHNU    2022-08-02   \n16      8859         CP15q    Yes           OVC   DHNU    2022-08-02   \n17      8859         CP15q    Yes           OVC   DHNU    2022-08-02   \n18      8859         CP15q    Yes           OVC   DHNU    2022-08-02   \n19      8859         CP15q    Yes           OVC   DHNU    2022-08-02   \n20      8859         CP15q    Yes           OVC   DHNU    2022-08-02   \n21      8859         CP15q    Yes           OVC   DHNU    2022-08-02   \n22      8859         CP15q    Yes           OVC   DHNU    2022-08-02   \n23      8859         CP15q    Yes           OVC   DHNU    2022-08-02   \n24      8859         CP15q    Yes           OVC   DHNU    2022-08-02   \n25      8859         CP15q    Yes           OVC   DHNU    2022-08-02   \n26      8859         CP15q    Yes           OVC   DHNU    2022-08-02   \n27      8859         CP16q    Yes           OVC   DHNU    2022-08-02   \n28      8859         CP16q    Yes           OVC   DHNU    2022-08-02   \n29      8859         CP16q    Yes           OVC   DHNU    2022-08-02   \n30      8859         CP16q    Yes           OVC   DHNU    2022-08-02   \n31      8859         CP16q    Yes           OVC   DHNU    2022-08-02   \n32      8859         CP16q    Yes           OVC   DHNU    2022-08-02   \n33      8859         CP16q    Yes           OVC   DHNU    2022-08-02   \n34      8859         CP16q    Yes           OVC   DHNU    2022-08-02   \n35      8859         CP16q    Yes           OVC   DHNU    2022-08-02   \n36      8859         CP16q    Yes           OVC   DHNU    2022-08-02   \n37      8859         CP16q    Yes           OVC   DHNU    2022-08-02   \n38      8859         CP16q    Yes           OVC   DHNU    2022-08-02   \n39      8859         CP16q    Yes           OVC   DHNU    2022-08-02   \n40      8859         CP16q    Yes           OVC   DHNU    2022-08-02   \n41      8859         CP16q    Yes           OVC   DHNU    2022-08-02   \n42      8859         CP16q    Yes           OVC   DHNU    2022-08-02   \n43      8859         CP16q    Yes           OVC   DHNU    2022-08-02   \n44      8859         CP16q    Yes           OVC   DHNU    2022-08-02   \n45      8861         CP15q    Yes           OVC   DHNU    2022-08-04   \n46      8861         CP15q    Yes           OVC   DHNU    2022-08-04   \n47      8861         CP16q    Yes           OVC   DHNU    2022-08-04   \n48      8861         CP16q    Yes           OVC   DHNU    2022-08-04   \n49      8861         CP17q    Yes           OVC   DHNU    2022-08-04   \n\n         timestamp_created is_void       timestamp_updated  caregiver_id  \\\n0   2022-05-02 00:00:00+03       f  2022-05-02 00:00:00+03           NaN   \n1   2022-05-02 00:00:00+03       f  2022-05-02 00:00:00+03           NaN   \n2   2022-05-02 00:00:00+03       f  2022-05-02 00:00:00+03           NaN   \n3   2022-05-02 00:00:00+03       f  2022-05-02 00:00:00+03           NaN   \n4   2022-05-02 00:00:00+03       f  2022-05-02 00:00:00+03           NaN   \n5   2022-05-02 00:00:00+03       f  2022-05-02 00:00:00+03           NaN   \n6   2022-05-02 00:00:00+03       f  2022-05-02 00:00:00+03           NaN   \n7   2022-05-02 00:00:00+03       f  2022-05-02 00:00:00+03           NaN   \n8   2022-05-02 00:00:00+03       f  2022-05-02 00:00:00+03           NaN   \n9   2022-05-02 00:00:00+03       f  2022-05-02 00:00:00+03           NaN   \n10  2022-05-02 00:00:00+03       f  2022-05-02 00:00:00+03           NaN   \n11  2022-05-02 00:00:00+03       f  2022-05-02 00:00:00+03           NaN   \n12  2022-05-02 00:00:00+03       f  2022-05-02 00:00:00+03           NaN   \n13  2022-05-02 00:00:00+03       f  2022-05-02 00:00:00+03           NaN   \n14  2022-05-02 00:00:00+03       f  2022-05-02 00:00:00+03           NaN   \n15  2022-05-02 00:00:00+03       f  2022-05-02 00:00:00+03           NaN   \n16  2022-05-02 00:00:00+03       f  2022-05-02 00:00:00+03           NaN   \n17  2022-05-02 00:00:00+03       f  2022-05-02 00:00:00+03           NaN   \n18  2022-05-02 00:00:00+03       f  2022-05-02 00:00:00+03           NaN   \n19  2022-05-02 00:00:00+03       f  2022-05-02 00:00:00+03           NaN   \n20  2022-05-02 00:00:00+03       f  2022-05-02 00:00:00+03           NaN   \n21  2022-05-02 00:00:00+03       f  2022-05-02 00:00:00+03           NaN   \n22  2022-05-02 00:00:00+03       f  2022-05-02 00:00:00+03           NaN   \n23  2022-05-02 00:00:00+03       f  2022-05-02 00:00:00+03           NaN   \n24  2022-05-02 00:00:00+03       f  2022-05-02 00:00:00+03           NaN   \n25  2022-05-02 00:00:00+03       f  2022-05-02 00:00:00+03           NaN   \n26  2022-05-02 00:00:00+03       f  2022-05-02 00:00:00+03           NaN   \n27  2022-05-02 00:00:00+03       f  2022-05-02 00:00:00+03           NaN   \n28  2022-05-02 00:00:00+03       f  2022-05-02 00:00:00+03           NaN   \n29  2022-05-02 00:00:00+03       f  2022-05-02 00:00:00+03           NaN   \n30  2022-05-02 00:00:00+03       f  2022-05-02 00:00:00+03           NaN   \n31  2022-05-02 00:00:00+03       f  2022-05-02 00:00:00+03           NaN   \n32  2022-05-02 00:00:00+03       f  2022-05-02 00:00:00+03           NaN   \n33  2022-05-02 00:00:00+03       f  2022-05-02 00:00:00+03           NaN   \n34  2022-05-02 00:00:00+03       f  2022-05-02 00:00:00+03           NaN   \n35  2022-05-02 00:00:00+03       f  2022-05-02 00:00:00+03           NaN   \n36  2022-05-02 00:00:00+03       f  2022-05-02 00:00:00+03           NaN   \n37  2022-05-02 00:00:00+03       f  2022-05-02 00:00:00+03           NaN   \n38  2022-05-02 00:00:00+03       f  2022-05-02 00:00:00+03           NaN   \n39  2022-05-02 00:00:00+03       f  2022-05-02 00:00:00+03           NaN   \n40  2022-05-02 00:00:00+03       f  2022-05-02 00:00:00+03           NaN   \n41  2022-05-02 00:00:00+03       f  2022-05-02 00:00:00+03           NaN   \n42  2022-05-02 00:00:00+03       f  2022-05-02 00:00:00+03           NaN   \n43  2022-05-02 00:00:00+03       f  2022-05-02 00:00:00+03           NaN   \n44  2022-05-02 00:00:00+03       f  2022-05-02 00:00:00+03           NaN   \n45  2022-05-02 00:00:00+03       f  2022-05-02 00:00:00+03           NaN   \n46  2022-05-02 00:00:00+03       f  2022-05-02 00:00:00+03           NaN   \n47  2022-05-02 00:00:00+03       f  2022-05-02 00:00:00+03           NaN   \n48  2022-05-02 00:00:00+03       f  2022-05-02 00:00:00+03           NaN   \n49  2022-05-02 00:00:00+03       f  2022-05-02 00:00:00+03           NaN   \n\n                                event_id household_id  person_id  \\\n0   e9d0a0fe-8b17-4939-b7a9-9e0f473a16b0          NaN        NaN   \n1   e2c73acc-844e-41a4-b646-a5860bba2ddd          NaN        NaN   \n2   6bbdf88e-5010-4f24-9167-0f683870afa4          NaN        NaN   \n3   4e80f75d-3ff1-4866-ae50-21c221d93810          NaN        NaN   \n4   1f424d57-0f86-41d1-ac19-6cc05395a911          NaN        NaN   \n5   14af9fd5-3bc0-460d-a65b-8cd2c40e3f63          NaN        NaN   \n6   e8421313-a30a-44f4-a461-ee33f9e6fc90          NaN        NaN   \n7   10a4ed8d-fea8-4404-b35c-88b61b4da554          NaN        NaN   \n8   bd7d40da-0bd8-49c4-a178-aea09bbef5a1          NaN        NaN   \n9   010a9cba-37f3-442a-b02e-08fa25e47059          NaN        NaN   \n10  2695629c-2b50-4502-a6db-673666dd3c4a          NaN        NaN   \n11  11050204-e01d-472f-90ec-d7efb44d1372          NaN        NaN   \n12  6e7f20aa-4372-40ee-8c26-c25ec730fe98          NaN        NaN   \n13  8ec3a812-599e-40f8-8a19-0a7473ec3435          NaN        NaN   \n14  00e7df1c-cdd4-4acf-abed-8dc04d32db87          NaN        NaN   \n15  a7cc6fbd-c6c8-4962-9999-28fe8d76b527          NaN        NaN   \n16  6dec953b-8c6e-4670-8267-90cc2d6663b0          NaN        NaN   \n17  a4f8de7c-1272-4d56-87fc-2e19039f3764          NaN        NaN   \n18  4ad4a7cc-39be-40ce-b591-4b4892d926a1          NaN        NaN   \n19  5628dc27-da05-481a-bc35-07cf45633fd2          NaN        NaN   \n20  1ca8871e-5e1d-44bd-b48c-b1b128ca618c          NaN        NaN   \n21  83103abf-8648-4f43-b115-0860402f0077          NaN        NaN   \n22  91391aef-919b-41fe-a6e2-a7021d9f2d5a          NaN        NaN   \n23  d4a38420-6aef-4fe7-ba88-503f43dfb7e4          NaN        NaN   \n24  8e02e2d8-2c9e-4492-9be6-895f946dad8f          NaN        NaN   \n25  78e0e5eb-bdf2-4ad5-bc07-3e20edeca6aa          NaN        NaN   \n26  3de6ee3b-8b2a-49af-8e56-1b056d748c2d          NaN        NaN   \n27  e9d0a0fe-8b17-4939-b7a9-9e0f473a16b0          NaN        NaN   \n28  e2c73acc-844e-41a4-b646-a5860bba2ddd          NaN        NaN   \n29  6bbdf88e-5010-4f24-9167-0f683870afa4          NaN        NaN   \n30  4e80f75d-3ff1-4866-ae50-21c221d93810          NaN        NaN   \n31  1f424d57-0f86-41d1-ac19-6cc05395a911          NaN        NaN   \n32  14af9fd5-3bc0-460d-a65b-8cd2c40e3f63          NaN        NaN   \n33  e8421313-a30a-44f4-a461-ee33f9e6fc90          NaN        NaN   \n34  10a4ed8d-fea8-4404-b35c-88b61b4da554          NaN        NaN   \n35  bd7d40da-0bd8-49c4-a178-aea09bbef5a1          NaN        NaN   \n36  010a9cba-37f3-442a-b02e-08fa25e47059          NaN        NaN   \n37  2695629c-2b50-4502-a6db-673666dd3c4a          NaN        NaN   \n38  11050204-e01d-472f-90ec-d7efb44d1372          NaN        NaN   \n39  6e7f20aa-4372-40ee-8c26-c25ec730fe98          NaN        NaN   \n40  8ec3a812-599e-40f8-8a19-0a7473ec3435          NaN        NaN   \n41  00e7df1c-cdd4-4acf-abed-8dc04d32db87          NaN        NaN   \n42  a7cc6fbd-c6c8-4962-9999-28fe8d76b527          NaN        NaN   \n43  6dec953b-8c6e-4670-8267-90cc2d6663b0          NaN        NaN   \n44  a4f8de7c-1272-4d56-87fc-2e19039f3764          NaN        NaN   \n45                                   NaN          NaN        NaN   \n46                                   NaN          NaN        NaN   \n47                                   NaN          NaN        NaN   \n48                                   NaN          NaN        NaN   \n49                                   NaN          NaN        NaN   \n\n                             question_id date_of_previous_event  \n0   c01f049e-6ee1-4897-96b2-e72e6e566204                   None  \n1   c01f049e-6ee1-4897-96b2-e72e6e566204                   None  \n2   c01f049e-6ee1-4897-96b2-e72e6e566204                   None  \n3   c01f049e-6ee1-4897-96b2-e72e6e566204                   None  \n4   c01f049e-6ee1-4897-96b2-e72e6e566204                   None  \n5   c01f049e-6ee1-4897-96b2-e72e6e566204                   None  \n6   c01f049e-6ee1-4897-96b2-e72e6e566204                   None  \n7   c01f049e-6ee1-4897-96b2-e72e6e566204                   None  \n8   c01f049e-6ee1-4897-96b2-e72e6e566204                   None  \n9   c01f049e-6ee1-4897-96b2-e72e6e566204                   None  \n10  c01f049e-6ee1-4897-96b2-e72e6e566204                   None  \n11  c01f049e-6ee1-4897-96b2-e72e6e566204                   None  \n12  c01f049e-6ee1-4897-96b2-e72e6e566204                   None  \n13  c01f049e-6ee1-4897-96b2-e72e6e566204                   None  \n14  c01f049e-6ee1-4897-96b2-e72e6e566204                   None  \n15  c01f049e-6ee1-4897-96b2-e72e6e566204                   None  \n16  c01f049e-6ee1-4897-96b2-e72e6e566204                   None  \n17  c01f049e-6ee1-4897-96b2-e72e6e566204                   None  \n18  c01f049e-6ee1-4897-96b2-e72e6e566204                   None  \n19  c01f049e-6ee1-4897-96b2-e72e6e566204                   None  \n20  c01f049e-6ee1-4897-96b2-e72e6e566204                   None  \n21  c01f049e-6ee1-4897-96b2-e72e6e566204                   None  \n22  c01f049e-6ee1-4897-96b2-e72e6e566204                   None  \n23  c01f049e-6ee1-4897-96b2-e72e6e566204                   None  \n24  c01f049e-6ee1-4897-96b2-e72e6e566204                   None  \n25  c01f049e-6ee1-4897-96b2-e72e6e566204                   None  \n26  c01f049e-6ee1-4897-96b2-e72e6e566204                   None  \n27  c1e44e32-e0e6-422a-87be-1901d8aa2717                   None  \n28  c1e44e32-e0e6-422a-87be-1901d8aa2717                   None  \n29  c1e44e32-e0e6-422a-87be-1901d8aa2717                   None  \n30  c1e44e32-e0e6-422a-87be-1901d8aa2717                   None  \n31  c1e44e32-e0e6-422a-87be-1901d8aa2717                   None  \n32  c1e44e32-e0e6-422a-87be-1901d8aa2717                   None  \n33  c1e44e32-e0e6-422a-87be-1901d8aa2717                   None  \n34  c1e44e32-e0e6-422a-87be-1901d8aa2717                   None  \n35  c1e44e32-e0e6-422a-87be-1901d8aa2717                   None  \n36  c1e44e32-e0e6-422a-87be-1901d8aa2717                   None  \n37  c1e44e32-e0e6-422a-87be-1901d8aa2717                   None  \n38  c1e44e32-e0e6-422a-87be-1901d8aa2717                   None  \n39  c1e44e32-e0e6-422a-87be-1901d8aa2717                   None  \n40  c1e44e32-e0e6-422a-87be-1901d8aa2717                   None  \n41  c1e44e32-e0e6-422a-87be-1901d8aa2717                   None  \n42  c1e44e32-e0e6-422a-87be-1901d8aa2717                   None  \n43  c1e44e32-e0e6-422a-87be-1901d8aa2717                   None  \n44  c1e44e32-e0e6-422a-87be-1901d8aa2717                   None  \n45  c01f049e-6ee1-4897-96b2-e72e6e566204                   None  \n46  c01f049e-6ee1-4897-96b2-e72e6e566204                   None  \n47  c1e44e32-e0e6-422a-87be-1901d8aa2717                   None  \n48  c1e44e32-e0e6-422a-87be-1901d8aa2717                   None  \n49  c1f8a382-4aaa-416a-97aa-174862aec316                   None  ",
      "text/html": "<div>\n<style scoped>\n    .dataframe tbody tr th:only-of-type {\n        vertical-align: middle;\n    }\n\n    .dataframe tbody tr th {\n        vertical-align: top;\n    }\n\n    .dataframe thead th {\n        text-align: right;\n    }\n</style>\n<table border=\"1\" class=\"dataframe\">\n  <thead>\n    <tr style=\"text-align: right;\">\n      <th></th>\n      <th>cpara_id</th>\n      <th>question_code</th>\n      <th>answer</th>\n      <th>question_type</th>\n      <th>domain</th>\n      <th>date_of_event</th>\n      <th>timestamp_created</th>\n      <th>is_void</th>\n      <th>timestamp_updated</th>\n      <th>caregiver_id</th>\n      <th>event_id</th>\n      <th>household_id</th>\n      <th>person_id</th>\n      <th>question_id</th>\n      <th>date_of_previous_event</th>\n    </tr>\n  </thead>\n  <tbody>\n    <tr>\n      <th>0</th>\n      <td>8859</td>\n      <td>CP15q</td>\n      <td>Yes</td>\n      <td>OVC</td>\n      <td>DHNU</td>\n      <td>2022-08-02</td>\n      <td>2022-05-02 00:00:00+03</td>\n      <td>f</td>\n      <td>2022-05-02 00:00:00+03</td>\n      <td>NaN</td>\n      <td>e9d0a0fe-8b17-4939-b7a9-9e0f473a16b0</td>\n      <td>NaN</td>\n      <td>NaN</td>\n      <td>c01f049e-6ee1-4897-96b2-e72e6e566204</td>\n      <td>None</td>\n    </tr>\n    <tr>\n      <th>1</th>\n      <td>8859</td>\n      <td>CP15q</td>\n      <td>Yes</td>\n      <td>OVC</td>\n      <td>DHNU</td>\n      <td>2022-08-02</td>\n      <td>2022-05-02 00:00:00+03</td>\n      <td>f</td>\n      <td>2022-05-02 00:00:00+03</td>\n      <td>NaN</td>\n      <td>e2c73acc-844e-41a4-b646-a5860bba2ddd</td>\n      <td>NaN</td>\n      <td>NaN</td>\n      <td>c01f049e-6ee1-4897-96b2-e72e6e566204</td>\n      <td>None</td>\n    </tr>\n    <tr>\n      <th>2</th>\n      <td>8859</td>\n      <td>CP15q</td>\n      <td>Yes</td>\n      <td>OVC</td>\n      <td>DHNU</td>\n      <td>2022-08-02</td>\n      <td>2022-05-02 00:00:00+03</td>\n      <td>f</td>\n      <td>2022-05-02 00:00:00+03</td>\n      <td>NaN</td>\n      <td>6bbdf88e-5010-4f24-9167-0f683870afa4</td>\n      <td>NaN</td>\n      <td>NaN</td>\n      <td>c01f049e-6ee1-4897-96b2-e72e6e566204</td>\n      <td>None</td>\n    </tr>\n    <tr>\n      <th>3</th>\n      <td>8859</td>\n      <td>CP15q</td>\n      <td>Yes</td>\n      <td>OVC</td>\n      <td>DHNU</td>\n      <td>2022-08-02</td>\n      <td>2022-05-02 00:00:00+03</td>\n      <td>f</td>\n      <td>2022-05-02 00:00:00+03</td>\n      <td>NaN</td>\n      <td>4e80f75d-3ff1-4866-ae50-21c221d93810</td>\n      <td>NaN</td>\n      <td>NaN</td>\n      <td>c01f049e-6ee1-4897-96b2-e72e6e566204</td>\n      <td>None</td>\n    </tr>\n    <tr>\n      <th>4</th>\n      <td>8859</td>\n      <td>CP15q</td>\n      <td>Yes</td>\n      <td>OVC</td>\n      <td>DHNU</td>\n      <td>2022-08-02</td>\n      <td>2022-05-02 00:00:00+03</td>\n      <td>f</td>\n      <td>2022-05-02 00:00:00+03</td>\n      <td>NaN</td>\n      <td>1f424d57-0f86-41d1-ac19-6cc05395a911</td>\n      <td>NaN</td>\n      <td>NaN</td>\n      <td>c01f049e-6ee1-4897-96b2-e72e6e566204</td>\n      <td>None</td>\n    </tr>\n    <tr>\n      <th>5</th>\n      <td>8859</td>\n      <td>CP15q</td>\n      <td>Yes</td>\n      <td>OVC</td>\n      <td>DHNU</td>\n      <td>2022-08-02</td>\n      <td>2022-05-02 00:00:00+03</td>\n      <td>f</td>\n      <td>2022-05-02 00:00:00+03</td>\n      <td>NaN</td>\n      <td>14af9fd5-3bc0-460d-a65b-8cd2c40e3f63</td>\n      <td>NaN</td>\n      <td>NaN</td>\n      <td>c01f049e-6ee1-4897-96b2-e72e6e566204</td>\n      <td>None</td>\n    </tr>\n    <tr>\n      <th>6</th>\n      <td>8859</td>\n      <td>CP15q</td>\n      <td>Yes</td>\n      <td>OVC</td>\n      <td>DHNU</td>\n      <td>2022-08-02</td>\n      <td>2022-05-02 00:00:00+03</td>\n      <td>f</td>\n      <td>2022-05-02 00:00:00+03</td>\n      <td>NaN</td>\n      <td>e8421313-a30a-44f4-a461-ee33f9e6fc90</td>\n      <td>NaN</td>\n      <td>NaN</td>\n      <td>c01f049e-6ee1-4897-96b2-e72e6e566204</td>\n      <td>None</td>\n    </tr>\n    <tr>\n      <th>7</th>\n      <td>8859</td>\n      <td>CP15q</td>\n      <td>Yes</td>\n      <td>OVC</td>\n      <td>DHNU</td>\n      <td>2022-08-02</td>\n      <td>2022-05-02 00:00:00+03</td>\n      <td>f</td>\n      <td>2022-05-02 00:00:00+03</td>\n      <td>NaN</td>\n      <td>10a4ed8d-fea8-4404-b35c-88b61b4da554</td>\n      <td>NaN</td>\n      <td>NaN</td>\n      <td>c01f049e-6ee1-4897-96b2-e72e6e566204</td>\n      <td>None</td>\n    </tr>\n    <tr>\n      <th>8</th>\n      <td>8859</td>\n      <td>CP15q</td>\n      <td>Yes</td>\n      <td>OVC</td>\n      <td>DHNU</td>\n      <td>2022-08-02</td>\n      <td>2022-05-02 00:00:00+03</td>\n      <td>f</td>\n      <td>2022-05-02 00:00:00+03</td>\n      <td>NaN</td>\n      <td>bd7d40da-0bd8-49c4-a178-aea09bbef5a1</td>\n      <td>NaN</td>\n      <td>NaN</td>\n      <td>c01f049e-6ee1-4897-96b2-e72e6e566204</td>\n      <td>None</td>\n    </tr>\n    <tr>\n      <th>9</th>\n      <td>8859</td>\n      <td>CP15q</td>\n      <td>Yes</td>\n      <td>OVC</td>\n      <td>DHNU</td>\n      <td>2022-08-02</td>\n      <td>2022-05-02 00:00:00+03</td>\n      <td>f</td>\n      <td>2022-05-02 00:00:00+03</td>\n      <td>NaN</td>\n      <td>010a9cba-37f3-442a-b02e-08fa25e47059</td>\n      <td>NaN</td>\n      <td>NaN</td>\n      <td>c01f049e-6ee1-4897-96b2-e72e6e566204</td>\n      <td>None</td>\n    </tr>\n    <tr>\n      <th>10</th>\n      <td>8859</td>\n      <td>CP15q</td>\n      <td>Yes</td>\n      <td>OVC</td>\n      <td>DHNU</td>\n      <td>2022-08-02</td>\n      <td>2022-05-02 00:00:00+03</td>\n      <td>f</td>\n      <td>2022-05-02 00:00:00+03</td>\n      <td>NaN</td>\n      <td>2695629c-2b50-4502-a6db-673666dd3c4a</td>\n      <td>NaN</td>\n      <td>NaN</td>\n      <td>c01f049e-6ee1-4897-96b2-e72e6e566204</td>\n      <td>None</td>\n    </tr>\n    <tr>\n      <th>11</th>\n      <td>8859</td>\n      <td>CP15q</td>\n      <td>Yes</td>\n      <td>OVC</td>\n      <td>DHNU</td>\n      <td>2022-08-02</td>\n      <td>2022-05-02 00:00:00+03</td>\n      <td>f</td>\n      <td>2022-05-02 00:00:00+03</td>\n      <td>NaN</td>\n      <td>11050204-e01d-472f-90ec-d7efb44d1372</td>\n      <td>NaN</td>\n      <td>NaN</td>\n      <td>c01f049e-6ee1-4897-96b2-e72e6e566204</td>\n      <td>None</td>\n    </tr>\n    <tr>\n      <th>12</th>\n      <td>8859</td>\n      <td>CP15q</td>\n      <td>Yes</td>\n      <td>OVC</td>\n      <td>DHNU</td>\n      <td>2022-08-02</td>\n      <td>2022-05-02 00:00:00+03</td>\n      <td>f</td>\n      <td>2022-05-02 00:00:00+03</td>\n      <td>NaN</td>\n      <td>6e7f20aa-4372-40ee-8c26-c25ec730fe98</td>\n      <td>NaN</td>\n      <td>NaN</td>\n      <td>c01f049e-6ee1-4897-96b2-e72e6e566204</td>\n      <td>None</td>\n    </tr>\n    <tr>\n      <th>13</th>\n      <td>8859</td>\n      <td>CP15q</td>\n      <td>Yes</td>\n      <td>OVC</td>\n      <td>DHNU</td>\n      <td>2022-08-02</td>\n      <td>2022-05-02 00:00:00+03</td>\n      <td>f</td>\n      <td>2022-05-02 00:00:00+03</td>\n      <td>NaN</td>\n      <td>8ec3a812-599e-40f8-8a19-0a7473ec3435</td>\n      <td>NaN</td>\n      <td>NaN</td>\n      <td>c01f049e-6ee1-4897-96b2-e72e6e566204</td>\n      <td>None</td>\n    </tr>\n    <tr>\n      <th>14</th>\n      <td>8859</td>\n      <td>CP15q</td>\n      <td>Yes</td>\n      <td>OVC</td>\n      <td>DHNU</td>\n      <td>2022-08-02</td>\n      <td>2022-05-02 00:00:00+03</td>\n      <td>f</td>\n      <td>2022-05-02 00:00:00+03</td>\n      <td>NaN</td>\n      <td>00e7df1c-cdd4-4acf-abed-8dc04d32db87</td>\n      <td>NaN</td>\n      <td>NaN</td>\n      <td>c01f049e-6ee1-4897-96b2-e72e6e566204</td>\n      <td>None</td>\n    </tr>\n    <tr>\n      <th>15</th>\n      <td>8859</td>\n      <td>CP15q</td>\n      <td>Yes</td>\n      <td>OVC</td>\n      <td>DHNU</td>\n      <td>2022-08-02</td>\n      <td>2022-05-02 00:00:00+03</td>\n      <td>f</td>\n      <td>2022-05-02 00:00:00+03</td>\n      <td>NaN</td>\n      <td>a7cc6fbd-c6c8-4962-9999-28fe8d76b527</td>\n      <td>NaN</td>\n      <td>NaN</td>\n      <td>c01f049e-6ee1-4897-96b2-e72e6e566204</td>\n      <td>None</td>\n    </tr>\n    <tr>\n      <th>16</th>\n      <td>8859</td>\n      <td>CP15q</td>\n      <td>Yes</td>\n      <td>OVC</td>\n      <td>DHNU</td>\n      <td>2022-08-02</td>\n      <td>2022-05-02 00:00:00+03</td>\n      <td>f</td>\n      <td>2022-05-02 00:00:00+03</td>\n      <td>NaN</td>\n      <td>6dec953b-8c6e-4670-8267-90cc2d6663b0</td>\n      <td>NaN</td>\n      <td>NaN</td>\n      <td>c01f049e-6ee1-4897-96b2-e72e6e566204</td>\n      <td>None</td>\n    </tr>\n    <tr>\n      <th>17</th>\n      <td>8859</td>\n      <td>CP15q</td>\n      <td>Yes</td>\n      <td>OVC</td>\n      <td>DHNU</td>\n      <td>2022-08-02</td>\n      <td>2022-05-02 00:00:00+03</td>\n      <td>f</td>\n      <td>2022-05-02 00:00:00+03</td>\n      <td>NaN</td>\n      <td>a4f8de7c-1272-4d56-87fc-2e19039f3764</td>\n      <td>NaN</td>\n      <td>NaN</td>\n      <td>c01f049e-6ee1-4897-96b2-e72e6e566204</td>\n      <td>None</td>\n    </tr>\n    <tr>\n      <th>18</th>\n      <td>8859</td>\n      <td>CP15q</td>\n      <td>Yes</td>\n      <td>OVC</td>\n      <td>DHNU</td>\n      <td>2022-08-02</td>\n      <td>2022-05-02 00:00:00+03</td>\n      <td>f</td>\n      <td>2022-05-02 00:00:00+03</td>\n      <td>NaN</td>\n      <td>4ad4a7cc-39be-40ce-b591-4b4892d926a1</td>\n      <td>NaN</td>\n      <td>NaN</td>\n      <td>c01f049e-6ee1-4897-96b2-e72e6e566204</td>\n      <td>None</td>\n    </tr>\n    <tr>\n      <th>19</th>\n      <td>8859</td>\n      <td>CP15q</td>\n      <td>Yes</td>\n      <td>OVC</td>\n      <td>DHNU</td>\n      <td>2022-08-02</td>\n      <td>2022-05-02 00:00:00+03</td>\n      <td>f</td>\n      <td>2022-05-02 00:00:00+03</td>\n      <td>NaN</td>\n      <td>5628dc27-da05-481a-bc35-07cf45633fd2</td>\n      <td>NaN</td>\n      <td>NaN</td>\n      <td>c01f049e-6ee1-4897-96b2-e72e6e566204</td>\n      <td>None</td>\n    </tr>\n    <tr>\n      <th>20</th>\n      <td>8859</td>\n      <td>CP15q</td>\n      <td>Yes</td>\n      <td>OVC</td>\n      <td>DHNU</td>\n      <td>2022-08-02</td>\n      <td>2022-05-02 00:00:00+03</td>\n      <td>f</td>\n      <td>2022-05-02 00:00:00+03</td>\n      <td>NaN</td>\n      <td>1ca8871e-5e1d-44bd-b48c-b1b128ca618c</td>\n      <td>NaN</td>\n      <td>NaN</td>\n      <td>c01f049e-6ee1-4897-96b2-e72e6e566204</td>\n      <td>None</td>\n    </tr>\n    <tr>\n      <th>21</th>\n      <td>8859</td>\n      <td>CP15q</td>\n      <td>Yes</td>\n      <td>OVC</td>\n      <td>DHNU</td>\n      <td>2022-08-02</td>\n      <td>2022-05-02 00:00:00+03</td>\n      <td>f</td>\n      <td>2022-05-02 00:00:00+03</td>\n      <td>NaN</td>\n      <td>83103abf-8648-4f43-b115-0860402f0077</td>\n      <td>NaN</td>\n      <td>NaN</td>\n      <td>c01f049e-6ee1-4897-96b2-e72e6e566204</td>\n      <td>None</td>\n    </tr>\n    <tr>\n      <th>22</th>\n      <td>8859</td>\n      <td>CP15q</td>\n      <td>Yes</td>\n      <td>OVC</td>\n      <td>DHNU</td>\n      <td>2022-08-02</td>\n      <td>2022-05-02 00:00:00+03</td>\n      <td>f</td>\n      <td>2022-05-02 00:00:00+03</td>\n      <td>NaN</td>\n      <td>91391aef-919b-41fe-a6e2-a7021d9f2d5a</td>\n      <td>NaN</td>\n      <td>NaN</td>\n      <td>c01f049e-6ee1-4897-96b2-e72e6e566204</td>\n      <td>None</td>\n    </tr>\n    <tr>\n      <th>23</th>\n      <td>8859</td>\n      <td>CP15q</td>\n      <td>Yes</td>\n      <td>OVC</td>\n      <td>DHNU</td>\n      <td>2022-08-02</td>\n      <td>2022-05-02 00:00:00+03</td>\n      <td>f</td>\n      <td>2022-05-02 00:00:00+03</td>\n      <td>NaN</td>\n      <td>d4a38420-6aef-4fe7-ba88-503f43dfb7e4</td>\n      <td>NaN</td>\n      <td>NaN</td>\n      <td>c01f049e-6ee1-4897-96b2-e72e6e566204</td>\n      <td>None</td>\n    </tr>\n    <tr>\n      <th>24</th>\n      <td>8859</td>\n      <td>CP15q</td>\n      <td>Yes</td>\n      <td>OVC</td>\n      <td>DHNU</td>\n      <td>2022-08-02</td>\n      <td>2022-05-02 00:00:00+03</td>\n      <td>f</td>\n      <td>2022-05-02 00:00:00+03</td>\n      <td>NaN</td>\n      <td>8e02e2d8-2c9e-4492-9be6-895f946dad8f</td>\n      <td>NaN</td>\n      <td>NaN</td>\n      <td>c01f049e-6ee1-4897-96b2-e72e6e566204</td>\n      <td>None</td>\n    </tr>\n    <tr>\n      <th>25</th>\n      <td>8859</td>\n      <td>CP15q</td>\n      <td>Yes</td>\n      <td>OVC</td>\n      <td>DHNU</td>\n      <td>2022-08-02</td>\n      <td>2022-05-02 00:00:00+03</td>\n      <td>f</td>\n      <td>2022-05-02 00:00:00+03</td>\n      <td>NaN</td>\n      <td>78e0e5eb-bdf2-4ad5-bc07-3e20edeca6aa</td>\n      <td>NaN</td>\n      <td>NaN</td>\n      <td>c01f049e-6ee1-4897-96b2-e72e6e566204</td>\n      <td>None</td>\n    </tr>\n    <tr>\n      <th>26</th>\n      <td>8859</td>\n      <td>CP15q</td>\n      <td>Yes</td>\n      <td>OVC</td>\n      <td>DHNU</td>\n      <td>2022-08-02</td>\n      <td>2022-05-02 00:00:00+03</td>\n      <td>f</td>\n      <td>2022-05-02 00:00:00+03</td>\n      <td>NaN</td>\n      <td>3de6ee3b-8b2a-49af-8e56-1b056d748c2d</td>\n      <td>NaN</td>\n      <td>NaN</td>\n      <td>c01f049e-6ee1-4897-96b2-e72e6e566204</td>\n      <td>None</td>\n    </tr>\n    <tr>\n      <th>27</th>\n      <td>8859</td>\n      <td>CP16q</td>\n      <td>Yes</td>\n      <td>OVC</td>\n      <td>DHNU</td>\n      <td>2022-08-02</td>\n      <td>2022-05-02 00:00:00+03</td>\n      <td>f</td>\n      <td>2022-05-02 00:00:00+03</td>\n      <td>NaN</td>\n      <td>e9d0a0fe-8b17-4939-b7a9-9e0f473a16b0</td>\n      <td>NaN</td>\n      <td>NaN</td>\n      <td>c1e44e32-e0e6-422a-87be-1901d8aa2717</td>\n      <td>None</td>\n    </tr>\n    <tr>\n      <th>28</th>\n      <td>8859</td>\n      <td>CP16q</td>\n      <td>Yes</td>\n      <td>OVC</td>\n      <td>DHNU</td>\n      <td>2022-08-02</td>\n      <td>2022-05-02 00:00:00+03</td>\n      <td>f</td>\n      <td>2022-05-02 00:00:00+03</td>\n      <td>NaN</td>\n      <td>e2c73acc-844e-41a4-b646-a5860bba2ddd</td>\n      <td>NaN</td>\n      <td>NaN</td>\n      <td>c1e44e32-e0e6-422a-87be-1901d8aa2717</td>\n      <td>None</td>\n    </tr>\n    <tr>\n      <th>29</th>\n      <td>8859</td>\n      <td>CP16q</td>\n      <td>Yes</td>\n      <td>OVC</td>\n      <td>DHNU</td>\n      <td>2022-08-02</td>\n      <td>2022-05-02 00:00:00+03</td>\n      <td>f</td>\n      <td>2022-05-02 00:00:00+03</td>\n      <td>NaN</td>\n      <td>6bbdf88e-5010-4f24-9167-0f683870afa4</td>\n      <td>NaN</td>\n      <td>NaN</td>\n      <td>c1e44e32-e0e6-422a-87be-1901d8aa2717</td>\n      <td>None</td>\n    </tr>\n    <tr>\n      <th>30</th>\n      <td>8859</td>\n      <td>CP16q</td>\n      <td>Yes</td>\n      <td>OVC</td>\n      <td>DHNU</td>\n      <td>2022-08-02</td>\n      <td>2022-05-02 00:00:00+03</td>\n      <td>f</td>\n      <td>2022-05-02 00:00:00+03</td>\n      <td>NaN</td>\n      <td>4e80f75d-3ff1-4866-ae50-21c221d93810</td>\n      <td>NaN</td>\n      <td>NaN</td>\n      <td>c1e44e32-e0e6-422a-87be-1901d8aa2717</td>\n      <td>None</td>\n    </tr>\n    <tr>\n      <th>31</th>\n      <td>8859</td>\n      <td>CP16q</td>\n      <td>Yes</td>\n      <td>OVC</td>\n      <td>DHNU</td>\n      <td>2022-08-02</td>\n      <td>2022-05-02 00:00:00+03</td>\n      <td>f</td>\n      <td>2022-05-02 00:00:00+03</td>\n      <td>NaN</td>\n      <td>1f424d57-0f86-41d1-ac19-6cc05395a911</td>\n      <td>NaN</td>\n      <td>NaN</td>\n      <td>c1e44e32-e0e6-422a-87be-1901d8aa2717</td>\n      <td>None</td>\n    </tr>\n    <tr>\n      <th>32</th>\n      <td>8859</td>\n      <td>CP16q</td>\n      <td>Yes</td>\n      <td>OVC</td>\n      <td>DHNU</td>\n      <td>2022-08-02</td>\n      <td>2022-05-02 00:00:00+03</td>\n      <td>f</td>\n      <td>2022-05-02 00:00:00+03</td>\n      <td>NaN</td>\n      <td>14af9fd5-3bc0-460d-a65b-8cd2c40e3f63</td>\n      <td>NaN</td>\n      <td>NaN</td>\n      <td>c1e44e32-e0e6-422a-87be-1901d8aa2717</td>\n      <td>None</td>\n    </tr>\n    <tr>\n      <th>33</th>\n      <td>8859</td>\n      <td>CP16q</td>\n      <td>Yes</td>\n      <td>OVC</td>\n      <td>DHNU</td>\n      <td>2022-08-02</td>\n      <td>2022-05-02 00:00:00+03</td>\n      <td>f</td>\n      <td>2022-05-02 00:00:00+03</td>\n      <td>NaN</td>\n      <td>e8421313-a30a-44f4-a461-ee33f9e6fc90</td>\n      <td>NaN</td>\n      <td>NaN</td>\n      <td>c1e44e32-e0e6-422a-87be-1901d8aa2717</td>\n      <td>None</td>\n    </tr>\n    <tr>\n      <th>34</th>\n      <td>8859</td>\n      <td>CP16q</td>\n      <td>Yes</td>\n      <td>OVC</td>\n      <td>DHNU</td>\n      <td>2022-08-02</td>\n      <td>2022-05-02 00:00:00+03</td>\n      <td>f</td>\n      <td>2022-05-02 00:00:00+03</td>\n      <td>NaN</td>\n      <td>10a4ed8d-fea8-4404-b35c-88b61b4da554</td>\n      <td>NaN</td>\n      <td>NaN</td>\n      <td>c1e44e32-e0e6-422a-87be-1901d8aa2717</td>\n      <td>None</td>\n    </tr>\n    <tr>\n      <th>35</th>\n      <td>8859</td>\n      <td>CP16q</td>\n      <td>Yes</td>\n      <td>OVC</td>\n      <td>DHNU</td>\n      <td>2022-08-02</td>\n      <td>2022-05-02 00:00:00+03</td>\n      <td>f</td>\n      <td>2022-05-02 00:00:00+03</td>\n      <td>NaN</td>\n      <td>bd7d40da-0bd8-49c4-a178-aea09bbef5a1</td>\n      <td>NaN</td>\n      <td>NaN</td>\n      <td>c1e44e32-e0e6-422a-87be-1901d8aa2717</td>\n      <td>None</td>\n    </tr>\n    <tr>\n      <th>36</th>\n      <td>8859</td>\n      <td>CP16q</td>\n      <td>Yes</td>\n      <td>OVC</td>\n      <td>DHNU</td>\n      <td>2022-08-02</td>\n      <td>2022-05-02 00:00:00+03</td>\n      <td>f</td>\n      <td>2022-05-02 00:00:00+03</td>\n      <td>NaN</td>\n      <td>010a9cba-37f3-442a-b02e-08fa25e47059</td>\n      <td>NaN</td>\n      <td>NaN</td>\n      <td>c1e44e32-e0e6-422a-87be-1901d8aa2717</td>\n      <td>None</td>\n    </tr>\n    <tr>\n      <th>37</th>\n      <td>8859</td>\n      <td>CP16q</td>\n      <td>Yes</td>\n      <td>OVC</td>\n      <td>DHNU</td>\n      <td>2022-08-02</td>\n      <td>2022-05-02 00:00:00+03</td>\n      <td>f</td>\n      <td>2022-05-02 00:00:00+03</td>\n      <td>NaN</td>\n      <td>2695629c-2b50-4502-a6db-673666dd3c4a</td>\n      <td>NaN</td>\n      <td>NaN</td>\n      <td>c1e44e32-e0e6-422a-87be-1901d8aa2717</td>\n      <td>None</td>\n    </tr>\n    <tr>\n      <th>38</th>\n      <td>8859</td>\n      <td>CP16q</td>\n      <td>Yes</td>\n      <td>OVC</td>\n      <td>DHNU</td>\n      <td>2022-08-02</td>\n      <td>2022-05-02 00:00:00+03</td>\n      <td>f</td>\n      <td>2022-05-02 00:00:00+03</td>\n      <td>NaN</td>\n      <td>11050204-e01d-472f-90ec-d7efb44d1372</td>\n      <td>NaN</td>\n      <td>NaN</td>\n      <td>c1e44e32-e0e6-422a-87be-1901d8aa2717</td>\n      <td>None</td>\n    </tr>\n    <tr>\n      <th>39</th>\n      <td>8859</td>\n      <td>CP16q</td>\n      <td>Yes</td>\n      <td>OVC</td>\n      <td>DHNU</td>\n      <td>2022-08-02</td>\n      <td>2022-05-02 00:00:00+03</td>\n      <td>f</td>\n      <td>2022-05-02 00:00:00+03</td>\n      <td>NaN</td>\n      <td>6e7f20aa-4372-40ee-8c26-c25ec730fe98</td>\n      <td>NaN</td>\n      <td>NaN</td>\n      <td>c1e44e32-e0e6-422a-87be-1901d8aa2717</td>\n      <td>None</td>\n    </tr>\n    <tr>\n      <th>40</th>\n      <td>8859</td>\n      <td>CP16q</td>\n      <td>Yes</td>\n      <td>OVC</td>\n      <td>DHNU</td>\n      <td>2022-08-02</td>\n      <td>2022-05-02 00:00:00+03</td>\n      <td>f</td>\n      <td>2022-05-02 00:00:00+03</td>\n      <td>NaN</td>\n      <td>8ec3a812-599e-40f8-8a19-0a7473ec3435</td>\n      <td>NaN</td>\n      <td>NaN</td>\n      <td>c1e44e32-e0e6-422a-87be-1901d8aa2717</td>\n      <td>None</td>\n    </tr>\n    <tr>\n      <th>41</th>\n      <td>8859</td>\n      <td>CP16q</td>\n      <td>Yes</td>\n      <td>OVC</td>\n      <td>DHNU</td>\n      <td>2022-08-02</td>\n      <td>2022-05-02 00:00:00+03</td>\n      <td>f</td>\n      <td>2022-05-02 00:00:00+03</td>\n      <td>NaN</td>\n      <td>00e7df1c-cdd4-4acf-abed-8dc04d32db87</td>\n      <td>NaN</td>\n      <td>NaN</td>\n      <td>c1e44e32-e0e6-422a-87be-1901d8aa2717</td>\n      <td>None</td>\n    </tr>\n    <tr>\n      <th>42</th>\n      <td>8859</td>\n      <td>CP16q</td>\n      <td>Yes</td>\n      <td>OVC</td>\n      <td>DHNU</td>\n      <td>2022-08-02</td>\n      <td>2022-05-02 00:00:00+03</td>\n      <td>f</td>\n      <td>2022-05-02 00:00:00+03</td>\n      <td>NaN</td>\n      <td>a7cc6fbd-c6c8-4962-9999-28fe8d76b527</td>\n      <td>NaN</td>\n      <td>NaN</td>\n      <td>c1e44e32-e0e6-422a-87be-1901d8aa2717</td>\n      <td>None</td>\n    </tr>\n    <tr>\n      <th>43</th>\n      <td>8859</td>\n      <td>CP16q</td>\n      <td>Yes</td>\n      <td>OVC</td>\n      <td>DHNU</td>\n      <td>2022-08-02</td>\n      <td>2022-05-02 00:00:00+03</td>\n      <td>f</td>\n      <td>2022-05-02 00:00:00+03</td>\n      <td>NaN</td>\n      <td>6dec953b-8c6e-4670-8267-90cc2d6663b0</td>\n      <td>NaN</td>\n      <td>NaN</td>\n      <td>c1e44e32-e0e6-422a-87be-1901d8aa2717</td>\n      <td>None</td>\n    </tr>\n    <tr>\n      <th>44</th>\n      <td>8859</td>\n      <td>CP16q</td>\n      <td>Yes</td>\n      <td>OVC</td>\n      <td>DHNU</td>\n      <td>2022-08-02</td>\n      <td>2022-05-02 00:00:00+03</td>\n      <td>f</td>\n      <td>2022-05-02 00:00:00+03</td>\n      <td>NaN</td>\n      <td>a4f8de7c-1272-4d56-87fc-2e19039f3764</td>\n      <td>NaN</td>\n      <td>NaN</td>\n      <td>c1e44e32-e0e6-422a-87be-1901d8aa2717</td>\n      <td>None</td>\n    </tr>\n    <tr>\n      <th>45</th>\n      <td>8861</td>\n      <td>CP15q</td>\n      <td>Yes</td>\n      <td>OVC</td>\n      <td>DHNU</td>\n      <td>2022-08-04</td>\n      <td>2022-05-02 00:00:00+03</td>\n      <td>f</td>\n      <td>2022-05-02 00:00:00+03</td>\n      <td>NaN</td>\n      <td>NaN</td>\n      <td>NaN</td>\n      <td>NaN</td>\n      <td>c01f049e-6ee1-4897-96b2-e72e6e566204</td>\n      <td>None</td>\n    </tr>\n    <tr>\n      <th>46</th>\n      <td>8861</td>\n      <td>CP15q</td>\n      <td>Yes</td>\n      <td>OVC</td>\n      <td>DHNU</td>\n      <td>2022-08-04</td>\n      <td>2022-05-02 00:00:00+03</td>\n      <td>f</td>\n      <td>2022-05-02 00:00:00+03</td>\n      <td>NaN</td>\n      <td>NaN</td>\n      <td>NaN</td>\n      <td>NaN</td>\n      <td>c01f049e-6ee1-4897-96b2-e72e6e566204</td>\n      <td>None</td>\n    </tr>\n    <tr>\n      <th>47</th>\n      <td>8861</td>\n      <td>CP16q</td>\n      <td>Yes</td>\n      <td>OVC</td>\n      <td>DHNU</td>\n      <td>2022-08-04</td>\n      <td>2022-05-02 00:00:00+03</td>\n      <td>f</td>\n      <td>2022-05-02 00:00:00+03</td>\n      <td>NaN</td>\n      <td>NaN</td>\n      <td>NaN</td>\n      <td>NaN</td>\n      <td>c1e44e32-e0e6-422a-87be-1901d8aa2717</td>\n      <td>None</td>\n    </tr>\n    <tr>\n      <th>48</th>\n      <td>8861</td>\n      <td>CP16q</td>\n      <td>Yes</td>\n      <td>OVC</td>\n      <td>DHNU</td>\n      <td>2022-08-04</td>\n      <td>2022-05-02 00:00:00+03</td>\n      <td>f</td>\n      <td>2022-05-02 00:00:00+03</td>\n      <td>NaN</td>\n      <td>NaN</td>\n      <td>NaN</td>\n      <td>NaN</td>\n      <td>c1e44e32-e0e6-422a-87be-1901d8aa2717</td>\n      <td>None</td>\n    </tr>\n    <tr>\n      <th>49</th>\n      <td>8861</td>\n      <td>CP17q</td>\n      <td>Yes</td>\n      <td>OVC</td>\n      <td>DHNU</td>\n      <td>2022-08-04</td>\n      <td>2022-05-02 00:00:00+03</td>\n      <td>f</td>\n      <td>2022-05-02 00:00:00+03</td>\n      <td>NaN</td>\n      <td>NaN</td>\n      <td>NaN</td>\n      <td>NaN</td>\n      <td>c1f8a382-4aaa-416a-97aa-174862aec316</td>\n      <td>None</td>\n    </tr>\n  </tbody>\n</table>\n</div>"
     },
     "execution_count": 34,
     "metadata": {},
     "output_type": "execute_result"
    }
   ],
   "source": [
    "# new_cpims_individual_cpara['caregiver_id'].unique()\n",
    "# count_cpara=new_cpims_individual_cpara.groupby(['caregiver_id']).count().reset_index()\n",
    "new_cpims_individual_cpara .head(50)"
   ],
   "metadata": {
    "collapsed": false
   }
  },
  {
   "cell_type": "code",
   "execution_count": 35,
   "metadata": {},
   "outputs": [],
   "source": [
    "\n",
    "new_cpims_individual_cpara.to_csv(\"cpims_individual_cpara.csv\")\n"
   ]
  },
  {
   "cell_type": "code",
   "execution_count": null,
   "metadata": {},
   "outputs": [],
   "source": []
  }
 ],
 "metadata": {
  "kernelspec": {
   "display_name": "Python 3 (ipykernel)",
   "language": "python",
   "name": "python3"
  },
  "language_info": {
   "codemirror_mode": {
    "name": "ipython",
    "version": 3
   },
   "file_extension": ".py",
   "mimetype": "text/x-python",
   "name": "python",
   "nbconvert_exporter": "python",
   "pygments_lexer": "ipython3",
   "version": "3.10.6"
  }
 },
 "nbformat": 4,
 "nbformat_minor": 1
}

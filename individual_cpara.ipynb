{
 "cells": [
  {
   "cell_type": "code",
   "execution_count": 1,
   "metadata": {},
   "outputs": [],
   "source": [
    "import pandas as pd\n"
   ]
  },
  {
   "cell_type": "code",
   "execution_count": 2,
   "metadata": {},
   "outputs": [
    {
     "data": {
      "text/plain": "<bound method NDFrame.head of        Unnamed: 0                             household  caregiver_id  \\\n0               0  29d199db-2f32-4025-bb9b-94357558550b      105151.0   \n1               1  29d199db-2f32-4025-bb9b-94357558550b      105151.0   \n2               2  ae1ff881-bf28-471a-9a03-3efceed4d96a      105151.0   \n3               3  ae1ff881-bf28-471a-9a03-3efceed4d96a      105151.0   \n4               4  ae1ff881-bf28-471a-9a03-3efceed4d96a      105151.0   \n...           ...                                   ...           ...   \n32555       32555  4a086c11-ef85-413f-9a1c-f04b15b1b9ef     1690129.0   \n32556       32556  4a086c11-ef85-413f-9a1c-f04b15b1b9ef     1690129.0   \n32557       32557  4a086c11-ef85-413f-9a1c-f04b15b1b9ef     1690129.0   \n32558       32558  4a086c11-ef85-413f-9a1c-f04b15b1b9ef     1690129.0   \n32559       32559  4a086c11-ef85-413f-9a1c-f04b15b1b9ef     1690129.0   \n\n       cpims_ovc_id                              event_id  \n0         4282788.0  16142843-84ab-4cbe-9edd-de02ac81eef9  \n1         4282807.0  785a1f6b-6301-40dd-ac67-72b5f059d121  \n2         4282821.0  7f01d8ad-610d-45b7-b264-67394e187725  \n3         4282788.0  9bcd6b88-5fa6-40b8-91c8-9842fbef2cd8  \n4         4282807.0  51912c52-d68e-4abc-a046-4044e1c93d3a  \n...             ...                                   ...  \n32555     3493295.0  f10edc92-4f6d-4e0e-9ddc-85eabbec4ee2  \n32556     3493302.0  885c5224-747c-46d3-a7d0-62b9e7bed9e0  \n32557     1857116.0  bd067ee0-3dcd-41d1-8cfc-5a552959e019  \n32558     3493310.0  d543e9a2-47a3-41f1-9549-16a364310a6d  \n32559     3493295.0  7e1faac3-b647-47d9-97ae-59dd80d118a6  \n\n[32560 rows x 5 columns]>"
     },
     "execution_count": 2,
     "metadata": {},
     "output_type": "execute_result"
    }
   ],
   "source": [
    "read_ovc_questions = pd.read_excel('Data/OVC_Questions.xlsx', sheet_name=\"Sheet1\")\n",
    "ovc_care_questions = pd.read_excel('Data/ovc_care_questions.xlsx', sheet_name=\"healthit - ovc_care_questions\")\n",
    "cpims_hhs=pd.read_csv(\"Data/Household ID OVC Mapping.csv\")\n",
    "cpara_event_id=pd.read_csv(\"Data/event_id_uids.csv\")\n",
    "cpara_event_id.head"
   ]
  },
  {
   "cell_type": "code",
   "execution_count": 3,
   "metadata": {},
   "outputs": [
    {
     "data": {
      "text/plain": "Index(['question_id', 'code', 'question_x', 'domain', 'question_text',\n       'question_type', 'is_void', 'timestamp_created', 'timestamp_updated',\n       'form_id', 'CURRENT cPARA', 'ind_cpara', 'cpara', 'record_id',\n       'cpara_record_id', 'cpara_date', 'question_y', 'response', 'cpims_id',\n       'caregiver_id', 'chv_id'],\n      dtype='object')"
     },
     "execution_count": 3,
     "metadata": {},
     "output_type": "execute_result"
    }
   ],
   "source": [
    "cpims_cpara = pd.merge(ovc_care_questions, read_ovc_questions ,how='left', left_on='ind_cpara', right_on='question')\n",
    "cpims_cpara.columns"
   ]
  },
  {
   "cell_type": "code",
   "execution_count": 4,
   "metadata": {},
   "outputs": [
    {
     "data": {
      "text/plain": "Index(['question_id', 'code', 'question_x', 'domain', 'question_text',\n       'question_type', 'is_void', 'timestamp_created', 'timestamp_updated',\n       'form_id', 'CURRENT cPARA', 'ind_cpara', 'cpara', 'record_id',\n       'cpara_record_id', 'cpara_date', 'question_y', 'response', 'cpims_id',\n       'caregiver_id', 'chv_id', 'Unnamed: 0', 'cpims_ovc_id', 'household'],\n      dtype='object')"
     },
     "execution_count": 4,
     "metadata": {},
     "output_type": "execute_result"
    }
   ],
   "source": [
    "individual_cpara=pd.merge(cpims_cpara,cpims_hhs, how='left', on='caregiver_id')\n",
    "individual_cpara.columns\n"
   ]
  },
  {
   "cell_type": "code",
   "execution_count": 6,
   "outputs": [
    {
     "name": "stdout",
     "output_type": "stream",
     "text": [
      "(6781870, 24)\n",
      "(32560, 5)\n",
      "question_id            0\n",
      "code                   0\n",
      "question_x             0\n",
      "domain                 0\n",
      "question_text          0\n",
      "question_type          0\n",
      "is_void                0\n",
      "timestamp_created      0\n",
      "timestamp_updated      0\n",
      "form_id                0\n",
      "CURRENT cPARA        256\n",
      "ind_cpara            288\n",
      "cpara                257\n",
      "record_id            288\n",
      "cpara_record_id      288\n",
      "cpara_date           288\n",
      "question_y           288\n",
      "response             288\n",
      "cpims_id             288\n",
      "caregiver_id         288\n",
      "chv_id               288\n",
      "Unnamed: 0           394\n",
      "cpims_ovc_id         394\n",
      "household            394\n",
      "dtype: int64\n",
      "Unnamed: 0      0\n",
      "household       4\n",
      "caregiver_id    4\n",
      "cpims_ovc_id    4\n",
      "event_id        0\n",
      "dtype: int64\n",
      "781778\n",
      "0\n"
     ]
    }
   ],
   "source": [
    "print(individual_cpara.shape)\n",
    "print(cpara_event_id.shape)\n",
    "print(individual_cpara.isnull().sum())\n",
    "print(cpara_event_id.isnull().sum())\n",
    "\n",
    "print(individual_cpara.duplicated().sum())\n",
    "print(cpara_event_id.duplicated().sum())\n",
    "\n",
    "caregiver_id         288"
   ],
   "metadata": {
    "collapsed": false
   }
  },
  {
   "cell_type": "code",
   "execution_count": null,
   "metadata": {
    "pycharm": {
     "is_executing": true
    }
   },
   "outputs": [],
   "source": [
    "individual_cpara_event=pd.merge(individual_cpara,cpara_event_id, how='left', on='caregiver_id')\n",
    "individual_cpara_event.columns"
   ]
  },
  {
   "cell_type": "code",
   "execution_count": null,
   "metadata": {},
   "outputs": [],
   "source": [
    "cpims_individual_cpara = individual_cpara[['cpara_record_id','code', 'response','question_type','domain', 'cpara_date','timestamp_created','is_void', 'timestamp_updated','caregiver_id','event_id','household','cpims_ovc_id','question_id']]\n",
    "cpims_individual_cpara.head(5)\n"
   ]
  },
  {
   "cell_type": "code",
   "execution_count": null,
   "metadata": {},
   "outputs": [],
   "source": [
    "cpims_individual_cpara['caregiver_id'].unique()\n",
    "count_cpara=cpims_individual_cpara.groupby(['caregiver_id']).count()\n"
   ]
  },
  {
   "cell_type": "code",
   "execution_count": null,
   "metadata": {},
   "outputs": [],
   "source": [
    "new_cpims_individual_cpara = count_cpara.rename(columns={\n",
    "    'cpara_record_id': 'cpara_id',\n",
    "    'code': 'question_code',\n",
    "    'response': 'answer',\n",
    "    'question_type': 'question_type',\n",
    "    'domain': 'domain',\n",
    "    'cpara_date': 'date_of_event',\n",
    "    'timestamp_created': 'timestamp_created',\n",
    "    'is_void': 'is_void',\n",
    "    'timestamp_updated': 'timestamp_updated',\n",
    "    'caregiver_id': 'caregiver_id',\n",
    "    'event_id':'event_id',\n",
    "    'household': 'household_id',\n",
    "    'cpims_ovc_id': 'person_id',\n",
    "    'question_id': 'question_id',\n",
    "\n",
    "\n",
    "\n",
    "})\n",
    "\n",
    "# Add additional columns to match the specified names\n",
    "new_cpims_individual_cpara['date_of_previous_event'] = None\n",
    "\n",
    "new_cpims_individual_cpara.head(3)\n"
   ]
  },
  {
   "cell_type": "code",
   "execution_count": null,
   "metadata": {},
   "outputs": [],
   "source": [
    "\n",
    "new_cpims_individual_cpara.to_csv(\"cpims_individual_cpara.csv\")\n"
   ]
  },
  {
   "cell_type": "code",
   "execution_count": null,
   "metadata": {},
   "outputs": [],
   "source": []
  }
 ],
 "metadata": {
  "kernelspec": {
   "display_name": "Python 3 (ipykernel)",
   "language": "python",
   "name": "python3"
  },
  "language_info": {
   "codemirror_mode": {
    "name": "ipython",
    "version": 3
   },
   "file_extension": ".py",
   "mimetype": "text/x-python",
   "name": "python",
   "nbconvert_exporter": "python",
   "pygments_lexer": "ipython3",
   "version": "3.10.6"
  }
 },
 "nbformat": 4,
 "nbformat_minor": 1
}
